{
 "cells": [
  {
   "cell_type": "markdown",
   "metadata": {},
   "source": [
    "# User-Based Collaborative Filtering for Book Recommendation"
   ]
  },
  {
   "cell_type": "code",
   "execution_count": 1,
   "metadata": {},
   "outputs": [],
   "source": [
    "import numpy as np\n",
    "import pandas as pd\n",
    "from sklearn.metrics.pairwise import cosine_similarity\n",
    "from sklearn.feature_extraction.text import TfidfVectorizer"
   ]
  },
  {
   "cell_type": "code",
   "execution_count": 2,
   "metadata": {},
   "outputs": [],
   "source": [
    "df_books_final = pd.read_csv('df_books_final.csv')\n",
    "df_train_interactions = pd.read_csv('train_interactions.csv')\n",
    "df_test_interactions = pd.read_csv('test_interactions.csv')"
   ]
  },
  {
   "cell_type": "code",
   "execution_count": 3,
   "metadata": {},
   "outputs": [
    {
     "data": {
      "text/html": [
       "<div>\n",
       "<style scoped>\n",
       "    .dataframe tbody tr th:only-of-type {\n",
       "        vertical-align: middle;\n",
       "    }\n",
       "\n",
       "    .dataframe tbody tr th {\n",
       "        vertical-align: top;\n",
       "    }\n",
       "\n",
       "    .dataframe thead th {\n",
       "        text-align: right;\n",
       "    }\n",
       "</style>\n",
       "<table border=\"1\" class=\"dataframe\">\n",
       "  <thead>\n",
       "    <tr style=\"text-align: right;\">\n",
       "      <th></th>\n",
       "      <th>book_id</th>\n",
       "      <th>title</th>\n",
       "      <th>description</th>\n",
       "      <th>average_rating</th>\n",
       "      <th>ratings_count</th>\n",
       "      <th>text_reviews_count</th>\n",
       "      <th>top_popular_shelves</th>\n",
       "      <th>author_ids</th>\n",
       "      <th>format_Audio</th>\n",
       "      <th>format_Digital</th>\n",
       "      <th>...</th>\n",
       "      <th>lang_tha</th>\n",
       "      <th>lang_tr</th>\n",
       "      <th>lang_tur</th>\n",
       "      <th>lang_ukr</th>\n",
       "      <th>lang_vi</th>\n",
       "      <th>lang_vie</th>\n",
       "      <th>lang_zh</th>\n",
       "      <th>length_long</th>\n",
       "      <th>length_medium</th>\n",
       "      <th>length_short</th>\n",
       "    </tr>\n",
       "  </thead>\n",
       "  <tbody>\n",
       "    <tr>\n",
       "      <th>0</th>\n",
       "      <td>1882090</td>\n",
       "      <td>Behave Yourself, Bethany Brant</td>\n",
       "      <td>A preacher's daughter with lots of curiosity a...</td>\n",
       "      <td>-1.028630</td>\n",
       "      <td>-0.059069</td>\n",
       "      <td>-0.136278</td>\n",
       "      <td>[{'count': '1', 'name': 'mrs-withdrawn'}, {'co...</td>\n",
       "      <td>['151369']</td>\n",
       "      <td>False</td>\n",
       "      <td>False</td>\n",
       "      <td>...</td>\n",
       "      <td>False</td>\n",
       "      <td>False</td>\n",
       "      <td>False</td>\n",
       "      <td>False</td>\n",
       "      <td>False</td>\n",
       "      <td>False</td>\n",
       "      <td>False</td>\n",
       "      <td>False</td>\n",
       "      <td>True</td>\n",
       "      <td>False</td>\n",
       "    </tr>\n",
       "    <tr>\n",
       "      <th>1</th>\n",
       "      <td>166120</td>\n",
       "      <td>Ghosthunters And The Incredibly Revolting Ghost</td>\n",
       "      <td>A $2.99 value-priced edition of one of our bes...</td>\n",
       "      <td>-0.690046</td>\n",
       "      <td>-0.059069</td>\n",
       "      <td>-0.126186</td>\n",
       "      <td>[{'count': '9', 'name': 'owned'}, {'count': '9...</td>\n",
       "      <td>['15873']</td>\n",
       "      <td>False</td>\n",
       "      <td>False</td>\n",
       "      <td>...</td>\n",
       "      <td>False</td>\n",
       "      <td>False</td>\n",
       "      <td>False</td>\n",
       "      <td>False</td>\n",
       "      <td>False</td>\n",
       "      <td>False</td>\n",
       "      <td>False</td>\n",
       "      <td>False</td>\n",
       "      <td>True</td>\n",
       "      <td>False</td>\n",
       "    </tr>\n",
       "    <tr>\n",
       "      <th>2</th>\n",
       "      <td>8608741</td>\n",
       "      <td>Attack of the Chicken Nugget Man: A National T...</td>\n",
       "      <td>Third-grader Chris Robb just can't seem to do ...</td>\n",
       "      <td>-0.597705</td>\n",
       "      <td>-0.059069</td>\n",
       "      <td>-0.102639</td>\n",
       "      <td>[{'count': '2', 'name': 'books-i-wrote'}, {'co...</td>\n",
       "      <td>['2868520']</td>\n",
       "      <td>False</td>\n",
       "      <td>False</td>\n",
       "      <td>...</td>\n",
       "      <td>False</td>\n",
       "      <td>False</td>\n",
       "      <td>False</td>\n",
       "      <td>False</td>\n",
       "      <td>False</td>\n",
       "      <td>False</td>\n",
       "      <td>False</td>\n",
       "      <td>False</td>\n",
       "      <td>True</td>\n",
       "      <td>False</td>\n",
       "    </tr>\n",
       "  </tbody>\n",
       "</table>\n",
       "<p>3 rows × 84 columns</p>\n",
       "</div>"
      ],
      "text/plain": [
       "   book_id                                              title  \\\n",
       "0  1882090                     Behave Yourself, Bethany Brant   \n",
       "1   166120    Ghosthunters And The Incredibly Revolting Ghost   \n",
       "2  8608741  Attack of the Chicken Nugget Man: A National T...   \n",
       "\n",
       "                                         description  average_rating  \\\n",
       "0  A preacher's daughter with lots of curiosity a...       -1.028630   \n",
       "1  A $2.99 value-priced edition of one of our bes...       -0.690046   \n",
       "2  Third-grader Chris Robb just can't seem to do ...       -0.597705   \n",
       "\n",
       "   ratings_count  text_reviews_count  \\\n",
       "0      -0.059069           -0.136278   \n",
       "1      -0.059069           -0.126186   \n",
       "2      -0.059069           -0.102639   \n",
       "\n",
       "                                 top_popular_shelves   author_ids  \\\n",
       "0  [{'count': '1', 'name': 'mrs-withdrawn'}, {'co...   ['151369']   \n",
       "1  [{'count': '9', 'name': 'owned'}, {'count': '9...    ['15873']   \n",
       "2  [{'count': '2', 'name': 'books-i-wrote'}, {'co...  ['2868520']   \n",
       "\n",
       "   format_Audio  format_Digital  ...  lang_tha  lang_tr  lang_tur  lang_ukr  \\\n",
       "0         False           False  ...     False    False     False     False   \n",
       "1         False           False  ...     False    False     False     False   \n",
       "2         False           False  ...     False    False     False     False   \n",
       "\n",
       "   lang_vi  lang_vie  lang_zh  length_long  length_medium  length_short  \n",
       "0    False     False    False        False           True         False  \n",
       "1    False     False    False        False           True         False  \n",
       "2    False     False    False        False           True         False  \n",
       "\n",
       "[3 rows x 84 columns]"
      ]
     },
     "execution_count": 3,
     "metadata": {},
     "output_type": "execute_result"
    }
   ],
   "source": [
    "df_books_final.head(3)"
   ]
  },
  {
   "cell_type": "code",
   "execution_count": 4,
   "metadata": {},
   "outputs": [
    {
     "data": {
      "text/html": [
       "<div>\n",
       "<style scoped>\n",
       "    .dataframe tbody tr th:only-of-type {\n",
       "        vertical-align: middle;\n",
       "    }\n",
       "\n",
       "    .dataframe tbody tr th {\n",
       "        vertical-align: top;\n",
       "    }\n",
       "\n",
       "    .dataframe thead th {\n",
       "        text-align: right;\n",
       "    }\n",
       "</style>\n",
       "<table border=\"1\" class=\"dataframe\">\n",
       "  <thead>\n",
       "    <tr style=\"text-align: right;\">\n",
       "      <th></th>\n",
       "      <th>user_id</th>\n",
       "      <th>book_id</th>\n",
       "      <th>rating</th>\n",
       "      <th>date_added</th>\n",
       "      <th>n_votes</th>\n",
       "      <th>review_age</th>\n",
       "      <th>sentiment</th>\n",
       "    </tr>\n",
       "  </thead>\n",
       "  <tbody>\n",
       "    <tr>\n",
       "      <th>0</th>\n",
       "      <td>0</td>\n",
       "      <td>157993</td>\n",
       "      <td>5</td>\n",
       "      <td>2016-07-18 19:34:48+00:00</td>\n",
       "      <td>NaN</td>\n",
       "      <td>3004</td>\n",
       "      <td>0.574139</td>\n",
       "    </tr>\n",
       "    <tr>\n",
       "      <th>1</th>\n",
       "      <td>0</td>\n",
       "      <td>359079</td>\n",
       "      <td>4</td>\n",
       "      <td>2014-07-16 19:28:57+00:00</td>\n",
       "      <td>NaN</td>\n",
       "      <td>3737</td>\n",
       "      <td>0.527973</td>\n",
       "    </tr>\n",
       "    <tr>\n",
       "      <th>2</th>\n",
       "      <td>0</td>\n",
       "      <td>41684</td>\n",
       "      <td>4</td>\n",
       "      <td>2014-07-16 13:45:50+00:00</td>\n",
       "      <td>NaN</td>\n",
       "      <td>3738</td>\n",
       "      <td>0.527973</td>\n",
       "    </tr>\n",
       "    <tr>\n",
       "      <th>3</th>\n",
       "      <td>0</td>\n",
       "      <td>180617</td>\n",
       "      <td>4</td>\n",
       "      <td>2012-08-06 19:55:50+00:00</td>\n",
       "      <td>NaN</td>\n",
       "      <td>4446</td>\n",
       "      <td>0.527973</td>\n",
       "    </tr>\n",
       "    <tr>\n",
       "      <th>4</th>\n",
       "      <td>0</td>\n",
       "      <td>13023</td>\n",
       "      <td>3</td>\n",
       "      <td>2012-01-30 10:17:30+00:00</td>\n",
       "      <td>NaN</td>\n",
       "      <td>4636</td>\n",
       "      <td>0.406860</td>\n",
       "    </tr>\n",
       "  </tbody>\n",
       "</table>\n",
       "</div>"
      ],
      "text/plain": [
       "   user_id  book_id  rating                 date_added  n_votes  review_age  \\\n",
       "0        0   157993       5  2016-07-18 19:34:48+00:00      NaN        3004   \n",
       "1        0   359079       4  2014-07-16 19:28:57+00:00      NaN        3737   \n",
       "2        0    41684       4  2014-07-16 13:45:50+00:00      NaN        3738   \n",
       "3        0   180617       4  2012-08-06 19:55:50+00:00      NaN        4446   \n",
       "4        0    13023       3  2012-01-30 10:17:30+00:00      NaN        4636   \n",
       "\n",
       "   sentiment  \n",
       "0   0.574139  \n",
       "1   0.527973  \n",
       "2   0.527973  \n",
       "3   0.527973  \n",
       "4   0.406860  "
      ]
     },
     "execution_count": 4,
     "metadata": {},
     "output_type": "execute_result"
    }
   ],
   "source": [
    "df_train_interactions.head(5)"
   ]
  },
  {
   "cell_type": "code",
   "execution_count": 5,
   "metadata": {},
   "outputs": [],
   "source": [
    "# number of neighbors of user\n",
    "N_NEIGHBORS = 10\n",
    "\n",
    "# number of recommendations\n",
    "N_RECOMMENDATIONS = 5"
   ]
  },
  {
   "cell_type": "code",
   "execution_count": 6,
   "metadata": {},
   "outputs": [],
   "source": [
    "def read_ratings(df):\n",
    "    \"\"\"\n",
    "    Read the raw data of the book ratings.\n",
    "\n",
    "    Returns a list of tuples:\n",
    "    (user id, book_id, rating)\n",
    "    \"\"\"\n",
    "\n",
    "    data = []\n",
    "    for _, row in df.iterrows():\n",
    "        user_id = row['user_id']\n",
    "        book_id = row['book_id']\n",
    "        rating = row['rating']\n",
    "        data.append((user_id, book_id, rating))\n",
    "\n",
    "    return data"
   ]
  },
  {
   "cell_type": "code",
   "execution_count": 7,
   "metadata": {},
   "outputs": [
    {
     "data": {
      "text/html": [
       "<div>\n",
       "<style scoped>\n",
       "    .dataframe tbody tr th:only-of-type {\n",
       "        vertical-align: middle;\n",
       "    }\n",
       "\n",
       "    .dataframe tbody tr th {\n",
       "        vertical-align: top;\n",
       "    }\n",
       "\n",
       "    .dataframe thead th {\n",
       "        text-align: right;\n",
       "    }\n",
       "</style>\n",
       "<table border=\"1\" class=\"dataframe\">\n",
       "  <thead>\n",
       "    <tr style=\"text-align: right;\">\n",
       "      <th></th>\n",
       "      <th>user</th>\n",
       "      <th>book</th>\n",
       "      <th>rating</th>\n",
       "    </tr>\n",
       "  </thead>\n",
       "  <tbody>\n",
       "    <tr>\n",
       "      <th>0</th>\n",
       "      <td>0</td>\n",
       "      <td>157993</td>\n",
       "      <td>5</td>\n",
       "    </tr>\n",
       "    <tr>\n",
       "      <th>1</th>\n",
       "      <td>0</td>\n",
       "      <td>359079</td>\n",
       "      <td>4</td>\n",
       "    </tr>\n",
       "    <tr>\n",
       "      <th>2</th>\n",
       "      <td>0</td>\n",
       "      <td>41684</td>\n",
       "      <td>4</td>\n",
       "    </tr>\n",
       "    <tr>\n",
       "      <th>3</th>\n",
       "      <td>0</td>\n",
       "      <td>180617</td>\n",
       "      <td>4</td>\n",
       "    </tr>\n",
       "    <tr>\n",
       "      <th>4</th>\n",
       "      <td>0</td>\n",
       "      <td>13023</td>\n",
       "      <td>3</td>\n",
       "    </tr>\n",
       "  </tbody>\n",
       "</table>\n",
       "</div>"
      ],
      "text/plain": [
       "   user    book  rating\n",
       "0     0  157993       5\n",
       "1     0  359079       4\n",
       "2     0   41684       4\n",
       "3     0  180617       4\n",
       "4     0   13023       3"
      ]
     },
     "execution_count": 7,
     "metadata": {},
     "output_type": "execute_result"
    }
   ],
   "source": [
    "ratings = read_ratings(df_train_interactions)\n",
    "ratings = pd.DataFrame(data=ratings, columns=['user', 'book', 'rating'])\n",
    "ratings.head()"
   ]
  },
  {
   "cell_type": "code",
   "execution_count": 8,
   "metadata": {},
   "outputs": [
    {
     "data": {
      "text/plain": [
       "14645"
      ]
     },
     "execution_count": 8,
     "metadata": {},
     "output_type": "execute_result"
    }
   ],
   "source": [
    "# number of unique books\n",
    "ratings.book.nunique()"
   ]
  },
  {
   "cell_type": "code",
   "execution_count": 9,
   "metadata": {},
   "outputs": [
    {
     "data": {
      "text/plain": [
       "20798"
      ]
     },
     "execution_count": 9,
     "metadata": {},
     "output_type": "execute_result"
    }
   ],
   "source": [
    "# number of unique users\n",
    "ratings.user.nunique()"
   ]
  },
  {
   "cell_type": "markdown",
   "metadata": {},
   "source": [
    "### Transforming the user rating data to wide format"
   ]
  },
  {
   "cell_type": "code",
   "execution_count": 10,
   "metadata": {},
   "outputs": [],
   "source": [
    "ratings_raw = ratings.copy()\n",
    "ratings = ratings.pivot(index='user', columns='book', values='rating')"
   ]
  },
  {
   "cell_type": "code",
   "execution_count": 11,
   "metadata": {},
   "outputs": [
    {
     "data": {
      "text/plain": [
       "(20798, 14645)"
      ]
     },
     "execution_count": 11,
     "metadata": {},
     "output_type": "execute_result"
    }
   ],
   "source": [
    "ratings.shape"
   ]
  },
  {
   "cell_type": "code",
   "execution_count": 12,
   "metadata": {},
   "outputs": [
    {
     "data": {
      "text/html": [
       "<div>\n",
       "<style scoped>\n",
       "    .dataframe tbody tr th:only-of-type {\n",
       "        vertical-align: middle;\n",
       "    }\n",
       "\n",
       "    .dataframe tbody tr th {\n",
       "        vertical-align: top;\n",
       "    }\n",
       "\n",
       "    .dataframe thead th {\n",
       "        text-align: right;\n",
       "    }\n",
       "</style>\n",
       "<table border=\"1\" class=\"dataframe\">\n",
       "  <thead>\n",
       "    <tr style=\"text-align: right;\">\n",
       "      <th>book</th>\n",
       "      <th>5</th>\n",
       "      <th>50</th>\n",
       "      <th>93</th>\n",
       "      <th>236</th>\n",
       "      <th>244</th>\n",
       "      <th>302</th>\n",
       "      <th>314</th>\n",
       "      <th>330</th>\n",
       "      <th>881</th>\n",
       "      <th>903</th>\n",
       "      <th>...</th>\n",
       "      <th>35297101</th>\n",
       "      <th>35429280</th>\n",
       "      <th>35440603</th>\n",
       "      <th>35479935</th>\n",
       "      <th>35546694</th>\n",
       "      <th>35616438</th>\n",
       "      <th>35757340</th>\n",
       "      <th>35757419</th>\n",
       "      <th>36131198</th>\n",
       "      <th>36311957</th>\n",
       "    </tr>\n",
       "    <tr>\n",
       "      <th>user</th>\n",
       "      <th></th>\n",
       "      <th></th>\n",
       "      <th></th>\n",
       "      <th></th>\n",
       "      <th></th>\n",
       "      <th></th>\n",
       "      <th></th>\n",
       "      <th></th>\n",
       "      <th></th>\n",
       "      <th></th>\n",
       "      <th></th>\n",
       "      <th></th>\n",
       "      <th></th>\n",
       "      <th></th>\n",
       "      <th></th>\n",
       "      <th></th>\n",
       "      <th></th>\n",
       "      <th></th>\n",
       "      <th></th>\n",
       "      <th></th>\n",
       "      <th></th>\n",
       "    </tr>\n",
       "  </thead>\n",
       "  <tbody>\n",
       "    <tr>\n",
       "      <th>0</th>\n",
       "      <td>NaN</td>\n",
       "      <td>NaN</td>\n",
       "      <td>NaN</td>\n",
       "      <td>NaN</td>\n",
       "      <td>NaN</td>\n",
       "      <td>NaN</td>\n",
       "      <td>NaN</td>\n",
       "      <td>NaN</td>\n",
       "      <td>NaN</td>\n",
       "      <td>NaN</td>\n",
       "      <td>...</td>\n",
       "      <td>NaN</td>\n",
       "      <td>NaN</td>\n",
       "      <td>NaN</td>\n",
       "      <td>NaN</td>\n",
       "      <td>NaN</td>\n",
       "      <td>NaN</td>\n",
       "      <td>NaN</td>\n",
       "      <td>NaN</td>\n",
       "      <td>NaN</td>\n",
       "      <td>NaN</td>\n",
       "    </tr>\n",
       "    <tr>\n",
       "      <th>1</th>\n",
       "      <td>NaN</td>\n",
       "      <td>NaN</td>\n",
       "      <td>NaN</td>\n",
       "      <td>NaN</td>\n",
       "      <td>NaN</td>\n",
       "      <td>NaN</td>\n",
       "      <td>NaN</td>\n",
       "      <td>NaN</td>\n",
       "      <td>NaN</td>\n",
       "      <td>NaN</td>\n",
       "      <td>...</td>\n",
       "      <td>NaN</td>\n",
       "      <td>NaN</td>\n",
       "      <td>NaN</td>\n",
       "      <td>NaN</td>\n",
       "      <td>NaN</td>\n",
       "      <td>NaN</td>\n",
       "      <td>NaN</td>\n",
       "      <td>NaN</td>\n",
       "      <td>NaN</td>\n",
       "      <td>NaN</td>\n",
       "    </tr>\n",
       "    <tr>\n",
       "      <th>2</th>\n",
       "      <td>5.0</td>\n",
       "      <td>NaN</td>\n",
       "      <td>NaN</td>\n",
       "      <td>NaN</td>\n",
       "      <td>NaN</td>\n",
       "      <td>NaN</td>\n",
       "      <td>NaN</td>\n",
       "      <td>NaN</td>\n",
       "      <td>NaN</td>\n",
       "      <td>NaN</td>\n",
       "      <td>...</td>\n",
       "      <td>NaN</td>\n",
       "      <td>NaN</td>\n",
       "      <td>NaN</td>\n",
       "      <td>NaN</td>\n",
       "      <td>NaN</td>\n",
       "      <td>NaN</td>\n",
       "      <td>NaN</td>\n",
       "      <td>NaN</td>\n",
       "      <td>NaN</td>\n",
       "      <td>NaN</td>\n",
       "    </tr>\n",
       "    <tr>\n",
       "      <th>3</th>\n",
       "      <td>NaN</td>\n",
       "      <td>NaN</td>\n",
       "      <td>NaN</td>\n",
       "      <td>NaN</td>\n",
       "      <td>NaN</td>\n",
       "      <td>NaN</td>\n",
       "      <td>NaN</td>\n",
       "      <td>NaN</td>\n",
       "      <td>NaN</td>\n",
       "      <td>NaN</td>\n",
       "      <td>...</td>\n",
       "      <td>NaN</td>\n",
       "      <td>NaN</td>\n",
       "      <td>NaN</td>\n",
       "      <td>NaN</td>\n",
       "      <td>NaN</td>\n",
       "      <td>NaN</td>\n",
       "      <td>NaN</td>\n",
       "      <td>NaN</td>\n",
       "      <td>NaN</td>\n",
       "      <td>NaN</td>\n",
       "    </tr>\n",
       "    <tr>\n",
       "      <th>4</th>\n",
       "      <td>3.0</td>\n",
       "      <td>NaN</td>\n",
       "      <td>NaN</td>\n",
       "      <td>NaN</td>\n",
       "      <td>NaN</td>\n",
       "      <td>NaN</td>\n",
       "      <td>NaN</td>\n",
       "      <td>NaN</td>\n",
       "      <td>NaN</td>\n",
       "      <td>NaN</td>\n",
       "      <td>...</td>\n",
       "      <td>NaN</td>\n",
       "      <td>NaN</td>\n",
       "      <td>NaN</td>\n",
       "      <td>NaN</td>\n",
       "      <td>NaN</td>\n",
       "      <td>NaN</td>\n",
       "      <td>NaN</td>\n",
       "      <td>NaN</td>\n",
       "      <td>NaN</td>\n",
       "      <td>NaN</td>\n",
       "    </tr>\n",
       "  </tbody>\n",
       "</table>\n",
       "<p>5 rows × 14645 columns</p>\n",
       "</div>"
      ],
      "text/plain": [
       "book  5         50        93        236       244       302       314       \\\n",
       "user                                                                         \n",
       "0          NaN       NaN       NaN       NaN       NaN       NaN       NaN   \n",
       "1          NaN       NaN       NaN       NaN       NaN       NaN       NaN   \n",
       "2          5.0       NaN       NaN       NaN       NaN       NaN       NaN   \n",
       "3          NaN       NaN       NaN       NaN       NaN       NaN       NaN   \n",
       "4          3.0       NaN       NaN       NaN       NaN       NaN       NaN   \n",
       "\n",
       "book  330       881       903       ...  35297101  35429280  35440603  \\\n",
       "user                                ...                                 \n",
       "0          NaN       NaN       NaN  ...       NaN       NaN       NaN   \n",
       "1          NaN       NaN       NaN  ...       NaN       NaN       NaN   \n",
       "2          NaN       NaN       NaN  ...       NaN       NaN       NaN   \n",
       "3          NaN       NaN       NaN  ...       NaN       NaN       NaN   \n",
       "4          NaN       NaN       NaN  ...       NaN       NaN       NaN   \n",
       "\n",
       "book  35479935  35546694  35616438  35757340  35757419  36131198  36311957  \n",
       "user                                                                        \n",
       "0          NaN       NaN       NaN       NaN       NaN       NaN       NaN  \n",
       "1          NaN       NaN       NaN       NaN       NaN       NaN       NaN  \n",
       "2          NaN       NaN       NaN       NaN       NaN       NaN       NaN  \n",
       "3          NaN       NaN       NaN       NaN       NaN       NaN       NaN  \n",
       "4          NaN       NaN       NaN       NaN       NaN       NaN       NaN  \n",
       "\n",
       "[5 rows x 14645 columns]"
      ]
     },
     "execution_count": 12,
     "metadata": {},
     "output_type": "execute_result"
    }
   ],
   "source": [
    "ratings.head()"
   ]
  },
  {
   "cell_type": "markdown",
   "metadata": {},
   "source": [
    "### Similarity between users"
   ]
  },
  {
   "cell_type": "code",
   "execution_count": 13,
   "metadata": {},
   "outputs": [],
   "source": [
    "def pearson_similarity(v1, v2):\n",
    "    \"\"\"\n",
    "    Compute the Pearson correlation between to ratings vectors.\n",
    "\n",
    "    pd.corr() function can handle missing data.\n",
    "\n",
    "    parameters:\n",
    "    - v1, v2: pd.Series, ratings vectors\n",
    "\n",
    "    returns:\n",
    "    - float\n",
    "\n",
    "    \"\"\"\n",
    "\n",
    "    pearson = v1.corr(v2)\n",
    "\n",
    "    return pearson"
   ]
  },
  {
   "cell_type": "code",
   "execution_count": 14,
   "metadata": {},
   "outputs": [],
   "source": [
    "def compute_similarities(user_id, ratings_matrix):\n",
    "    \"\"\"\n",
    "    Compute the similarity of a given user with all the other users in the dataset.\n",
    "\n",
    "    Remove the similarity value for the given user from the result.\n",
    "\n",
    "    returns:\n",
    "        - a pd.Series with the user id's as index, and similarity as series values\n",
    "    \"\"\"\n",
    "\n",
    "    # get ratings of user to re-use in the similarity computation\n",
    "    ratings_user = ratings_matrix.loc[user_id,:]\n",
    "\n",
    "    # calculate the similarity between the given user and the other users\n",
    "    similarities = ratings_matrix.apply(\n",
    "        lambda row: pearson_similarity(ratings_user, row),\n",
    "        axis=1)\n",
    "\n",
    "    similarities = similarities.to_frame(name='similarity')\n",
    "\n",
    "    # find most similar users to the given user\n",
    "    similarities = similarities.sort_values(by='similarity', ascending=False)\n",
    "\n",
    "    # drop the similarity of the user (should be ~1 anyways)\n",
    "    similarities = similarities.drop(user_id)\n",
    "\n",
    "    return similarities"
   ]
  },
  {
   "cell_type": "markdown",
   "metadata": {},
   "source": [
    "### Predict Book Ratings"
   ]
  },
  {
   "cell_type": "code",
   "execution_count": 15,
   "metadata": {},
   "outputs": [],
   "source": [
    "def predict_rating(item_id, ratings, similarities, N=10):\n",
    "    \"\"\"\n",
    "    Predict the rating of a given item by a user, given the ratings of similar users.\n",
    "    Takes the N users with the highest similarity measure, AND who have rated the given item.\n",
    "    Returns the average rating of the most similar users who previously rated the item.\n",
    "\n",
    "    parameters:\n",
    "    - item_id: int, item that needs a rating prediction\n",
    "    - ratings: pd.DataFrame\n",
    "    - similarities: pd.DataFrame\n",
    "    - N: int, number of neighbors to use for rating prediction\n",
    "\n",
    "    returns:\n",
    "    - a float representing the predicted rating for the given item\n",
    "\n",
    "    \"\"\"\n",
    "\n",
    "    # get the ratings of all users for the specific item\n",
    "    users_ratings = ratings.loc[:, item_id]\n",
    "\n",
    "    # only keep users who rated the given item, otherwise you won't be able to generate a prediction based on the users ratings\n",
    "    most_similar_users_who_rated_item = similarities.loc[~users_ratings.isnull()]\n",
    "\n",
    "    # keep N users with highest similarities to given user who also rated the given item\n",
    "    N_most_similar_users = most_similar_users_who_rated_item.head(N)\n",
    "\n",
    "    # find ratings item for most similar users:\n",
    "    ratings_for_item = ratings.loc[N_most_similar_users.index, item_id]\n",
    "\n",
    "    # predict the rating of the item by averaging the ratings of that item of the most similar users\n",
    "    return item_id, ratings_for_item.mean(), len(ratings_for_item)"
   ]
  },
  {
   "cell_type": "markdown",
   "metadata": {},
   "source": [
    "### Recommend Book"
   ]
  },
  {
   "cell_type": "code",
   "execution_count": 16,
   "metadata": {},
   "outputs": [],
   "source": [
    "def read_titles(df):\n",
    "    \"\"\"\n",
    "    Read the mapping of book id -> book title\n",
    "\n",
    "    Returns a dictionary\n",
    "    {book id -> book title}\n",
    "    \"\"\"\n",
    "    data = df.set_index(\"book_id\")[\"title\"].to_dict()\n",
    "    return data"
   ]
  },
  {
   "cell_type": "code",
   "execution_count": 30,
   "metadata": {},
   "outputs": [],
   "source": [
    "def recommend(user_id, ratings, n_neighbors=10, n_recomm=5):\n",
    "    \"\"\"\n",
    "\n",
    "    Recommend N books for a given user based on ratings data.\n",
    "\n",
    "    1. get the ratings of the user\n",
    "    2. get the books that the user has not rated\n",
    "    3. compute the similarities between the user and the other users\n",
    "    4. generate book ratings predictions for the user based on the similarities with other users\n",
    "    5. find the N books with the highest predicted ratings\n",
    "\n",
    "    parameters:\n",
    "    - user_id: int, user to generate recommendations for\n",
    "    - ratings: pd.DataFrame, user-book ratings\n",
    "    - book_titles: dict, mapping of (book id -> book title)\n",
    "    - n_neighbors: int: the number of neighbors to use to generate rating predictions\n",
    "    - n_recomm: int, number of books to recommend\n",
    "\n",
    "    returns:\n",
    "    - pd.DataFrame with [book_id, rating, book title]\n",
    "\n",
    "    \"\"\"\n",
    "\n",
    "    # get the ratings of the user\n",
    "    ratings_user = ratings.loc[user_id, :]\n",
    "\n",
    "    # all the items a user has not rated, that can be recommended\n",
    "    all_items = ratings.loc[user_id,:]\n",
    "    unrated_items = all_items.loc[all_items.isnull()]\n",
    "\n",
    "    # convert the index with item ids into Series values\n",
    "    unrated_items = unrated_items.index.to_series(name='item_ids').reset_index(drop=True)\n",
    "    print('User {} has {} unrated items.'.format(user_id, len(unrated_items)))\n",
    "\n",
    "    # compute user similarities\n",
    "    similarities = compute_similarities(user_id, ratings)\n",
    "\n",
    "    # generate predictions for unseen items based on the user similarity data\n",
    "    predictions = unrated_items.apply(lambda d: predict_rating(d, ratings, similarities, N=n_neighbors))\n",
    "    predicitions_df = pd.DataFrame(predictions.tolist(), columns=['book_id', 'predictions', 'number_of_similar_users'])\n",
    "\n",
    "    # sort items by highest predicted rating and number of similar users\n",
    "    predicitions_df = predicitions_df.sort_values(by=['predictions', 'number_of_similar_users'], ascending=False)\n",
    "\n",
    "    # recommend top N items\n",
    "    recommends = predicitions_df.head(n_recomm)\n",
    "\n",
    "    return recommends['book_id']"
   ]
  },
  {
   "cell_type": "code",
   "execution_count": 31,
   "metadata": {},
   "outputs": [
    {
     "name": "stdout",
     "output_type": "stream",
     "text": [
      "User 0 has 14638 unrated items.\n"
     ]
    },
    {
     "name": "stderr",
     "output_type": "stream",
     "text": [
      "/opt/homebrew/Caskroom/miniforge/base/envs/env_bt4222Project/lib/python3.12/site-packages/numpy/lib/function_base.py:2889: RuntimeWarning: Degrees of freedom <= 0 for slice\n",
      "  c = cov(x, y, rowvar, dtype=dtype)\n",
      "/opt/homebrew/Caskroom/miniforge/base/envs/env_bt4222Project/lib/python3.12/site-packages/numpy/lib/function_base.py:2748: RuntimeWarning: divide by zero encountered in divide\n",
      "  c *= np.true_divide(1, fact)\n",
      "/opt/homebrew/Caskroom/miniforge/base/envs/env_bt4222Project/lib/python3.12/site-packages/numpy/lib/function_base.py:2748: RuntimeWarning: invalid value encountered in multiply\n",
      "  c *= np.true_divide(1, fact)\n",
      "/opt/homebrew/Caskroom/miniforge/base/envs/env_bt4222Project/lib/python3.12/site-packages/numpy/lib/function_base.py:2897: RuntimeWarning: invalid value encountered in divide\n",
      "  c /= stddev[:, None]\n",
      "/opt/homebrew/Caskroom/miniforge/base/envs/env_bt4222Project/lib/python3.12/site-packages/numpy/lib/function_base.py:2898: RuntimeWarning: invalid value encountered in divide\n",
      "  c /= stddev[None, :]\n"
     ]
    },
    {
     "data": {
      "text/plain": [
       "612         46677\n",
       "5014       867248\n",
       "9028      6669717\n",
       "13040    22013040\n",
       "3045       402114\n",
       "Name: book_id, dtype: int64"
      ]
     },
     "execution_count": 31,
     "metadata": {},
     "output_type": "execute_result"
    }
   ],
   "source": [
    "recommends = recommend(0, ratings, n_neighbors=N_NEIGHBORS, n_recomm=N_RECOMMENDATIONS)\n",
    "recommends"
   ]
  },
  {
   "cell_type": "markdown",
   "metadata": {},
   "source": [
    "### Recommend for users in test set"
   ]
  },
  {
   "cell_type": "code",
   "execution_count": 19,
   "metadata": {},
   "outputs": [
    {
     "data": {
      "text/plain": [
       "20798"
      ]
     },
     "execution_count": 19,
     "metadata": {},
     "output_type": "execute_result"
    }
   ],
   "source": [
    "df_test_interactions.user_id.nunique()"
   ]
  },
  {
   "cell_type": "code",
   "execution_count": 20,
   "metadata": {},
   "outputs": [
    {
     "data": {
      "text/html": [
       "<div>\n",
       "<style scoped>\n",
       "    .dataframe tbody tr th:only-of-type {\n",
       "        vertical-align: middle;\n",
       "    }\n",
       "\n",
       "    .dataframe tbody tr th {\n",
       "        vertical-align: top;\n",
       "    }\n",
       "\n",
       "    .dataframe thead th {\n",
       "        text-align: right;\n",
       "    }\n",
       "</style>\n",
       "<table border=\"1\" class=\"dataframe\">\n",
       "  <thead>\n",
       "    <tr style=\"text-align: right;\">\n",
       "      <th></th>\n",
       "      <th>user_id</th>\n",
       "      <th>book_id</th>\n",
       "      <th>rating</th>\n",
       "      <th>date_added</th>\n",
       "      <th>n_votes</th>\n",
       "      <th>review_age</th>\n",
       "      <th>sentiment</th>\n",
       "    </tr>\n",
       "  </thead>\n",
       "  <tbody>\n",
       "    <tr>\n",
       "      <th>0</th>\n",
       "      <td>0</td>\n",
       "      <td>343002</td>\n",
       "      <td>5</td>\n",
       "      <td>2012-01-25 00:26:06+00:00</td>\n",
       "      <td>NaN</td>\n",
       "      <td>4641</td>\n",
       "      <td>0.574139</td>\n",
       "    </tr>\n",
       "    <tr>\n",
       "      <th>1</th>\n",
       "      <td>0</td>\n",
       "      <td>1852</td>\n",
       "      <td>4</td>\n",
       "      <td>2012-01-21 18:36:06+00:00</td>\n",
       "      <td>NaN</td>\n",
       "      <td>4644</td>\n",
       "      <td>0.527973</td>\n",
       "    </tr>\n",
       "    <tr>\n",
       "      <th>2</th>\n",
       "      <td>1</td>\n",
       "      <td>1248128</td>\n",
       "      <td>4</td>\n",
       "      <td>2009-05-04 15:32:21+00:00</td>\n",
       "      <td>NaN</td>\n",
       "      <td>5636</td>\n",
       "      <td>0.527973</td>\n",
       "    </tr>\n",
       "  </tbody>\n",
       "</table>\n",
       "</div>"
      ],
      "text/plain": [
       "   user_id  book_id  rating                 date_added  n_votes  review_age  \\\n",
       "0        0   343002       5  2012-01-25 00:26:06+00:00      NaN        4641   \n",
       "1        0     1852       4  2012-01-21 18:36:06+00:00      NaN        4644   \n",
       "2        1  1248128       4  2009-05-04 15:32:21+00:00      NaN        5636   \n",
       "\n",
       "   sentiment  \n",
       "0   0.574139  \n",
       "1   0.527973  \n",
       "2   0.527973  "
      ]
     },
     "execution_count": 20,
     "metadata": {},
     "output_type": "execute_result"
    }
   ],
   "source": [
    "df_test_interactions.head(3)"
   ]
  },
  {
   "cell_type": "code",
   "execution_count": 21,
   "metadata": {},
   "outputs": [
    {
     "data": {
      "text/plain": [
       "(59828, 149225)"
      ]
     },
     "execution_count": 21,
     "metadata": {},
     "output_type": "execute_result"
    }
   ],
   "source": [
    "tfidf = TfidfVectorizer(stop_words='english')\n",
    "tfidf_scores =  tfidf.fit_transform(df_books_final['description'])\n",
    "tfidf_scores.shape"
   ]
  },
  {
   "cell_type": "code",
   "execution_count": 22,
   "metadata": {},
   "outputs": [],
   "source": [
    "# cosine similarity matrix directly for the sparse TF-IDF matrix\n",
    "tfidf_cos_sim = cosine_similarity(tfidf_scores, dense_output=False)"
   ]
  },
  {
   "cell_type": "code",
   "execution_count": 23,
   "metadata": {},
   "outputs": [
    {
     "name": "stdout",
     "output_type": "stream",
     "text": [
      "Index([59785], dtype='int64')\n"
     ]
    }
   ],
   "source": [
    "print(df_books_final.index[df_books_final['book_id'] == 46677])"
   ]
  },
  {
   "cell_type": "code",
   "execution_count": 24,
   "metadata": {},
   "outputs": [
    {
     "name": "stdout",
     "output_type": "stream",
     "text": [
      "0.02697621518236352\n",
      "0.0\n",
      "0.03242136805362899\n",
      "0.002300617889906126\n",
      "0.011088978479916148\n",
      "break\n",
      "0.03906784168008337\n",
      "0.015002949668787525\n",
      "0.037975677305821874\n",
      "0.007384900175627537\n",
      "0.011830229507892809\n"
     ]
    }
   ],
   "source": [
    "book_index = df_books_final.index[df_books_final['book_id'] == 343002][0]\n",
    "similarity_scores = tfidf_cos_sim[book_index].toarray().flatten()\n",
    "index = df_books_final.index[df_books_final['book_id'] == 46677][0]\n",
    "print(similarity_scores[index])\n",
    "index = df_books_final.index[df_books_final['book_id'] == 867248][0]\n",
    "print(similarity_scores[index])\n",
    "index = df_books_final.index[df_books_final['book_id'] == 6669717][0]\n",
    "print(similarity_scores[index])\n",
    "index = df_books_final.index[df_books_final['book_id'] == 22013040][0]\n",
    "print(similarity_scores[index])\n",
    "index = df_books_final.index[df_books_final['book_id'] == 402114][0]\n",
    "print(similarity_scores[index])\n",
    "print(\"break\")\n",
    "book_index = df_books_final.index[df_books_final['book_id'] == 1852][0]\n",
    "similarity_scores = tfidf_cos_sim[book_index].toarray().flatten()\n",
    "index = df_books_final.index[df_books_final['book_id'] == 46677][0]\n",
    "print(similarity_scores[index])\n",
    "index = df_books_final.index[df_books_final['book_id'] == 867248][0]\n",
    "print(similarity_scores[index])\n",
    "index = df_books_final.index[df_books_final['book_id'] == 6669717][0]\n",
    "print(similarity_scores[index])\n",
    "index = df_books_final.index[df_books_final['book_id'] == 22013040][0]\n",
    "print(similarity_scores[index])\n",
    "index = df_books_final.index[df_books_final['book_id'] == 402114][0]\n",
    "print(similarity_scores[index])\n"
   ]
  },
  {
   "cell_type": "code",
   "execution_count": null,
   "metadata": {},
   "outputs": [
    {
     "name": "stdout",
     "output_type": "stream",
     "text": [
      "User 0 has 14638 unrated items.\n",
      "User 1 has 14635 unrated items.\n"
     ]
    }
   ],
   "source": [
    "from statistics import mean \n",
    "import warnings\n",
    "warnings.filterwarnings('ignore')\n",
    "\n",
    "unique_users = df_test_interactions.user_id.unique()\n",
    "first1000_users = unique_users[:1000]\n",
    "results = []\n",
    "# 1000 users\n",
    "# set thresold \n",
    "# plot \n",
    "for user in first1000_users:\n",
    "    recommends = recommend(user, ratings, n_neighbors=N_NEIGHBORS, n_recomm=N_RECOMMENDATIONS)\n",
    "    test_books = df_test_interactions[df_test_interactions['user_id'] == user]['book_id']\n",
    "    similarity_scores_list = []\n",
    "    max_similarity_scores_list = []\n",
    "\n",
    "    for test_book in test_books:\n",
    "        similarity_scores_list_temp=[]\n",
    "        test_book_index = df_books_final.index[df_books_final['book_id'] == test_book][0]\n",
    "        similarity_scores = tfidf_cos_sim[test_book_index].toarray().flatten()\n",
    "\n",
    "        for recommended_book in recommends:\n",
    "            index = df_books_final.index[df_books_final['book_id'] == recommended_book][0]\n",
    "            similarity_scores_list_temp.append(similarity_scores[index])\n",
    "        \n",
    "        \n",
    "        max_similarity_score = max(similarity_scores_list_temp) if similarity_scores_list_temp else None\n",
    "        max_similarity_scores_list.append(max_similarity_score)\n",
    "        similarity_scores_list.extend(similarity_scores_list_temp)\n",
    "\n",
    "    results.append({\n",
    "        \"user_id\": user,\n",
    "        \"books_id_read\": test_books.tolist(),\n",
    "        \"recommendations\": recommends.tolist(),\n",
    "        \"similarity_scores_list\": similarity_scores_list,\n",
    "        \"mean_similarity_score\": mean(similarity_scores_list),\n",
    "        \"max_similarity_score\": max_similarity_scores_list\n",
    "    })\n",
    "\n",
    "output_df = pd.DataFrame(results)\n",
    "output_df"
   ]
  }
 ],
 "metadata": {
  "kernelspec": {
   "display_name": "env_bt4222Project",
   "language": "python",
   "name": "python3"
  },
  "language_info": {
   "codemirror_mode": {
    "name": "ipython",
    "version": 3
   },
   "file_extension": ".py",
   "mimetype": "text/x-python",
   "name": "python",
   "nbconvert_exporter": "python",
   "pygments_lexer": "ipython3",
   "version": "3.12.7"
  }
 },
 "nbformat": 4,
 "nbformat_minor": 2
}
