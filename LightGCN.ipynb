{
 "cells": [
  {
   "cell_type": "code",
   "execution_count": 1,
   "metadata": {},
   "outputs": [],
   "source": [
    "#%pip install tqdm\n",
    "#%pip install ipywidgets \n",
    "\n",
    "import random\n",
    "import time\n",
    "import torch\n",
    "import torch.nn as nn\n",
    "import scipy.sparse as sp\n",
    "import pandas as pd\n",
    "import numpy as np\n",
    "import matplotlib.pyplot as plt\n",
    "from sklearn import preprocessing as pp\n",
    "from sklearn.model_selection import train_test_split\n",
    "from tqdm.notebook import tqdm"
   ]
  },
  {
   "cell_type": "markdown",
   "metadata": {},
   "source": [
    "## Load Data"
   ]
  },
  {
   "cell_type": "code",
   "execution_count": null,
   "metadata": {},
   "outputs": [
    {
     "name": "stdout",
     "output_type": "stream",
     "text": [
      "Train: 134745\n",
      "Test: 41596\n"
     ]
    },
    {
     "data": {
      "text/html": [
       "<div>\n",
       "<style scoped>\n",
       "    .dataframe tbody tr th:only-of-type {\n",
       "        vertical-align: middle;\n",
       "    }\n",
       "\n",
       "    .dataframe tbody tr th {\n",
       "        vertical-align: top;\n",
       "    }\n",
       "\n",
       "    .dataframe thead th {\n",
       "        text-align: right;\n",
       "    }\n",
       "</style>\n",
       "<table border=\"1\" class=\"dataframe\">\n",
       "  <thead>\n",
       "    <tr style=\"text-align: right;\">\n",
       "      <th></th>\n",
       "      <th>user_id</th>\n",
       "      <th>book_id</th>\n",
       "      <th>rating</th>\n",
       "      <th>date_added</th>\n",
       "      <th>n_votes</th>\n",
       "      <th>review_age</th>\n",
       "      <th>sentiment</th>\n",
       "    </tr>\n",
       "  </thead>\n",
       "  <tbody>\n",
       "    <tr>\n",
       "      <th>0</th>\n",
       "      <td>0</td>\n",
       "      <td>157993</td>\n",
       "      <td>5</td>\n",
       "      <td>2016-07-18 19:34:48+00:00</td>\n",
       "      <td>NaN</td>\n",
       "      <td>3004</td>\n",
       "      <td>0.574139</td>\n",
       "    </tr>\n",
       "    <tr>\n",
       "      <th>1</th>\n",
       "      <td>0</td>\n",
       "      <td>359079</td>\n",
       "      <td>4</td>\n",
       "      <td>2014-07-16 19:28:57+00:00</td>\n",
       "      <td>NaN</td>\n",
       "      <td>3737</td>\n",
       "      <td>0.527973</td>\n",
       "    </tr>\n",
       "    <tr>\n",
       "      <th>2</th>\n",
       "      <td>0</td>\n",
       "      <td>41684</td>\n",
       "      <td>4</td>\n",
       "      <td>2014-07-16 13:45:50+00:00</td>\n",
       "      <td>NaN</td>\n",
       "      <td>3738</td>\n",
       "      <td>0.527973</td>\n",
       "    </tr>\n",
       "    <tr>\n",
       "      <th>3</th>\n",
       "      <td>0</td>\n",
       "      <td>180617</td>\n",
       "      <td>4</td>\n",
       "      <td>2012-08-06 19:55:50+00:00</td>\n",
       "      <td>NaN</td>\n",
       "      <td>4446</td>\n",
       "      <td>0.527973</td>\n",
       "    </tr>\n",
       "    <tr>\n",
       "      <th>4</th>\n",
       "      <td>0</td>\n",
       "      <td>13023</td>\n",
       "      <td>3</td>\n",
       "      <td>2012-01-30 10:17:30+00:00</td>\n",
       "      <td>NaN</td>\n",
       "      <td>4636</td>\n",
       "      <td>0.406860</td>\n",
       "    </tr>\n",
       "  </tbody>\n",
       "</table>\n",
       "</div>"
      ],
      "text/plain": [
       "   user_id  book_id  rating                 date_added  n_votes  review_age  \\\n",
       "0        0   157993       5  2016-07-18 19:34:48+00:00      NaN        3004   \n",
       "1        0   359079       4  2014-07-16 19:28:57+00:00      NaN        3737   \n",
       "2        0    41684       4  2014-07-16 13:45:50+00:00      NaN        3738   \n",
       "3        0   180617       4  2012-08-06 19:55:50+00:00      NaN        4446   \n",
       "4        0    13023       3  2012-01-30 10:17:30+00:00      NaN        4636   \n",
       "\n",
       "   sentiment  \n",
       "0   0.574139  \n",
       "1   0.527973  \n",
       "2   0.527973  \n",
       "3   0.527973  \n",
       "4   0.406860  "
      ]
     },
     "execution_count": 176,
     "metadata": {},
     "output_type": "execute_result"
    }
   ],
   "source": [
    "train = pd.read_csv('train_interactions.csv')\n",
    "test = pd.read_csv('test_interactions.csv')\n",
    "\n",
    "\n",
    "train = train.sort_values(by=['user_id', 'review_age'])\n",
    "test = test.sort_values(by=['user_id', 'review_age'])\n",
    "\n",
    "print(f\"Train: {len(train)}\")\n",
    "print(f\"Test: {len(test)}\")\n",
    "train.head()"
   ]
  },
  {
   "cell_type": "markdown",
   "metadata": {},
   "source": [
    "## Label Encoding"
   ]
  },
  {
   "cell_type": "code",
   "execution_count": null,
   "metadata": {},
   "outputs": [
    {
     "name": "stdout",
     "output_type": "stream",
     "text": [
      "20798 14645\n",
      "40174\n"
     ]
    }
   ],
   "source": [
    "le_user = pp.LabelEncoder()\n",
    "le_item = pp.LabelEncoder()\n",
    "train['user_id_idx'] = le_user.fit_transform(train['user_id'].values)\n",
    "train['book_id_idx'] = le_item.fit_transform(train['book_id'].values)\n",
    "train_user_ids = train['user_id'].unique()\n",
    "train_item_ids = train['book_id'].unique()\n",
    "\n",
    "print(len(train_user_ids), len(train_item_ids))\n",
    "\n",
    "# Ensure that the test set only contains users and books in the training \n",
    "test = test[(test['user_id'].isin(train_user_ids)) & (test['book_id'].isin(train_item_ids))]\n",
    "print(len(test))"
   ]
  },
  {
   "cell_type": "code",
   "execution_count": null,
   "metadata": {},
   "outputs": [
    {
     "name": "stdout",
     "output_type": "stream",
     "text": [
      "Number of Unique Users :  20798\n",
      "Number of unique Items :  14645\n"
     ]
    }
   ],
   "source": [
    "test['user_id_idx'] = le_user.transform(test['user_id'].values)\n",
    "test['book_id_idx'] = le_item.transform(test['book_id'].values)\n",
    "\n",
    "n_users = train['user_id_idx'].nunique()\n",
    "n_items = train['book_id_idx'].nunique()\n",
    "print(\"Number of Unique Users : \", n_users)\n",
    "print(\"Number of unique Items : \", n_items)"
   ]
  },
  {
   "cell_type": "code",
   "execution_count": null,
   "metadata": {},
   "outputs": [],
   "source": [
    "latent_dim = 64  \n",
    "n_layers = 3  \n",
    "\n",
    "def convert_to_sparse_tensor(dok_mtrx):\n",
    "    dok_mtrx_coo = dok_mtrx.tocoo().astype(np.float32)  \n",
    "    values = dok_mtrx_coo.data  \n",
    "    indices = np.vstack((dok_mtrx_coo.row, dok_mtrx_coo.col))\n",
    "\n",
    "    i = torch.LongTensor(indices)\n",
    "    v = torch.FloatTensor(values)\n",
    "    shape = dok_mtrx_coo.shape\n",
    "\n",
    "    dok_mtrx_sparse_tensor = torch.sparse.FloatTensor(i, v, torch.Size(shape))\n",
    "\n",
    "    return dok_mtrx_sparse_tensor"
   ]
  },
  {
   "cell_type": "markdown",
   "metadata": {},
   "source": [
    "## Define function for evaluation metrics"
   ]
  },
  {
   "cell_type": "code",
   "execution_count": null,
   "metadata": {},
   "outputs": [],
   "source": [
    "def get_metrics(user_Embed_wts, book_Embed_wts, n_users, n_items, train_data, test_data, K):\n",
    "\n",
    "    # Initialize user and item embeddings using pre-trained weights\n",
    "    user_Embedding = nn.Embedding(user_Embed_wts.size()[0], user_Embed_wts.size()[1], _weight = user_Embed_wts)\n",
    "    item_Embedding = nn.Embedding(book_Embed_wts.size()[0], book_Embed_wts.size()[1], _weight = book_Embed_wts)\n",
    "\n",
    "    # Get unique user IDs in the test set\n",
    "    test_user_ids = torch.LongTensor(test_data['user_id_idx'].unique())\n",
    "\n",
    "    # Compute relevance score matrix based on user and item embeddings\n",
    "    relevance_score = torch.matmul(user_Embed_wts, torch.transpose(book_Embed_wts,0, 1))\n",
    "\n",
    "    # Initialize a sparse matrix R with interactions from the training data\n",
    "    R = sp.dok_matrix((n_users, n_items), dtype = np.float32)\n",
    "    R[train_data['user_id_idx'], train_data['book_id_idx']] = 1.0\n",
    "\n",
    "    # Convert sparse matrix R to a sparse tensor\n",
    "    R_tensor = convert_to_sparse_tensor(R)\n",
    "    R_tensor_dense = R_tensor.to_dense()\n",
    "\n",
    "    # Set non-interacted items in the relevance score matrix to negative infinity\n",
    "    R_tensor_dense = R_tensor_dense*(-np.inf)\n",
    "    R_tensor_dense = torch.nan_to_num(R_tensor_dense, nan=0.0)\n",
    "\n",
    "    # Add the relevance score matrix and the non-interacted items matrix\n",
    "    relevance_score = relevance_score + R_tensor_dense\n",
    "\n",
    "    # Retrieve the top-K relevance scores and their corresponding indices\n",
    "    topk_relevance_score = torch.topk(relevance_score, K).values\n",
    "    topk_relevance_indices = torch.topk(relevance_score, K).indices\n",
    "\n",
    "    # Convert top-K relevance indices to a DataFrame\n",
    "    topk_relevance_indices_df = pd.DataFrame(topk_relevance_indices.numpy(),columns =['top_indx_'+str(x+1) for x in range(K)])\n",
    "    topk_relevance_indices_df['user_ID'] = topk_relevance_indices_df.index\n",
    "    topk_relevance_indices_df['top_rlvnt_itm'] = topk_relevance_indices_df[['top_indx_'+str(x+1) for x in range(K)]].values.tolist()\n",
    "    topk_relevance_indices_df = topk_relevance_indices_df[['user_ID','top_rlvnt_itm']]\n",
    "\n",
    "    # Group the test set by user ID and retrieve the list of interacted items\n",
    "    test_interacted_items = test_data.groupby('user_id_idx')['book_id_idx'].apply(list).reset_index()\n",
    "\n",
    "    # Merge the interacted items list with the top-K relevance indices DataFrame\n",
    "    metrics_df = pd.merge(test_interacted_items,topk_relevance_indices_df, how= 'left', left_on = 'user_id_idx',right_on = ['user_ID'])\n",
    "    metrics_df['intrsctn_itm'] = [list(set(a).intersection(b)) for a, b in zip(metrics_df.book_id_idx, metrics_df.top_rlvnt_itm)]\n",
    "\n",
    "    # Compute recall, precision, and hit list metrics\n",
    "    metrics_df['recall'] = metrics_df.apply(lambda x : len(x['intrsctn_itm'])/len(x['book_id_idx']), axis = 1)\n",
    "    metrics_df['precision'] = metrics_df.apply(lambda x : len(x['intrsctn_itm'])/K, axis = 1)\n",
    "\n",
    "    # Check if each recommended item is in the interacted item list\n",
    "    def get_hit_list(book_id_idx, top_rlvnt_itm):\n",
    "        return [1 if x in set(book_id_idx) else 0 for x in top_rlvnt_itm ]\n",
    "    metrics_df['hit_list'] = metrics_df.apply(lambda x : get_hit_list(x['book_id_idx'], x['top_rlvnt_itm']), axis = 1)\n",
    "\n",
    "    # Calculate the ideal DCG (IDCG) based on the number of interacted items and the hit list\n",
    "    def get_dcg_idcg(book_id_idx, hit_list):\n",
    "        idcg  = sum([1 / np.log1p(idx+1) for idx in range(min(len(book_id_idx),len(hit_list)))])\n",
    "        dcg =  sum([hit / np.log1p(idx+1) for idx, hit in enumerate(hit_list)])\n",
    "        return dcg/idcg\n",
    "    metrics_df['ndcg'] = metrics_df.apply(lambda x : get_dcg_idcg(x['book_id_idx'], x['hit_list']), axis = 1)\n",
    "\n",
    "    # Calculate the cumulative sum of hits in the hit list\n",
    "    def get_cumsum(hit_list):\n",
    "        return np.cumsum(hit_list)\n",
    "    metrics_df['hit_list_cumsum'] = metrics_df.apply(lambda x : get_cumsum(x['hit_list']), axis = 1)\n",
    "\n",
    "    # Calculate the mean average precision (MAP) for a user\n",
    "    def get_map(book_id_idx, hit_list, hit_list_cumsum):\n",
    "        return sum([hit_cumsum*hit/(idx+1) for idx, (hit, hit_cumsum) in enumerate(zip(hit_list, hit_list_cumsum))])/len(book_id_idx)\n",
    "    metrics_df['map'] = metrics_df.apply(lambda x : get_map(x['book_id_idx'], x['hit_list'], x['hit_list_cumsum']), axis = 1)\n",
    "\n",
    "    return topk_relevance_indices_df, metrics_df['recall'].mean(), metrics_df['precision'].mean(), metrics_df['ndcg'].mean(), metrics_df['map'].mean()"
   ]
  },
  {
   "cell_type": "markdown",
   "metadata": {},
   "source": [
    "## Graph and Model Construction"
   ]
  },
  {
   "cell_type": "code",
   "execution_count": null,
   "metadata": {},
   "outputs": [],
   "source": [
    "class LightGCN(nn.Module):\n",
    "    def __init__(self, data, n_users, n_items, n_layers, latent_dim):\n",
    "        super(LightGCN, self).__init__()\n",
    "        self.data = data\n",
    "        self.n_users = n_users\n",
    "        self.n_items = n_items\n",
    "        self.n_layers = n_layers\n",
    "        self.latent_dim = latent_dim\n",
    "        self.init_embedding()\n",
    "        # Constructs the normalized adjacency matrix for the user-item graph in sparse tensor form.\n",
    "        self.norm_adj_mat_sparse_tensor = self.get_A_tilda()\n",
    "\n",
    "    def init_embedding(self):\n",
    "        # Creates an embedding matrix E0 for both users and items, where each has a latent_dim dimensional embedding.\n",
    "        self.E0 = nn.Embedding(self.n_users + self.n_items, self.latent_dim)\n",
    "        # Initializes the embedding weights using Xavier uniform initialization\n",
    "        nn.init.xavier_uniform_(self.E0.weight)\n",
    "        # Convert embedding weights to Parameter\n",
    "        self.E0.weight = nn.Parameter(self.E0.weight)\n",
    "\n",
    "    # Creates and normalizes adjacency matrix for the bipartite graph and return its sparse tensor\n",
    "    def get_A_tilda(self):\n",
    "        # Initializes sparse dictionary-of-keys (DOK) matrix R to represent the user-item interaction matrix.\n",
    "        R = sp.dok_matrix((self.n_users, self.n_items), dtype = np.float32)\n",
    "        # Populates the matrix R with 1.0 at positions where interactions between users and items exist (i.e., where the user-item pair occurs).\n",
    "        R[self.data['user_id_idx'], self.data['book_id_idx']] = 1.0\n",
    "\n",
    "        # Create adjacency matrix for the bipartite graph\n",
    "        adj_mat = sp.dok_matrix(\n",
    "                (self.n_users + self.n_items, self.n_users + self.n_items), dtype=np.float32\n",
    "            )\n",
    "        adj_mat = adj_mat.tolil()\n",
    "        R = R.tolil()\n",
    "        # user-to-item connections \n",
    "        adj_mat[: n_users, n_users :] = R\n",
    "        # item-to-user connections \n",
    "        adj_mat[n_users :, : n_users] = R.T\n",
    "        adj_mat = adj_mat.todok()\n",
    "\n",
    "        # Normalize adjacency matrix using the inverse degree matrix.\n",
    "        rowsum = np.array(adj_mat.sum(1))\n",
    "        d_inv = np.power(rowsum + 1e-9, -0.5).flatten()\n",
    "        d_inv[np.isinf(d_inv)] = 0.0\n",
    "        d_mat_inv = sp.diags(d_inv)\n",
    "        # normalizes the rows of the adjacency matrix\n",
    "        norm_adj_mat = d_mat_inv.dot(adj_mat)\n",
    "        # normalizes the columns of adjacency matrix\n",
    "        norm_adj_mat = norm_adj_mat.dot(d_mat_inv)\n",
    "\n",
    "        # Convert the dok_matrix to sparse tensor.\n",
    "\n",
    "        norm_adj_mat_coo = norm_adj_mat.tocoo().astype(np.float32)\n",
    "        values = norm_adj_mat_coo.data\n",
    "        indices = np.vstack((norm_adj_mat_coo.row, norm_adj_mat_coo.col))\n",
    "\n",
    "        i = torch.LongTensor(indices)\n",
    "        v = torch.FloatTensor(values)\n",
    "        shape = norm_adj_mat_coo.shape\n",
    "\n",
    "        norm_adj_mat_sparse_tensor = torch.sparse.FloatTensor(i, v, torch.Size(shape))\n",
    "\n",
    "        return norm_adj_mat_sparse_tensor\n",
    "\n",
    "    # propagate user and item embeddings through the network \n",
    "    def propagate_through_layers(self):\n",
    "        all_layer_embedding = [self.E0.weight]\n",
    "        E_lyr = self.E0.weight\n",
    "\n",
    "        for layer in range(self.n_layers):\n",
    "            E_lyr = torch.sparse.mm(self.norm_adj_mat_sparse_tensor, E_lyr)\n",
    "            all_layer_embedding.append(E_lyr)\n",
    "\n",
    "        all_layer_embedding = torch.stack(all_layer_embedding)\n",
    "        mean_layer_embedding = torch.mean(all_layer_embedding, axis = 0)\n",
    "\n",
    "        final_user_Embed, final_item_Embed = torch.split(mean_layer_embedding, [n_users, n_items])\n",
    "        initial_user_Embed, initial_item_Embed = torch.split(self.E0.weight, [n_users, n_items])\n",
    "\n",
    "        return final_user_Embed, final_item_Embed, initial_user_Embed, initial_item_Embed\n",
    "\n",
    "    # define the forward pass of the model, compute the final embeddings for given users and items\n",
    "    def forward(self, users, pos_items, neg_items):\n",
    "        final_user_Embed, final_item_Embed, initial_user_Embed, initial_item_Embed = self.propagate_through_layers()\n",
    "\n",
    "        users_emb, pos_emb, neg_emb = final_user_Embed[users], final_item_Embed[pos_items], final_item_Embed[neg_items]\n",
    "        userEmb0,  posEmb0, negEmb0 = initial_user_Embed[users], initial_item_Embed[pos_items], initial_item_Embed[neg_items]\n",
    "\n",
    "        return users_emb, pos_emb, neg_emb, userEmb0,  posEmb0, negEmb0"
   ]
  },
  {
   "cell_type": "code",
   "execution_count": 182,
   "metadata": {},
   "outputs": [
    {
     "name": "stdout",
     "output_type": "stream",
     "text": [
      "Size of Learnable Embedding :  torch.Size([35443, 64])\n"
     ]
    }
   ],
   "source": [
    "lightGCN = LightGCN(train, n_users, n_items, n_layers, latent_dim)\n",
    "print(\"Size of Learnable Embedding : \", list(lightGCN.parameters())[0].size())\n",
    "# You should find that the number of embeddings is the sum of the number of unqiue users and the number of unique items"
   ]
  },
  {
   "cell_type": "markdown",
   "metadata": {},
   "source": [
    "## Model Training and Evaluation"
   ]
  },
  {
   "cell_type": "code",
   "execution_count": 183,
   "metadata": {},
   "outputs": [],
   "source": [
    "def bpr_loss(users, users_emb, pos_emb, neg_emb, userEmb0,  posEmb0, negEmb0):\n",
    "    # Compute regularization loss\n",
    "    reg_loss = (1/2)*(userEmb0.norm().pow(2) +\n",
    "                    posEmb0.norm().pow(2)  +\n",
    "                    negEmb0.norm().pow(2))/float(len(users))\n",
    "\n",
    "    # Compute scores for positive and negative items\n",
    "    pos_scores = torch.mul(users_emb, pos_emb)\n",
    "    pos_scores = torch.sum(pos_scores, dim=1)\n",
    "    neg_scores = torch.mul(users_emb, neg_emb)\n",
    "    neg_scores = torch.sum(neg_scores, dim=1)\n",
    "\n",
    "    # Compute BPR loss using softplus function\n",
    "    loss = torch.mean(torch.nn.functional.softplus(neg_scores - pos_scores))\n",
    "    return loss, reg_loss"
   ]
  },
  {
   "cell_type": "code",
   "execution_count": null,
   "metadata": {},
   "outputs": [],
   "source": [
    "def data_loader(data, batch_size, n_usr, n_itm):\n",
    "    # Group interactions by user ID and sample negative items\n",
    "    interected_items_df = data.groupby('user_id_idx')['book_id_idx'].apply(list).reset_index()\n",
    "\n",
    "    def sample_neg(x):\n",
    "        while True:\n",
    "            neg_id = random.randint(0, n_itm - 1)\n",
    "            if neg_id not in x:\n",
    "                return neg_id\n",
    "\n",
    "    indices = [x for x in range(n_usr)]\n",
    "\n",
    "    if n_usr < batch_size:\n",
    "        users = [random.choice(indices) for _ in range(batch_size)]\n",
    "    else:\n",
    "        users = random.sample(indices, batch_size)\n",
    "\n",
    "    users.sort()\n",
    "    users_df = pd.DataFrame(users,columns = ['users'])\n",
    "    interected_items_df = pd.merge(interected_items_df, users_df, how = 'right', left_on = 'user_id_idx', right_on = 'users')\n",
    "\n",
    "    # Select positive and negative items for each user\n",
    "    pos_items = interected_items_df['book_id_idx'].apply(lambda x : random.choice(x)).values\n",
    "    neg_items = interected_items_df['book_id_idx'].apply(lambda x: sample_neg(x)).values\n",
    "\n",
    "    return list(users), list(pos_items), list(neg_items)"
   ]
  },
  {
   "cell_type": "code",
   "execution_count": 199,
   "metadata": {},
   "outputs": [],
   "source": [
    "optimizer = torch.optim.Adam(lightGCN.parameters(), lr = 0.005)\n",
    "EPOCHS = 30\n",
    "BATCH_SIZE = 1024\n",
    "DECAY = 0.0001\n",
    "K = 10"
   ]
  },
  {
   "cell_type": "code",
   "execution_count": null,
   "metadata": {},
   "outputs": [
    {
     "data": {
      "application/vnd.jupyter.widget-view+json": {
       "model_id": "7c4768b4051448a68ca855f2a12eaaaf",
       "version_major": 2,
       "version_minor": 0
      },
      "text/plain": [
       "  0%|          | 0/30 [00:00<?, ?it/s]"
      ]
     },
     "metadata": {},
     "output_type": "display_data"
    }
   ],
   "source": [
    "loss_list_epoch = []\n",
    "MF_loss_list_epoch = []\n",
    "reg_loss_list_epoch = []\n",
    "\n",
    "recall_list = []\n",
    "precision_list = []\n",
    "ndcg_list = []\n",
    "map_list = []\n",
    "\n",
    "train_time_list = []\n",
    "eval_time_list = []\n",
    "\n",
    "for epoch in tqdm(range(EPOCHS)):\n",
    "    n_batch = int(len(train)/BATCH_SIZE)\n",
    "\n",
    "    # Initialization\n",
    "    final_loss_list = []\n",
    "    MF_loss_list = []\n",
    "    reg_loss_list = []\n",
    "    best_ndcg = -1\n",
    "    train_start_time = time.time()\n",
    "\n",
    "    lightGCN.train()\n",
    "\n",
    "    for batch_idx in range(n_batch):\n",
    "        # Reset gradients\n",
    "        optimizer.zero_grad()\n",
    "        # Load data for the current batch\n",
    "        users, pos_items, neg_items = data_loader(train, BATCH_SIZE, n_users, n_items)\n",
    "        # Perform forward pass through the model\n",
    "        users_emb, pos_emb, neg_emb, userEmb0,  posEmb0, negEmb0 = lightGCN.forward(users, pos_items, neg_items)\n",
    "        # Compute BPR loss and regularization loss\n",
    "        mf_loss, reg_loss = bpr_loss(users, users_emb, pos_emb, neg_emb, userEmb0,  posEmb0, negEmb0)\n",
    "        reg_loss = DECAY * reg_loss  # Apply weight decay\n",
    "        # Combine losses to get the final loss\n",
    "        final_loss = mf_loss + reg_loss\n",
    "        # Perform backward pass and update model parameters\n",
    "        final_loss.backward()\n",
    "        optimizer.step()\n",
    "        # Record losses for monitoring\n",
    "        final_loss_list.append(final_loss.item())\n",
    "        MF_loss_list.append(mf_loss.item())\n",
    "        reg_loss_list.append(reg_loss.item())\n",
    "\n",
    "\n",
    "    train_end_time = time.time()\n",
    "    train_time = train_end_time - train_start_time\n",
    "\n",
    "    # model evaluation\n",
    "    lightGCN.eval()\n",
    "    with torch.no_grad():\n",
    "        final_user_Embed, final_item_Embed, initial_user_Embed,initial_item_Embed = lightGCN.propagate_through_layers()\n",
    "        pred, test_topK_recall,  test_topK_precision, test_topK_ndcg, test_topK_map  = get_metrics(final_user_Embed, final_item_Embed, n_users, n_items, train, test, K)\n",
    "\n",
    "\n",
    "    eval_time = time.time() - train_end_time\n",
    "\n",
    "    # calculate and append the mean values of various loss and evaluation metrics for each epoch to their respective lists.\n",
    "    loss_list_epoch.append(round(np.mean(final_loss_list),4))\n",
    "    MF_loss_list_epoch.append(round(np.mean(MF_loss_list),4))\n",
    "    reg_loss_list_epoch.append(round(np.mean(reg_loss_list),4))\n",
    "\n",
    "    recall_list.append(round(test_topK_recall,4))\n",
    "    precision_list.append(round(test_topK_precision,4))\n",
    "    ndcg_list.append(round(test_topK_ndcg,4))\n",
    "    map_list.append(round(test_topK_map,4))\n",
    "\n",
    "    train_time_list.append(train_time)\n",
    "    eval_time_list.append(eval_time)"
   ]
  },
  {
   "cell_type": "code",
   "execution_count": 201,
   "metadata": {},
   "outputs": [
    {
     "data": {
      "text/plain": [
       "<matplotlib.legend.Legend at 0x29cfab490>"
      ]
     },
     "execution_count": 201,
     "metadata": {},
     "output_type": "execute_result"
    },
    {
     "data": {
      "image/png": "[encoded data removed]",
      "text/plain": [
       "<Figure size 640x480 with 1 Axes>"
      ]
     },
     "metadata": {},
     "output_type": "display_data"
    }
   ],
   "source": [
    "epoch_list = [(i+1) for i in range(EPOCHS)]\n",
    "plt.plot(epoch_list, recall_list, label='Recall')\n",
    "plt.plot(epoch_list, precision_list, label='Precision')\n",
    "plt.plot(epoch_list, ndcg_list, label='NDCG')\n",
    "plt.plot(epoch_list, map_list, label='MAP')\n",
    "plt.xlabel('Epoch')\n",
    "plt.ylabel('Metrics')\n",
    "plt.legend()"
   ]
  },
  {
   "cell_type": "code",
   "execution_count": 202,
   "metadata": {},
   "outputs": [
    {
     "data": {
      "text/plain": [
       "<matplotlib.legend.Legend at 0x2a8f803a0>"
      ]
     },
     "execution_count": 202,
     "metadata": {},
     "output_type": "execute_result"
    },
    {
     "data": {
      "image/png": "[encoded data removed]",
      "text/plain": [
       "<Figure size 640x480 with 1 Axes>"
      ]
     },
     "metadata": {},
     "output_type": "display_data"
    }
   ],
   "source": [
    "plt.plot(epoch_list, loss_list_epoch, label='Total Training Loss')\n",
    "plt.plot(epoch_list, MF_loss_list_epoch, label='MF Training Loss')\n",
    "plt.plot(epoch_list, reg_loss_list_epoch, label='Reg Training Loss')\n",
    "\n",
    "plt.xlabel('Epoch')\n",
    "plt.ylabel('Loss')\n",
    "plt.legend()"
   ]
  },
  {
   "cell_type": "code",
   "execution_count": 203,
   "metadata": {},
   "outputs": [
    {
     "name": "stdout",
     "output_type": "stream",
     "text": [
      "Last Epoch's Test Data Recall ->  0.3651\n",
      "Last Epoch's Test Data Precision ->  0.0722\n",
      "Last Epoch's Test Data NDCG ->  0.2661\n",
      "Last Epoch's Test Data MAP ->  0.1955\n",
      "Last Epoch's Train Data Loss ->  0.0036\n"
     ]
    }
   ],
   "source": [
    "print(\"Last Epoch's Test Data Recall -> \", recall_list[-1])\n",
    "print(\"Last Epoch's Test Data Precision -> \", precision_list[-1])\n",
    "print(\"Last Epoch's Test Data NDCG -> \", ndcg_list[-1])\n",
    "print(\"Last Epoch's Test Data MAP -> \", map_list[-1])\n",
    "\n",
    "print(\"Last Epoch's Train Data Loss -> \", loss_list_epoch[-1])"
   ]
  },
  {
   "cell_type": "markdown",
   "metadata": {},
   "source": [
    "## Evaluate on Test Set"
   ]
  },
  {
   "cell_type": "code",
   "execution_count": 204,
   "metadata": {},
   "outputs": [],
   "source": [
    "with torch.no_grad():\n",
    "    final_user_Embed, final_item_Embed, initial_user_Embed,initial_item_Embed = lightGCN.propagate_through_layers()\n",
    "    pred, test_topK_recall,  test_topK_precision, test_topK_ndcg, test_topK_map  = get_metrics(final_user_Embed, final_item_Embed, n_users, n_items, train, test, K)"
   ]
  },
  {
   "cell_type": "code",
   "execution_count": 205,
   "metadata": {},
   "outputs": [],
   "source": [
    "def eval_test(row, test):\n",
    "    user_df = test[test.user_id == row['user_ID']]['book_id_idx'].unique().tolist()\n",
    "    intersect = set(row.top_rlvnt_itm).intersection(set(user_df))\n",
    "\n",
    "    return True if intersect else False\n",
    "    "
   ]
  },
  {
   "cell_type": "code",
   "execution_count": 206,
   "metadata": {},
   "outputs": [
    {
     "data": {
      "text/html": [
       "<div>\n",
       "<style scoped>\n",
       "    .dataframe tbody tr th:only-of-type {\n",
       "        vertical-align: middle;\n",
       "    }\n",
       "\n",
       "    .dataframe tbody tr th {\n",
       "        vertical-align: top;\n",
       "    }\n",
       "\n",
       "    .dataframe thead th {\n",
       "        text-align: right;\n",
       "    }\n",
       "</style>\n",
       "<table border=\"1\" class=\"dataframe\">\n",
       "  <thead>\n",
       "    <tr style=\"text-align: right;\">\n",
       "      <th></th>\n",
       "      <th>user_ID</th>\n",
       "      <th>top_rlvnt_itm</th>\n",
       "      <th>eval</th>\n",
       "    </tr>\n",
       "  </thead>\n",
       "  <tbody>\n",
       "    <tr>\n",
       "      <th>0</th>\n",
       "      <td>0</td>\n",
       "      <td>[2151, 836, 314, 1548, 186, 275, 475, 3970, 10...</td>\n",
       "      <td>False</td>\n",
       "    </tr>\n",
       "    <tr>\n",
       "      <th>1</th>\n",
       "      <td>1</td>\n",
       "      <td>[3698, 3695, 934, 933, 914, 2, 1458, 3694, 193...</td>\n",
       "      <td>False</td>\n",
       "    </tr>\n",
       "    <tr>\n",
       "      <th>2</th>\n",
       "      <td>2</td>\n",
       "      <td>[84, 449, 101, 100, 354, 807, 95, 85, 102, 2886]</td>\n",
       "      <td>False</td>\n",
       "    </tr>\n",
       "    <tr>\n",
       "      <th>3</th>\n",
       "      <td>3</td>\n",
       "      <td>[22, 286, 58, 2558, 1458, 704, 1275, 4544, 276...</td>\n",
       "      <td>False</td>\n",
       "    </tr>\n",
       "    <tr>\n",
       "      <th>4</th>\n",
       "      <td>4</td>\n",
       "      <td>[357, 22, 1602, 6548, 193, 858, 747, 2898, 78,...</td>\n",
       "      <td>True</td>\n",
       "    </tr>\n",
       "    <tr>\n",
       "      <th>...</th>\n",
       "      <td>...</td>\n",
       "      <td>...</td>\n",
       "      <td>...</td>\n",
       "    </tr>\n",
       "    <tr>\n",
       "      <th>20793</th>\n",
       "      <td>20793</td>\n",
       "      <td>[333, 354, 1602, 1332, 357, 1286, 58, 78, 1282...</td>\n",
       "      <td>True</td>\n",
       "    </tr>\n",
       "    <tr>\n",
       "      <th>20794</th>\n",
       "      <td>20794</td>\n",
       "      <td>[176, 1010, 280, 78, 354, 836, 186, 333, 116, ...</td>\n",
       "      <td>True</td>\n",
       "    </tr>\n",
       "    <tr>\n",
       "      <th>20795</th>\n",
       "      <td>20795</td>\n",
       "      <td>[354, 2806, 673, 2028, 81, 11, 84, 2886, 560, 1]</td>\n",
       "      <td>True</td>\n",
       "    </tr>\n",
       "    <tr>\n",
       "      <th>20796</th>\n",
       "      <td>20796</td>\n",
       "      <td>[78, 299, 1832, 435, 1458, 2886, 354, 1501, 91...</td>\n",
       "      <td>False</td>\n",
       "    </tr>\n",
       "    <tr>\n",
       "      <th>20797</th>\n",
       "      <td>20797</td>\n",
       "      <td>[435, 230, 1, 333, 541, 22, 616, 596, 229, 354]</td>\n",
       "      <td>True</td>\n",
       "    </tr>\n",
       "  </tbody>\n",
       "</table>\n",
       "<p>20798 rows × 3 columns</p>\n",
       "</div>"
      ],
      "text/plain": [
       "       user_ID                                      top_rlvnt_itm   eval\n",
       "0            0  [2151, 836, 314, 1548, 186, 275, 475, 3970, 10...  False\n",
       "1            1  [3698, 3695, 934, 933, 914, 2, 1458, 3694, 193...  False\n",
       "2            2   [84, 449, 101, 100, 354, 807, 95, 85, 102, 2886]  False\n",
       "3            3  [22, 286, 58, 2558, 1458, 704, 1275, 4544, 276...  False\n",
       "4            4  [357, 22, 1602, 6548, 193, 858, 747, 2898, 78,...   True\n",
       "...        ...                                                ...    ...\n",
       "20793    20793  [333, 354, 1602, 1332, 357, 1286, 58, 78, 1282...   True\n",
       "20794    20794  [176, 1010, 280, 78, 354, 836, 186, 333, 116, ...   True\n",
       "20795    20795   [354, 2806, 673, 2028, 81, 11, 84, 2886, 560, 1]   True\n",
       "20796    20796  [78, 299, 1832, 435, 1458, 2886, 354, 1501, 91...  False\n",
       "20797    20797    [435, 230, 1, 333, 541, 22, 616, 596, 229, 354]   True\n",
       "\n",
       "[20798 rows x 3 columns]"
      ]
     },
     "execution_count": 206,
     "metadata": {},
     "output_type": "execute_result"
    }
   ],
   "source": [
    "pred['eval'] = pred.apply(lambda row: eval_test(row, test), axis=1)\n",
    "pred"
   ]
  },
  {
   "cell_type": "code",
   "execution_count": 210,
   "metadata": {},
   "outputs": [
    {
     "name": "stdout",
     "output_type": "stream",
     "text": [
      "True: 11182\n",
      "False: 9616\n",
      "Accuracy: 0.5376478507548803\n"
     ]
    }
   ],
   "source": [
    "true_count = pred['eval'].value_counts().get(True, 0)\n",
    "false_count = pred['eval'].value_counts().get(False, 0)\n",
    "\n",
    "# Print in markdown format\n",
    "print(f\"True: {true_count}\")\n",
    "print(f\"False: {false_count}\")\n",
    "print(f\"Accuracy: {true_count/(true_count + false_count)}\")"
   ]
  }
 ],
 "metadata": {
  "kernelspec": {
   "display_name": ".venv",
   "language": "python",
   "name": "python3"
  },
  "language_info": {
   "codemirror_mode": {
    "name": "ipython",
    "version": 3
   },
   "file_extension": ".py",
   "mimetype": "text/x-python",
   "name": "python",
   "nbconvert_exporter": "python",
   "pygments_lexer": "ipython3",
   "version": "3.10.10"
  }
 },
 "nbformat": 4,
 "nbformat_minor": 2
}
