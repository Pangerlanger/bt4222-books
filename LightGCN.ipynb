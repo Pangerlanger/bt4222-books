{
 "cells": [
  {
   "cell_type": "code",
   "execution_count": 1,
   "metadata": {},
   "outputs": [],
   "source": [
    "#%pip install tqdm\n",
    "#%pip install ipywidgets \n",
    "\n",
    "import random\n",
    "import time\n",
    "import torch\n",
    "import torch.nn as nn\n",
    "import scipy.sparse as sp\n",
    "import pandas as pd\n",
    "import numpy as np\n",
    "import matplotlib.pyplot as plt\n",
    "from sklearn import preprocessing as pp\n",
    "from sklearn.model_selection import train_test_split\n",
    "from tqdm.notebook import tqdm"
   ]
  },
  {
   "cell_type": "code",
   "execution_count": 6,
   "metadata": {},
   "outputs": [
    {
     "data": {
      "text/plain": [
       "64936.8"
      ]
     },
     "execution_count": 6,
     "metadata": {},
     "output_type": "execute_result"
    }
   ],
   "source": [
    "0.8 * 81171\n"
   ]
  },
  {
   "cell_type": "code",
   "execution_count": 7,
   "metadata": {},
   "outputs": [
    {
     "name": "stdout",
     "output_type": "stream",
     "text": [
      "255872\n",
      "81171\n"
     ]
    },
    {
     "data": {
      "text/html": [
       "<div>\n",
       "<style scoped>\n",
       "    .dataframe tbody tr th:only-of-type {\n",
       "        vertical-align: middle;\n",
       "    }\n",
       "\n",
       "    .dataframe tbody tr th {\n",
       "        vertical-align: top;\n",
       "    }\n",
       "\n",
       "    .dataframe thead th {\n",
       "        text-align: right;\n",
       "    }\n",
       "</style>\n",
       "<table border=\"1\" class=\"dataframe\">\n",
       "  <thead>\n",
       "    <tr style=\"text-align: right;\">\n",
       "      <th></th>\n",
       "      <th>user_id</th>\n",
       "      <th>book_id</th>\n",
       "      <th>rating</th>\n",
       "      <th>n_votes</th>\n",
       "      <th>review_age</th>\n",
       "      <th>sentiment</th>\n",
       "    </tr>\n",
       "  </thead>\n",
       "  <tbody>\n",
       "    <tr>\n",
       "      <th>0</th>\n",
       "      <td>1</td>\n",
       "      <td>39343</td>\n",
       "      <td>2</td>\n",
       "      <td>0.0</td>\n",
       "      <td>3434</td>\n",
       "      <td>0.851100</td>\n",
       "    </tr>\n",
       "    <tr>\n",
       "      <th>1</th>\n",
       "      <td>1</td>\n",
       "      <td>21648</td>\n",
       "      <td>0</td>\n",
       "      <td>NaN</td>\n",
       "      <td>3435</td>\n",
       "      <td>0.406046</td>\n",
       "    </tr>\n",
       "    <tr>\n",
       "      <th>2</th>\n",
       "      <td>2</td>\n",
       "      <td>7794</td>\n",
       "      <td>4</td>\n",
       "      <td>0.0</td>\n",
       "      <td>3046</td>\n",
       "      <td>-0.421500</td>\n",
       "    </tr>\n",
       "    <tr>\n",
       "      <th>3</th>\n",
       "      <td>3</td>\n",
       "      <td>8637</td>\n",
       "      <td>3</td>\n",
       "      <td>NaN</td>\n",
       "      <td>3343</td>\n",
       "      <td>0.406860</td>\n",
       "    </tr>\n",
       "    <tr>\n",
       "      <th>4</th>\n",
       "      <td>3</td>\n",
       "      <td>50719</td>\n",
       "      <td>4</td>\n",
       "      <td>NaN</td>\n",
       "      <td>3367</td>\n",
       "      <td>0.527973</td>\n",
       "    </tr>\n",
       "  </tbody>\n",
       "</table>\n",
       "</div>"
      ],
      "text/plain": [
       "   user_id  book_id  rating  n_votes  review_age  sentiment\n",
       "0        1    39343       2      0.0        3434   0.851100\n",
       "1        1    21648       0      NaN        3435   0.406046\n",
       "2        2     7794       4      0.0        3046  -0.421500\n",
       "3        3     8637       3      NaN        3343   0.406860\n",
       "4        3    50719       4      NaN        3367   0.527973"
      ]
     },
     "execution_count": 7,
     "metadata": {},
     "output_type": "execute_result"
    }
   ],
   "source": [
    "train = pd.read_csv('train_interactions.csv')\n",
    "val = pd.read_csv('val_interactions.csv')\n",
    "test = pd.read_csv('test_interactions.csv')\n",
    "print(len(train))\n",
    "print(len(test))\n",
    "\n",
    "train = train.iloc[:200000]\n",
    "test = test.iloc[:65000]\n",
    "train.head()"
   ]
  },
  {
   "cell_type": "code",
   "execution_count": null,
   "metadata": {},
   "outputs": [
    {
     "data": {
      "text/html": [
       "<div>\n",
       "<style scoped>\n",
       "    .dataframe tbody tr th:only-of-type {\n",
       "        vertical-align: middle;\n",
       "    }\n",
       "\n",
       "    .dataframe tbody tr th {\n",
       "        vertical-align: top;\n",
       "    }\n",
       "\n",
       "    .dataframe thead th {\n",
       "        text-align: right;\n",
       "    }\n",
       "</style>\n",
       "<table border=\"1\" class=\"dataframe\">\n",
       "  <thead>\n",
       "    <tr style=\"text-align: right;\">\n",
       "      <th></th>\n",
       "      <th>user_id</th>\n",
       "      <th>book_id</th>\n",
       "      <th>review_id</th>\n",
       "      <th>rating</th>\n",
       "      <th>review_text_incomplete</th>\n",
       "      <th>date_added</th>\n",
       "      <th>n_votes</th>\n",
       "      <th>review_age</th>\n",
       "      <th>processed_review</th>\n",
       "      <th>sentiment</th>\n",
       "    </tr>\n",
       "  </thead>\n",
       "  <tbody>\n",
       "    <tr>\n",
       "      <th>0</th>\n",
       "      <td>5e09e38e178edf7b524913c729854741</td>\n",
       "      <td>1238713</td>\n",
       "      <td>70404201fa55d30b1bd533fc256faa62</td>\n",
       "      <td>4</td>\n",
       "      <td>This is a great little book for some basic und...</td>\n",
       "      <td>2013-03-01 16:18:54+00:00</td>\n",
       "      <td>0.0</td>\n",
       "      <td>4239</td>\n",
       "      <td>great little book basic understanding cultural...</td>\n",
       "      <td>0.624900</td>\n",
       "    </tr>\n",
       "    <tr>\n",
       "      <th>1</th>\n",
       "      <td>4a44f603cc3df339acc48590044a2db0</td>\n",
       "      <td>23657459</td>\n",
       "      <td>2bc0fd2ad44fa22898befd3d1274e6e9</td>\n",
       "      <td>0</td>\n",
       "      <td>NaN</td>\n",
       "      <td>2017-06-23 21:06:40+00:00</td>\n",
       "      <td>NaN</td>\n",
       "      <td>2664</td>\n",
       "      <td>NaN</td>\n",
       "      <td>0.406046</td>\n",
       "    </tr>\n",
       "    <tr>\n",
       "      <th>2</th>\n",
       "      <td>4a44f603cc3df339acc48590044a2db0</td>\n",
       "      <td>22638168</td>\n",
       "      <td>b3d7f17c685ec53c0a5dcaaa5736abf1</td>\n",
       "      <td>4</td>\n",
       "      <td>See full review for A Grimm Warning at: &lt;a tar...</td>\n",
       "      <td>2017-06-23 21:06:39+00:00</td>\n",
       "      <td>0.0</td>\n",
       "      <td>2664</td>\n",
       "      <td>see full review grimm warning http nofollow ht...</td>\n",
       "      <td>-0.745800</td>\n",
       "    </tr>\n",
       "    <tr>\n",
       "      <th>3</th>\n",
       "      <td>4a44f603cc3df339acc48590044a2db0</td>\n",
       "      <td>17722973</td>\n",
       "      <td>96d8f0356fcebc11692e3d9748bcebb1</td>\n",
       "      <td>4</td>\n",
       "      <td>See full review for The Enchantress Returns at...</td>\n",
       "      <td>2017-06-23 21:06:38+00:00</td>\n",
       "      <td>0.0</td>\n",
       "      <td>2664</td>\n",
       "      <td>see full review enchantress return http nofoll...</td>\n",
       "      <td>0.075700</td>\n",
       "    </tr>\n",
       "    <tr>\n",
       "      <th>4</th>\n",
       "      <td>4a44f603cc3df339acc48590044a2db0</td>\n",
       "      <td>11607446</td>\n",
       "      <td>e83f43d7ad578cda5b1cfe5d05647891</td>\n",
       "      <td>3</td>\n",
       "      <td>See full review for The Wishing Spell at: &lt;a t...</td>\n",
       "      <td>2017-03-12 03:25:02+00:00</td>\n",
       "      <td>0.0</td>\n",
       "      <td>2768</td>\n",
       "      <td>see full review wishing spell http nofollow ht...</td>\n",
       "      <td>0.883400</td>\n",
       "    </tr>\n",
       "  </tbody>\n",
       "</table>\n",
       "</div>"
      ],
      "text/plain": [
       "                            user_id   book_id  \\\n",
       "0  5e09e38e178edf7b524913c729854741   1238713   \n",
       "1  4a44f603cc3df339acc48590044a2db0  23657459   \n",
       "2  4a44f603cc3df339acc48590044a2db0  22638168   \n",
       "3  4a44f603cc3df339acc48590044a2db0  17722973   \n",
       "4  4a44f603cc3df339acc48590044a2db0  11607446   \n",
       "\n",
       "                          review_id  rating  \\\n",
       "0  70404201fa55d30b1bd533fc256faa62       4   \n",
       "1  2bc0fd2ad44fa22898befd3d1274e6e9       0   \n",
       "2  b3d7f17c685ec53c0a5dcaaa5736abf1       4   \n",
       "3  96d8f0356fcebc11692e3d9748bcebb1       4   \n",
       "4  e83f43d7ad578cda5b1cfe5d05647891       3   \n",
       "\n",
       "                              review_text_incomplete  \\\n",
       "0  This is a great little book for some basic und...   \n",
       "1                                                NaN   \n",
       "2  See full review for A Grimm Warning at: <a tar...   \n",
       "3  See full review for The Enchantress Returns at...   \n",
       "4  See full review for The Wishing Spell at: <a t...   \n",
       "\n",
       "                 date_added  n_votes  review_age  \\\n",
       "0 2013-03-01 16:18:54+00:00      0.0        4239   \n",
       "1 2017-06-23 21:06:40+00:00      NaN        2664   \n",
       "2 2017-06-23 21:06:39+00:00      0.0        2664   \n",
       "3 2017-06-23 21:06:38+00:00      0.0        2664   \n",
       "4 2017-03-12 03:25:02+00:00      0.0        2768   \n",
       "\n",
       "                                    processed_review  sentiment  \n",
       "0  great little book basic understanding cultural...   0.624900  \n",
       "1                                                NaN   0.406046  \n",
       "2  see full review grimm warning http nofollow ht...  -0.745800  \n",
       "3  see full review enchantress return http nofoll...   0.075700  \n",
       "4  see full review wishing spell http nofollow ht...   0.883400  "
      ]
     },
     "execution_count": 2,
     "metadata": {},
     "output_type": "execute_result"
    }
   ],
   "source": [
    "\"\"\"\n",
    "df = pd.read_csv('sample.csv')\n",
    "df['date_added'] = pd.to_datetime(df['date_added'])\n",
    "df.head()\n",
    "\"\"\""
   ]
  },
  {
   "cell_type": "code",
   "execution_count": 8,
   "metadata": {},
   "outputs": [
    {
     "name": "stdout",
     "output_type": "stream",
     "text": [
      "179593\n",
      "Rating Distribution\n"
     ]
    },
    {
     "data": {
      "text/plain": [
       "rating\n",
       "3    48750\n",
       "4    66032\n",
       "5    64811\n",
       "Name: rating, dtype: int64"
      ]
     },
     "execution_count": 8,
     "metadata": {},
     "output_type": "execute_result"
    }
   ],
   "source": [
    "df = train[train['rating']>=3]\n",
    "print(len(df))\n",
    "print(\"Rating Distribution\")\n",
    "df.groupby(['rating'])['rating'].count()"
   ]
  },
  {
   "cell_type": "code",
   "execution_count": 9,
   "metadata": {},
   "outputs": [
    {
     "data": {
      "text/html": [
       "<div>\n",
       "<style scoped>\n",
       "    .dataframe tbody tr th:only-of-type {\n",
       "        vertical-align: middle;\n",
       "    }\n",
       "\n",
       "    .dataframe tbody tr th {\n",
       "        vertical-align: top;\n",
       "    }\n",
       "\n",
       "    .dataframe thead th {\n",
       "        text-align: right;\n",
       "    }\n",
       "</style>\n",
       "<table border=\"1\" class=\"dataframe\">\n",
       "  <thead>\n",
       "    <tr style=\"text-align: right;\">\n",
       "      <th></th>\n",
       "      <th>user_id</th>\n",
       "      <th>book_id</th>\n",
       "      <th>rating</th>\n",
       "      <th>n_votes</th>\n",
       "      <th>review_age</th>\n",
       "      <th>sentiment</th>\n",
       "    </tr>\n",
       "  </thead>\n",
       "  <tbody>\n",
       "    <tr>\n",
       "      <th>2</th>\n",
       "      <td>2</td>\n",
       "      <td>7794</td>\n",
       "      <td>4</td>\n",
       "      <td>0.0</td>\n",
       "      <td>3046</td>\n",
       "      <td>-0.421500</td>\n",
       "    </tr>\n",
       "    <tr>\n",
       "      <th>3</th>\n",
       "      <td>3</td>\n",
       "      <td>8637</td>\n",
       "      <td>3</td>\n",
       "      <td>NaN</td>\n",
       "      <td>3343</td>\n",
       "      <td>0.406860</td>\n",
       "    </tr>\n",
       "    <tr>\n",
       "      <th>4</th>\n",
       "      <td>3</td>\n",
       "      <td>50719</td>\n",
       "      <td>4</td>\n",
       "      <td>NaN</td>\n",
       "      <td>3367</td>\n",
       "      <td>0.527973</td>\n",
       "    </tr>\n",
       "    <tr>\n",
       "      <th>5</th>\n",
       "      <td>3</td>\n",
       "      <td>36598</td>\n",
       "      <td>4</td>\n",
       "      <td>NaN</td>\n",
       "      <td>3388</td>\n",
       "      <td>0.527973</td>\n",
       "    </tr>\n",
       "    <tr>\n",
       "      <th>6</th>\n",
       "      <td>3</td>\n",
       "      <td>48726</td>\n",
       "      <td>3</td>\n",
       "      <td>NaN</td>\n",
       "      <td>3416</td>\n",
       "      <td>0.406860</td>\n",
       "    </tr>\n",
       "  </tbody>\n",
       "</table>\n",
       "</div>"
      ],
      "text/plain": [
       "   user_id  book_id  rating  n_votes  review_age  sentiment\n",
       "2        2     7794       4      0.0        3046  -0.421500\n",
       "3        3     8637       3      NaN        3343   0.406860\n",
       "4        3    50719       4      NaN        3367   0.527973\n",
       "5        3    36598       4      NaN        3388   0.527973\n",
       "6        3    48726       3      NaN        3416   0.406860"
      ]
     },
     "metadata": {},
     "output_type": "display_data"
    }
   ],
   "source": [
    "df = df.sort_values(by=['user_id', 'review_age'])\n",
    "display(df.head(5))"
   ]
  },
  {
   "cell_type": "code",
   "execution_count": 10,
   "metadata": {},
   "outputs": [],
   "source": [
    "# Split data into train and test sets\n",
    "def chronological_split(data, train_ratio=0.8):\n",
    "    train_data = []\n",
    "    test_data = []\n",
    "\n",
    "    for user_id, group in data.groupby('user_id'):\n",
    "        group = group.sort_values('review_age')\n",
    "        n = len(group)\n",
    "        split_point = int(n * train_ratio)\n",
    "\n",
    "        if split_point > 0 and n - split_point > 0:\n",
    "            train_data.append(group.iloc[:split_point])\n",
    "            test_data.append(group.iloc[split_point:])\n",
    "\n",
    "    train_data = pd.concat(train_data, ignore_index=True)\n",
    "    test_data = pd.concat(test_data, ignore_index=True)\n",
    "\n",
    "    return train_data, test_data"
   ]
  },
  {
   "cell_type": "code",
   "execution_count": 11,
   "metadata": {},
   "outputs": [
    {
     "name": "stdout",
     "output_type": "stream",
     "text": [
      "Training data shape: (138200, 6)\n",
      "Testing data shape: (39422, 6)\n"
     ]
    }
   ],
   "source": [
    "# Split data into train and test sets\n",
    "train, test = chronological_split(df, train_ratio=0.8)\n",
    "\n",
    "print(\"Training data shape:\", train.shape)\n",
    "print(\"Testing data shape:\", test.shape)"
   ]
  },
  {
   "cell_type": "code",
   "execution_count": 12,
   "metadata": {},
   "outputs": [
    {
     "name": "stdout",
     "output_type": "stream",
     "text": [
      "Train Size  :  138200\n",
      "Test Size :  39422\n"
     ]
    }
   ],
   "source": [
    "train = pd.DataFrame(train, columns = df.columns)\n",
    "test = pd.DataFrame(test, columns = df.columns)\n",
    "print(\"Train Size  : \", len(train))\n",
    "print(\"Test Size : \", len (test))"
   ]
  },
  {
   "cell_type": "code",
   "execution_count": 13,
   "metadata": {},
   "outputs": [
    {
     "name": "stdout",
     "output_type": "stream",
     "text": [
      "9627 34581\n",
      "34636\n"
     ]
    }
   ],
   "source": [
    "# Use label encoding to transform user IDs and item IDs into integer indices for the training set\n",
    "le_user = pp.LabelEncoder()\n",
    "le_item = pp.LabelEncoder()\n",
    "train['user_id_idx'] = le_user.fit_transform(train['user_id'].values)\n",
    "train['book_id_idx'] = le_item.fit_transform(train['book_id'].values)\n",
    "train_user_ids = train['user_id'].unique()\n",
    "train_item_ids = train['book_id'].unique()\n",
    "\n",
    "print(len(train_user_ids), len(train_item_ids))\n",
    "\n",
    "# Ensure that the test set only contains users and items that also appear in the training set\n",
    "test = test[(test['user_id'].isin(train_user_ids)) & (test['book_id'].isin(train_item_ids))]\n",
    "print(len(test))"
   ]
  },
  {
   "cell_type": "code",
   "execution_count": 14,
   "metadata": {},
   "outputs": [
    {
     "name": "stdout",
     "output_type": "stream",
     "text": [
      "Number of Unique Users :  9627\n",
      "Number of unique Items :  34581\n"
     ]
    }
   ],
   "source": [
    "# Transform user IDs and item IDs in the test set using the label encoders fitted on the training set\n",
    "test['user_id_idx'] = le_user.transform(test['user_id'].values)\n",
    "test['book_id_idx'] = le_item.transform(test['book_id'].values)\n",
    "# Calculate the number of unique users and items in the training set\n",
    "n_users = train['user_id_idx'].nunique()\n",
    "n_items = train['book_id_idx'].nunique()\n",
    "print(\"Number of Unique Users : \", n_users)\n",
    "print(\"Number of unique Items : \", n_items)"
   ]
  },
  {
   "cell_type": "code",
   "execution_count": 15,
   "metadata": {},
   "outputs": [],
   "source": [
    "# Set model hyperparameters: latent dimension and number of layers\n",
    "latent_dim = 64  # Dimensionality of the latent feature space\n",
    "n_layers = 3  # Number of layers in the neural network\n",
    "\n",
    "# Define a function to convert a DOK matrix to a sparse tensor in PyTorch\n",
    "def convert_to_sparse_tensor(dok_mtrx):\n",
    "    dok_mtrx_coo = dok_mtrx.tocoo().astype(np.float32)  # Convert DOK matrix to COO format and ensure data type\n",
    "    values = dok_mtrx_coo.data  # Extract non-zero values\n",
    "    indices = np.vstack((dok_mtrx_coo.row, dok_mtrx_coo.col))\n",
    "\n",
    "    i = torch.LongTensor(indices)\n",
    "    v = torch.FloatTensor(values)\n",
    "    shape = dok_mtrx_coo.shape\n",
    "\n",
    "    dok_mtrx_sparse_tensor = torch.sparse.FloatTensor(i, v, torch.Size(shape))\n",
    "\n",
    "    return dok_mtrx_sparse_tensor"
   ]
  },
  {
   "cell_type": "code",
   "execution_count": 16,
   "metadata": {},
   "outputs": [],
   "source": [
    "# Function to compute evaluation metrics for a recommendation system model\n",
    "def get_metrics(user_Embed_wts, book_Embed_wts, n_users, n_items, train_data, test_data, K):\n",
    "\n",
    "    # Initialize user and item embeddings using pre-trained weights\n",
    "    user_Embedding = nn.Embedding(user_Embed_wts.size()[0], user_Embed_wts.size()[1], _weight = user_Embed_wts)\n",
    "    item_Embedding = nn.Embedding(book_Embed_wts.size()[0], book_Embed_wts.size()[1], _weight = book_Embed_wts)\n",
    "\n",
    "    # Get unique user IDs in the test set\n",
    "    test_user_ids = torch.LongTensor(test_data['user_id_idx'].unique())\n",
    "\n",
    "    # Compute relevance score matrix based on user and item embeddings\n",
    "    relevance_score = torch.matmul(user_Embed_wts, torch.transpose(book_Embed_wts,0, 1))\n",
    "\n",
    "    # Initialize a sparse matrix R with interactions from the training data\n",
    "    R = sp.dok_matrix((n_users, n_items), dtype = np.float32)\n",
    "    R[train_data['user_id_idx'], train_data['book_id_idx']] = 1.0\n",
    "\n",
    "    # Convert sparse matrix R to a sparse tensor\n",
    "    R_tensor = convert_to_sparse_tensor(R)\n",
    "    R_tensor_dense = R_tensor.to_dense()\n",
    "\n",
    "    # Set non-interacted items in the relevance score matrix to negative infinity\n",
    "    R_tensor_dense = R_tensor_dense*(-np.inf)\n",
    "    R_tensor_dense = torch.nan_to_num(R_tensor_dense, nan=0.0)\n",
    "\n",
    "    # Add the relevance score matrix and the non-interacted items matrix\n",
    "    relevance_score = relevance_score + R_tensor_dense\n",
    "\n",
    "    # Retrieve the top-K relevance scores and their corresponding indices\n",
    "    topk_relevance_score = torch.topk(relevance_score, K).values\n",
    "    topk_relevance_indices = torch.topk(relevance_score, K).indices\n",
    "\n",
    "    # Convert top-K relevance indices to a DataFrame\n",
    "    topk_relevance_indices_df = pd.DataFrame(topk_relevance_indices.numpy(),columns =['top_indx_'+str(x+1) for x in range(K)])\n",
    "    topk_relevance_indices_df['user_ID'] = topk_relevance_indices_df.index\n",
    "    topk_relevance_indices_df['top_rlvnt_itm'] = topk_relevance_indices_df[['top_indx_'+str(x+1) for x in range(K)]].values.tolist()\n",
    "    topk_relevance_indices_df = topk_relevance_indices_df[['user_ID','top_rlvnt_itm']]\n",
    "\n",
    "    # Group the test set by user ID and retrieve the list of interacted items\n",
    "    test_interacted_items = test_data.groupby('user_id_idx')['book_id_idx'].apply(list).reset_index()\n",
    "\n",
    "    # Merge the interacted items list with the top-K relevance indices DataFrame\n",
    "    metrics_df = pd.merge(test_interacted_items,topk_relevance_indices_df, how= 'left', left_on = 'user_id_idx',right_on = ['user_ID'])\n",
    "    metrics_df['intrsctn_itm'] = [list(set(a).intersection(b)) for a, b in zip(metrics_df.book_id_idx, metrics_df.top_rlvnt_itm)]\n",
    "\n",
    "    # Compute recall, precision, and hit list metrics\n",
    "    metrics_df['recall'] = metrics_df.apply(lambda x : len(x['intrsctn_itm'])/len(x['book_id_idx']), axis = 1)\n",
    "    metrics_df['precision'] = metrics_df.apply(lambda x : len(x['intrsctn_itm'])/K, axis = 1)\n",
    "\n",
    "    # Check if each recommended item is in the interacted item list\n",
    "    def get_hit_list(book_id_idx, top_rlvnt_itm):\n",
    "        return [1 if x in set(book_id_idx) else 0 for x in top_rlvnt_itm ]\n",
    "    metrics_df['hit_list'] = metrics_df.apply(lambda x : get_hit_list(x['book_id_idx'], x['top_rlvnt_itm']), axis = 1)\n",
    "\n",
    "    # Calculate the ideal DCG (IDCG) based on the number of interacted items and the hit list\n",
    "    def get_dcg_idcg(book_id_idx, hit_list):\n",
    "        idcg  = sum([1 / np.log1p(idx+1) for idx in range(min(len(book_id_idx),len(hit_list)))])\n",
    "        dcg =  sum([hit / np.log1p(idx+1) for idx, hit in enumerate(hit_list)])\n",
    "        return dcg/idcg\n",
    "    metrics_df['ndcg'] = metrics_df.apply(lambda x : get_dcg_idcg(x['book_id_idx'], x['hit_list']), axis = 1)\n",
    "\n",
    "    # Calculate the cumulative sum of hits in the hit list\n",
    "    def get_cumsum(hit_list):\n",
    "        return np.cumsum(hit_list)\n",
    "    metrics_df['hit_list_cumsum'] = metrics_df.apply(lambda x : get_cumsum(x['hit_list']), axis = 1)\n",
    "\n",
    "    # Calculate the mean average precision (MAP) for a user\n",
    "    def get_map(book_id_idx, hit_list, hit_list_cumsum):\n",
    "        return sum([hit_cumsum*hit/(idx+1) for idx, (hit, hit_cumsum) in enumerate(zip(hit_list, hit_list_cumsum))])/len(book_id_idx)\n",
    "    metrics_df['map'] = metrics_df.apply(lambda x : get_map(x['book_id_idx'], x['hit_list'], x['hit_list_cumsum']), axis = 1)\n",
    "\n",
    "    return metrics_df['recall'].mean(), metrics_df['precision'].mean(), metrics_df['ndcg'].mean(), metrics_df['map'].mean()"
   ]
  },
  {
   "cell_type": "markdown",
   "metadata": {},
   "source": [
    "## Graph and Model Construction"
   ]
  },
  {
   "cell_type": "code",
   "execution_count": 17,
   "metadata": {},
   "outputs": [],
   "source": [
    "# defines the LightGCN class as a subclass of torch.nn.Module, which is the base class for all neural networks in PyTorch.\n",
    "class LightGCN(nn.Module):\n",
    "    def __init__(self, data, n_users, n_items, n_layers, latent_dim):\n",
    "        super(LightGCN, self).__init__()\n",
    "        self.data = data\n",
    "        self.n_users = n_users\n",
    "        self.n_items = n_items\n",
    "        self.n_layers = n_layers\n",
    "        self.latent_dim = latent_dim\n",
    "        self.init_embedding()\n",
    "        # Constructs the normalized adjacency matrix for the user-item graph in sparse tensor form.\n",
    "        self.norm_adj_mat_sparse_tensor = self.get_A_tilda()\n",
    "\n",
    "    def init_embedding(self):\n",
    "        # Creates an embedding matrix E0 for both users and items, where each has a latent_dim dimensional embedding.\n",
    "        self.E0 = nn.Embedding(self.n_users + self.n_items, self.latent_dim)\n",
    "        # Initializes the embedding weights using Xavier uniform initialization\n",
    "        # which helps stabilize the model by keeping the scale of gradients roughly the same in all layers\n",
    "        nn.init.xavier_uniform_(self.E0.weight)\n",
    "        # Converts the embedding weights to a Parameter, which ensures they are learnable by the model during training.\n",
    "        self.E0.weight = nn.Parameter(self.E0.weight)\n",
    "\n",
    "    # get_A_tilda() creates and normalizes (as shown in equations E1 and E2) an adjacency matrix for the bipartite graph and return its sparse tensor\n",
    "    # The bipartite graph matrix includes both users and items, with dimensions (n_users + n_items, n_users + n_items).\n",
    "    def get_A_tilda(self):\n",
    "        # Initializes a sparse dictionary-of-keys (DOK) matrix R to represent the user-item interaction matrix.\n",
    "        R = sp.dok_matrix((self.n_users, self.n_items), dtype = np.float32)\n",
    "        # Populates the matrix R with 1.0 at positions where interactions between users and items exist (i.e., where the user-item pair occurs).\n",
    "        R[self.data['user_id_idx'], self.data['book_id_idx']] = 1.0\n",
    "\n",
    "        # Creates an adjacency matrix for the bipartite graph, which includes both users and items.\n",
    "        adj_mat = sp.dok_matrix(\n",
    "                (self.n_users + self.n_items, self.n_users + self.n_items), dtype=np.float32\n",
    "            )\n",
    "        adj_mat = adj_mat.tolil()\n",
    "        R = R.tolil()\n",
    "        # Set the user-to-item connections (upper right part of the adjacency matrix).\n",
    "        adj_mat[: n_users, n_users :] = R\n",
    "        # Set the item-to-user connections (lower left part, the transpose of R).\n",
    "        adj_mat[n_users :, : n_users] = R.T\n",
    "        adj_mat = adj_mat.todok()\n",
    "\n",
    "        # Normalizes the adjacency matrix using the inverse degree matrix.\n",
    "        # The follow steps implement the normalization components in equations E1 and E2 above.\n",
    "        rowsum = np.array(adj_mat.sum(1))\n",
    "        d_inv = np.power(rowsum + 1e-9, -0.5).flatten()\n",
    "        d_inv[np.isinf(d_inv)] = 0.0\n",
    "        d_mat_inv = sp.diags(d_inv)\n",
    "        # normalizes the rows of the adjacency matrix\n",
    "        norm_adj_mat = d_mat_inv.dot(adj_mat)\n",
    "        # normalizes the columns of adjacency matrix\n",
    "        norm_adj_mat = norm_adj_mat.dot(d_mat_inv)\n",
    "\n",
    "        # Convert the dok_matrix to sparse tensor.\n",
    "\n",
    "        norm_adj_mat_coo = norm_adj_mat.tocoo().astype(np.float32)\n",
    "        values = norm_adj_mat_coo.data\n",
    "        indices = np.vstack((norm_adj_mat_coo.row, norm_adj_mat_coo.col))\n",
    "\n",
    "        i = torch.LongTensor(indices)\n",
    "        v = torch.FloatTensor(values)\n",
    "        shape = norm_adj_mat_coo.shape\n",
    "\n",
    "        norm_adj_mat_sparse_tensor = torch.sparse.FloatTensor(i, v, torch.Size(shape))\n",
    "\n",
    "        return norm_adj_mat_sparse_tensor\n",
    "\n",
    "    # propagate user and item embeddings through the network for a specified number of layers\n",
    "    def propagate_through_layers(self):\n",
    "        all_layer_embedding = [self.E0.weight]\n",
    "        E_lyr = self.E0.weight\n",
    "\n",
    "        for layer in range(self.n_layers):\n",
    "            # This is to perform equations E1 and E2 such that,\n",
    "            # user embeddings will now reflect the items they interacted with.\n",
    "            # and item embeddings will reflect the users who interacted with them.\n",
    "            E_lyr = torch.sparse.mm(self.norm_adj_mat_sparse_tensor, E_lyr)\n",
    "            all_layer_embedding.append(E_lyr)\n",
    "\n",
    "        all_layer_embedding = torch.stack(all_layer_embedding)\n",
    "        mean_layer_embedding = torch.mean(all_layer_embedding, axis = 0)\n",
    "\n",
    "        final_user_Embed, final_item_Embed = torch.split(mean_layer_embedding, [n_users, n_items])\n",
    "        initial_user_Embed, initial_item_Embed = torch.split(self.E0.weight, [n_users, n_items])\n",
    "\n",
    "        return final_user_Embed, final_item_Embed, initial_user_Embed, initial_item_Embed\n",
    "\n",
    "    # define the forward pass of the model, compute the final embeddings for given users and items\n",
    "    def forward(self, users, pos_items, neg_items):\n",
    "        final_user_Embed, final_item_Embed, initial_user_Embed, initial_item_Embed = self.propagate_through_layers()\n",
    "\n",
    "        users_emb, pos_emb, neg_emb = final_user_Embed[users], final_item_Embed[pos_items], final_item_Embed[neg_items]\n",
    "        userEmb0,  posEmb0, negEmb0 = initial_user_Embed[users], initial_item_Embed[pos_items], initial_item_Embed[neg_items]\n",
    "\n",
    "        return users_emb, pos_emb, neg_emb, userEmb0,  posEmb0, negEmb0"
   ]
  },
  {
   "cell_type": "code",
   "execution_count": 18,
   "metadata": {},
   "outputs": [
    {
     "name": "stdout",
     "output_type": "stream",
     "text": [
      "Size of Learnable Embedding :  torch.Size([44208, 64])\n"
     ]
    },
    {
     "name": "stderr",
     "output_type": "stream",
     "text": [
      "/var/folders/14/176q9c9n3q78lqdplf240p1c0000gn/T/ipykernel_827/2296879140.py:64: UserWarning: torch.sparse.SparseTensor(indices, values, shape, *, device=) is deprecated.  Please use torch.sparse_coo_tensor(indices, values, shape, dtype=, device=). (Triggered internally at /Users/runner/work/pytorch/pytorch/pytorch/torch/csrc/utils/tensor_new.cpp:643.)\n",
      "  norm_adj_mat_sparse_tensor = torch.sparse.FloatTensor(i, v, torch.Size(shape))\n"
     ]
    }
   ],
   "source": [
    "lightGCN = LightGCN(train, n_users, n_items, n_layers, latent_dim)\n",
    "print(\"Size of Learnable Embedding : \", list(lightGCN.parameters())[0].size())\n",
    "# You should find that the number of embeddings is the sum of the number of unqiue users and the number of unique items"
   ]
  },
  {
   "cell_type": "markdown",
   "metadata": {},
   "source": [
    "## Model Training and Evaluation"
   ]
  },
  {
   "cell_type": "code",
   "execution_count": 19,
   "metadata": {},
   "outputs": [],
   "source": [
    "def bpr_loss(users, users_emb, pos_emb, neg_emb, userEmb0,  posEmb0, negEmb0):\n",
    "    # Compute regularization loss\n",
    "    reg_loss = (1/2)*(userEmb0.norm().pow(2) +\n",
    "                    posEmb0.norm().pow(2)  +\n",
    "                    negEmb0.norm().pow(2))/float(len(users))\n",
    "\n",
    "    # Compute scores for positive and negative items\n",
    "    pos_scores = torch.mul(users_emb, pos_emb)\n",
    "    pos_scores = torch.sum(pos_scores, dim=1)\n",
    "    neg_scores = torch.mul(users_emb, neg_emb)\n",
    "    neg_scores = torch.sum(neg_scores, dim=1)\n",
    "\n",
    "    # Compute BPR loss using softplus function\n",
    "    loss = torch.mean(torch.nn.functional.softplus(neg_scores - pos_scores))\n",
    "    return loss, reg_loss"
   ]
  },
  {
   "cell_type": "code",
   "execution_count": 20,
   "metadata": {},
   "outputs": [],
   "source": [
    "def data_loader(data, batch_size, n_usr, n_itm):\n",
    "    # Group interactions by user ID and sample negative items\n",
    "    interected_items_df = data.groupby('user_id_idx')['book_id_idx'].apply(list).reset_index()\n",
    "\n",
    "    def sample_neg(x):\n",
    "        while True:\n",
    "            neg_id = random.randint(0, n_itm - 1)\n",
    "            if neg_id not in x:\n",
    "                return neg_id\n",
    "\n",
    "    indices = [x for x in range(n_usr)]\n",
    "\n",
    "    # Randomly select users for batch training\n",
    "    # If the total number of users (n_usr) is smaller than the batch size, random users are chosen with replacement (random.choice).\n",
    "    # Otherwise, users are chosen without replacement (random.sample).\n",
    "\n",
    "    if n_usr < batch_size:\n",
    "        users = [random.choice(indices) for _ in range(batch_size)]\n",
    "    else:\n",
    "        users = random.sample(indices, batch_size)\n",
    "\n",
    "    users.sort()\n",
    "\n",
    "    users_df = pd.DataFrame(users,columns = ['users'])\n",
    "\n",
    "    # a right join between the interaction data (interected_items_df) and the selected users (users_df), ensuring only the selected users are retained.\n",
    "    interected_items_df = pd.merge(interected_items_df, users_df, how = 'right', left_on = 'user_id_idx', right_on = 'users')\n",
    "\n",
    "    # Select positive and negative items for each user\n",
    "    pos_items = interected_items_df['book_id_idx'].apply(lambda x : random.choice(x)).values\n",
    "    neg_items = interected_items_df['book_id_idx'].apply(lambda x: sample_neg(x)).values\n",
    "\n",
    "    return list(users), list(pos_items), list(neg_items)"
   ]
  },
  {
   "cell_type": "code",
   "execution_count": 21,
   "metadata": {},
   "outputs": [],
   "source": [
    "optimizer = torch.optim.Adam(lightGCN.parameters(), lr = 0.005)\n",
    "EPOCHS = 30\n",
    "BATCH_SIZE = 1024\n",
    "DECAY = 0.0001\n",
    "K = 10"
   ]
  },
  {
   "cell_type": "code",
   "execution_count": 22,
   "metadata": {},
   "outputs": [
    {
     "data": {
      "application/vnd.jupyter.widget-view+json": {
       "model_id": "8e63bd5d44dd4670b9d692aefbd22e49",
       "version_major": 2,
       "version_minor": 0
      },
      "text/plain": [
       "  0%|          | 0/30 [00:00<?, ?it/s]"
      ]
     },
     "metadata": {},
     "output_type": "display_data"
    }
   ],
   "source": [
    "loss_list_epoch = []\n",
    "MF_loss_list_epoch = []\n",
    "reg_loss_list_epoch = []\n",
    "\n",
    "recall_list = []\n",
    "precision_list = []\n",
    "ndcg_list = []\n",
    "map_list = []\n",
    "\n",
    "train_time_list = []\n",
    "eval_time_list = []\n",
    "\n",
    "for epoch in tqdm(range(EPOCHS)):\n",
    "    # Calculate the number of batches per epoch\n",
    "    n_batch = int(len(train)/BATCH_SIZE)\n",
    "\n",
    "    # Initialization\n",
    "    final_loss_list = []\n",
    "    MF_loss_list = []\n",
    "    reg_loss_list = []\n",
    "    best_ndcg = -1\n",
    "    train_start_time = time.time()\n",
    "\n",
    "    # Set the model in training mode\n",
    "    lightGCN.train()\n",
    "\n",
    "    # Iterate over each batch in the training dataset\n",
    "    for batch_idx in range(n_batch):\n",
    "        # Reset gradients\n",
    "        optimizer.zero_grad()\n",
    "        # Load data for the current batch\n",
    "        users, pos_items, neg_items = data_loader(train, BATCH_SIZE, n_users, n_items)\n",
    "        # Perform forward pass through the model\n",
    "        users_emb, pos_emb, neg_emb, userEmb0,  posEmb0, negEmb0 = lightGCN.forward(users, pos_items, neg_items)\n",
    "        # Compute BPR loss and regularization loss\n",
    "        mf_loss, reg_loss = bpr_loss(users, users_emb, pos_emb, neg_emb, userEmb0,  posEmb0, negEmb0)\n",
    "        reg_loss = DECAY * reg_loss  # Apply weight decay\n",
    "        # Combine losses to get the final loss\n",
    "        final_loss = mf_loss + reg_loss\n",
    "        # Perform backward pass and update model parameters\n",
    "        final_loss.backward()\n",
    "        optimizer.step()\n",
    "        # Record losses for monitoring\n",
    "        final_loss_list.append(final_loss.item())\n",
    "        MF_loss_list.append(mf_loss.item())\n",
    "        reg_loss_list.append(reg_loss.item())\n",
    "\n",
    "\n",
    "    train_end_time = time.time()\n",
    "    train_time = train_end_time - train_start_time\n",
    "\n",
    "    # model evaluation\n",
    "    lightGCN.eval()\n",
    "    with torch.no_grad():\n",
    "        final_user_Embed, final_item_Embed, initial_user_Embed,initial_item_Embed = lightGCN.propagate_through_layers()\n",
    "        test_topK_recall,  test_topK_precision, test_topK_ndcg, test_topK_map  = get_metrics(final_user_Embed, final_item_Embed, n_users, n_items, train, test, K)\n",
    "\n",
    "\n",
    "    eval_time = time.time() - train_end_time\n",
    "\n",
    "    # calculate and append the mean values of various loss and evaluation metrics for each epoch to their respective lists.\n",
    "    loss_list_epoch.append(round(np.mean(final_loss_list),4))\n",
    "    MF_loss_list_epoch.append(round(np.mean(MF_loss_list),4))\n",
    "    reg_loss_list_epoch.append(round(np.mean(reg_loss_list),4))\n",
    "\n",
    "    recall_list.append(round(test_topK_recall,4))\n",
    "    precision_list.append(round(test_topK_precision,4))\n",
    "    ndcg_list.append(round(test_topK_ndcg,4))\n",
    "    map_list.append(round(test_topK_map,4))\n",
    "\n",
    "    train_time_list.append(train_time)\n",
    "    eval_time_list.append(eval_time)"
   ]
  },
  {
   "cell_type": "code",
   "execution_count": 23,
   "metadata": {},
   "outputs": [
    {
     "data": {
      "text/plain": [
       "<matplotlib.legend.Legend at 0x291c05660>"
      ]
     },
     "execution_count": 23,
     "metadata": {},
     "output_type": "execute_result"
    },
    {
     "data": {
      "image/png": "[encoded data removed]",
      "text/plain": [
       "<Figure size 640x480 with 1 Axes>"
      ]
     },
     "metadata": {},
     "output_type": "display_data"
    }
   ],
   "source": [
    "epoch_list = [(i+1) for i in range(EPOCHS)]\n",
    "plt.plot(epoch_list, recall_list, label='Recall')\n",
    "plt.plot(epoch_list, precision_list, label='Precision')\n",
    "plt.plot(epoch_list, ndcg_list, label='NDCG')\n",
    "plt.plot(epoch_list, map_list, label='MAP')\n",
    "plt.xlabel('Epoch')\n",
    "plt.ylabel('Metrics')\n",
    "plt.legend()"
   ]
  },
  {
   "cell_type": "code",
   "execution_count": 21,
   "metadata": {},
   "outputs": [
    {
     "data": {
      "text/plain": [
       "<matplotlib.legend.Legend at 0x2967c13c0>"
      ]
     },
     "execution_count": 21,
     "metadata": {},
     "output_type": "execute_result"
    },
    {
     "data": {
      "image/png": "[encoded data removed]",
      "text/plain": [
       "<Figure size 640x480 with 1 Axes>"
      ]
     },
     "metadata": {},
     "output_type": "display_data"
    }
   ],
   "source": [
    "plt.plot(epoch_list, loss_list_epoch, label='Total Training Loss')\n",
    "plt.plot(epoch_list, MF_loss_list_epoch, label='MF Training Loss')\n",
    "plt.plot(epoch_list, reg_loss_list_epoch, label='Reg Training Loss')\n",
    "\n",
    "plt.xlabel('Epoch')\n",
    "plt.ylabel('Loss')\n",
    "plt.legend()"
   ]
  },
  {
   "cell_type": "code",
   "execution_count": 22,
   "metadata": {},
   "outputs": [
    {
     "name": "stdout",
     "output_type": "stream",
     "text": [
      "Last Epoch's Test Data Recall ->  0.152\n",
      "Last Epoch's Test Data Precision ->  0.0402\n",
      "Last Epoch's Test Data NDCG ->  0.1153\n",
      "Last Epoch's Test Data MAP ->  0.0772\n",
      "Last Epoch's Train Data Loss ->  0.0126\n"
     ]
    }
   ],
   "source": [
    "print(\"Last Epoch's Test Data Recall -> \", recall_list[-1])\n",
    "print(\"Last Epoch's Test Data Precision -> \", precision_list[-1])\n",
    "print(\"Last Epoch's Test Data NDCG -> \", ndcg_list[-1])\n",
    "print(\"Last Epoch's Test Data MAP -> \", map_list[-1])\n",
    "\n",
    "print(\"Last Epoch's Train Data Loss -> \", loss_list_epoch[-1])"
   ]
  },
  {
   "cell_type": "code",
   "execution_count": null,
   "metadata": {},
   "outputs": [],
   "source": []
  }
 ],
 "metadata": {
  "kernelspec": {
   "display_name": ".venv",
   "language": "python",
   "name": "python3"
  },
  "language_info": {
   "codemirror_mode": {
    "name": "ipython",
    "version": 3
   },
   "file_extension": ".py",
   "mimetype": "text/x-python",
   "name": "python",
   "nbconvert_exporter": "python",
   "pygments_lexer": "ipython3",
   "version": "3.10.10"
  }
 },
 "nbformat": 4,
 "nbformat_minor": 2
}
