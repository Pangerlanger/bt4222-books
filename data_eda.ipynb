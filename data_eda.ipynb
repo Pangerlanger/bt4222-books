{
  "cells": [
    {
      "cell_type": "code",
      "execution_count": 1,
      "metadata": {},
      "outputs": [
        {
          "name": "stderr",
          "output_type": "stream",
          "text": [
            "/var/folders/lv/4p2_jtmx6rzdf0lvp89413tc0000gn/T/ipykernel_40731/3932752336.py:1: DeprecationWarning: \n",
            "Pyarrow will become a required dependency of pandas in the next major release of pandas (pandas 3.0),\n",
            "(to allow more performant data types, such as the Arrow string type, and better interoperability with other libraries)\n",
            "but was not found to be installed on your system.\n",
            "If this would cause problems for you,\n",
            "please provide us feedback at https://github.com/pandas-dev/pandas/issues/54466\n",
            "        \n",
            "  import pandas as pd\n"
          ]
        }
      ],
      "source": [
        "import pandas as pd \n",
        "import json\n",
        "import matplotlib.pyplot as plt\n",
        "import seaborn as sns"
      ]
    },
    {
      "cell_type": "markdown",
      "metadata": {},
      "source": [
        "# Loading Data"
      ]
    },
    {
      "cell_type": "code",
      "execution_count": 2,
      "metadata": {},
      "outputs": [],
      "source": [
        "def load_data(file_name):\n",
        "    data = []\n",
        "    with open(file_name, 'r') as fin:\n",
        "        for l in fin:\n",
        "            d = json.loads(l)\n",
        "            data.append(d)\n",
        "    return data"
      ]
    },
    {
      "cell_type": "code",
      "execution_count": 3,
      "metadata": {},
      "outputs": [],
      "source": [
        "df_children_books = load_data('goodreads_books_children.json')\n",
        "df_children_books = pd.DataFrame(df_children_books)\n",
        "\n",
        "df_reviews = load_data('goodreads_reviews_children.json')\n",
        "df_reviews = pd.DataFrame(df_reviews)\n",
        "\n",
        "df_interactions_filtered = pd.read_csv('df_interactions_filtered.csv')"
      ]
    },
    {
      "cell_type": "markdown",
      "metadata": {},
      "source": [
        "# Data Preprocessing"
      ]
    },
    {
      "cell_type": "code",
      "execution_count": 4,
      "metadata": {},
      "outputs": [
        {
          "data": {
            "text/plain": [
              "isbn                    object\n",
              "text_reviews_count      object\n",
              "series                  object\n",
              "country_code            object\n",
              "language_code           object\n",
              "popular_shelves         object\n",
              "asin                    object\n",
              "is_ebook                object\n",
              "average_rating          object\n",
              "kindle_asin             object\n",
              "similar_books           object\n",
              "description             object\n",
              "format                  object\n",
              "link                    object\n",
              "authors                 object\n",
              "publisher               object\n",
              "num_pages               object\n",
              "publication_day         object\n",
              "isbn13                  object\n",
              "publication_month       object\n",
              "edition_information     object\n",
              "publication_year        object\n",
              "url                     object\n",
              "image_url               object\n",
              "book_id                 object\n",
              "ratings_count           object\n",
              "work_id                 object\n",
              "title                   object\n",
              "title_without_series    object\n",
              "dtype: object"
            ]
          },
          "execution_count": 4,
          "metadata": {},
          "output_type": "execute_result"
        }
      ],
      "source": [
        "df_children_books.dtypes"
      ]
    },
    {
      "cell_type": "code",
      "execution_count": 5,
      "metadata": {},
      "outputs": [
        {
          "data": {
            "text/plain": [
              "user_id                   object\n",
              "book_id                    int64\n",
              "review_id                 object\n",
              "is_read                     bool\n",
              "rating                     int64\n",
              "review_text_incomplete    object\n",
              "date_added                object\n",
              "date_updated              object\n",
              "read_at                   object\n",
              "started_at                object\n",
              "dtype: object"
            ]
          },
          "execution_count": 5,
          "metadata": {},
          "output_type": "execute_result"
        }
      ],
      "source": [
        "df_interactions_filtered.dtypes"
      ]
    },
    {
      "cell_type": "code",
      "execution_count": 6,
      "metadata": {},
      "outputs": [
        {
          "data": {
            "text/plain": [
              "user_id         object\n",
              "book_id         object\n",
              "review_id       object\n",
              "rating           int64\n",
              "review_text     object\n",
              "date_added      object\n",
              "date_updated    object\n",
              "read_at         object\n",
              "started_at      object\n",
              "n_votes          int64\n",
              "n_comments       int64\n",
              "dtype: object"
            ]
          },
          "execution_count": 6,
          "metadata": {},
          "output_type": "execute_result"
        }
      ],
      "source": [
        "df_reviews.dtypes"
      ]
    },
    {
      "cell_type": "code",
      "execution_count": 7,
      "metadata": {},
      "outputs": [],
      "source": [
        "# Converting columns to the correct data type\n",
        "integer_columns = ['text_reviews_count', 'num_pages', 'publication_day', 'publication_month', 'publication_year', 'ratings_count', 'rating', 'n_votes', 'n_comments', 'average_rating']\n",
        "boolean_columns = ['is_ebook', 'is_read']\n",
        "list_columns = ['series', 'popular_shelves', 'similar_books', 'authors']\n",
        "datetime_columns = ['date_added', 'date_updated', 'read_at', 'started_at']"
      ]
    },
    {
      "cell_type": "code",
      "execution_count": 9,
      "metadata": {},
      "outputs": [],
      "source": [
        "def convert_datatype(df):\n",
        "    # Convert integer columns that exist in the DataFrame\n",
        "    df_integer_columns = [col for col in integer_columns if col in df.columns]\n",
        "    df[df_integer_columns] = df[df_integer_columns].apply(pd.to_numeric, errors='coerce', downcast='integer')\n",
        "    \n",
        "    # Convert boolean columns that exist in the DataFrame\n",
        "    df_boolean_columns = [col for col in boolean_columns if col in df.columns]\n",
        "    df[df_boolean_columns] = df[df_boolean_columns].map(lambda x: x.lower() == 'true')\n",
        "    \n",
        "    # Convert datetime columns that exist in the DataFrame\n",
        "    df_datetime_columns = [col for col in datetime_columns if col in df.columns]\n",
        "    df[df_datetime_columns] = df[df_datetime_columns].apply(pd.to_datetime, errors='coerce')\n",
        "\n",
        "    # Convert list col\n",
        "    df_list_columns = [col for col in list_columns if col in df.columns]\n",
        "    \n",
        "    # Convert remaining columns to string type\n",
        "    remaining_columns = df.columns.difference(df_integer_columns + df_boolean_columns + df_datetime_columns + df_list_columns)\n",
        "    df[remaining_columns] = df[remaining_columns].astype(str)\n",
        "\n",
        "    return df\n"
      ]
    },
    {
      "cell_type": "code",
      "execution_count": 10,
      "metadata": {},
      "outputs": [],
      "source": [
        "df_children_books = convert_datatype(df_children_books)"
      ]
    },
    {
      "cell_type": "code",
      "execution_count": 11,
      "metadata": {},
      "outputs": [
        {
          "data": {
            "text/plain": [
              "isbn                     object\n",
              "text_reviews_count        int32\n",
              "series                   object\n",
              "country_code             object\n",
              "language_code            object\n",
              "popular_shelves          object\n",
              "asin                     object\n",
              "is_ebook                   bool\n",
              "average_rating          float64\n",
              "kindle_asin              object\n",
              "similar_books            object\n",
              "description              object\n",
              "format                   object\n",
              "link                     object\n",
              "authors                  object\n",
              "publisher                object\n",
              "num_pages               float64\n",
              "publication_day         float64\n",
              "isbn13                   object\n",
              "publication_month       float64\n",
              "edition_information      object\n",
              "publication_year        float64\n",
              "url                      object\n",
              "image_url                object\n",
              "book_id                  object\n",
              "ratings_count             int32\n",
              "work_id                  object\n",
              "title                    object\n",
              "title_without_series     object\n",
              "dtype: object"
            ]
          },
          "execution_count": 11,
          "metadata": {},
          "output_type": "execute_result"
        }
      ],
      "source": [
        "df_children_books.dtypes"
      ]
    },
    {
      "cell_type": "code",
      "execution_count": 12,
      "metadata": {},
      "outputs": [],
      "source": [
        "# Convert book_id back to string in df_interactions_filtered\n",
        "df_interactions_filtered['book_id'] = df_interactions_filtered['book_id'].astype(str)"
      ]
    },
    {
      "cell_type": "code",
      "execution_count": 13,
      "metadata": {},
      "outputs": [
        {
          "name": "stderr",
          "output_type": "stream",
          "text": [
            "/var/folders/lv/4p2_jtmx6rzdf0lvp89413tc0000gn/T/ipykernel_40731/810077808.py:2: FutureWarning: In a future version of pandas, parsing datetimes with mixed time zones will raise an error unless `utc=True`. Please specify `utc=True` to opt in to the new behaviour and silence this warning. To create a `Series` with mixed offsets and `object` dtype, please use `apply` and `datetime.datetime.strptime`\n",
            "  df_interactions_filtered[datetime_columns] = df_interactions_filtered[datetime_columns].apply(\n",
            "/var/folders/lv/4p2_jtmx6rzdf0lvp89413tc0000gn/T/ipykernel_40731/810077808.py:2: FutureWarning: In a future version of pandas, parsing datetimes with mixed time zones will raise an error unless `utc=True`. Please specify `utc=True` to opt in to the new behaviour and silence this warning. To create a `Series` with mixed offsets and `object` dtype, please use `apply` and `datetime.datetime.strptime`\n",
            "  df_interactions_filtered[datetime_columns] = df_interactions_filtered[datetime_columns].apply(\n",
            "/var/folders/lv/4p2_jtmx6rzdf0lvp89413tc0000gn/T/ipykernel_40731/810077808.py:2: FutureWarning: In a future version of pandas, parsing datetimes with mixed time zones will raise an error unless `utc=True`. Please specify `utc=True` to opt in to the new behaviour and silence this warning. To create a `Series` with mixed offsets and `object` dtype, please use `apply` and `datetime.datetime.strptime`\n",
            "  df_interactions_filtered[datetime_columns] = df_interactions_filtered[datetime_columns].apply(\n",
            "/var/folders/lv/4p2_jtmx6rzdf0lvp89413tc0000gn/T/ipykernel_40731/810077808.py:2: FutureWarning: In a future version of pandas, parsing datetimes with mixed time zones will raise an error unless `utc=True`. Please specify `utc=True` to opt in to the new behaviour and silence this warning. To create a `Series` with mixed offsets and `object` dtype, please use `apply` and `datetime.datetime.strptime`\n",
            "  df_interactions_filtered[datetime_columns] = df_interactions_filtered[datetime_columns].apply(\n"
          ]
        }
      ],
      "source": [
        "# Convert datetime columns in df_interactions_filtered\n",
        "df_interactions_filtered[datetime_columns] = df_interactions_filtered[datetime_columns].apply(\n",
        "    pd.to_datetime, format='%a %b %d %H:%M:%S %z %Y', errors='coerce'\n",
        ")"
      ]
    },
    {
      "cell_type": "code",
      "execution_count": 14,
      "metadata": {},
      "outputs": [
        {
          "data": {
            "text/plain": [
              "user_id                   object\n",
              "book_id                   object\n",
              "review_id                 object\n",
              "is_read                     bool\n",
              "rating                     int64\n",
              "review_text_incomplete    object\n",
              "date_added                object\n",
              "date_updated              object\n",
              "read_at                   object\n",
              "started_at                object\n",
              "dtype: object"
            ]
          },
          "execution_count": 14,
          "metadata": {},
          "output_type": "execute_result"
        }
      ],
      "source": [
        "df_interactions_filtered.dtypes"
      ]
    },
    {
      "cell_type": "code",
      "execution_count": 15,
      "metadata": {},
      "outputs": [
        {
          "name": "stderr",
          "output_type": "stream",
          "text": [
            "/var/folders/lv/4p2_jtmx6rzdf0lvp89413tc0000gn/T/ipykernel_40731/3094010240.py:2: FutureWarning: In a future version of pandas, parsing datetimes with mixed time zones will raise an error unless `utc=True`. Please specify `utc=True` to opt in to the new behaviour and silence this warning. To create a `Series` with mixed offsets and `object` dtype, please use `apply` and `datetime.datetime.strptime`\n",
            "  df_reviews[datetime_columns] = df_reviews[datetime_columns].apply(\n",
            "/var/folders/lv/4p2_jtmx6rzdf0lvp89413tc0000gn/T/ipykernel_40731/3094010240.py:2: FutureWarning: In a future version of pandas, parsing datetimes with mixed time zones will raise an error unless `utc=True`. Please specify `utc=True` to opt in to the new behaviour and silence this warning. To create a `Series` with mixed offsets and `object` dtype, please use `apply` and `datetime.datetime.strptime`\n",
            "  df_reviews[datetime_columns] = df_reviews[datetime_columns].apply(\n",
            "/var/folders/lv/4p2_jtmx6rzdf0lvp89413tc0000gn/T/ipykernel_40731/3094010240.py:2: FutureWarning: In a future version of pandas, parsing datetimes with mixed time zones will raise an error unless `utc=True`. Please specify `utc=True` to opt in to the new behaviour and silence this warning. To create a `Series` with mixed offsets and `object` dtype, please use `apply` and `datetime.datetime.strptime`\n",
            "  df_reviews[datetime_columns] = df_reviews[datetime_columns].apply(\n",
            "/var/folders/lv/4p2_jtmx6rzdf0lvp89413tc0000gn/T/ipykernel_40731/3094010240.py:2: FutureWarning: In a future version of pandas, parsing datetimes with mixed time zones will raise an error unless `utc=True`. Please specify `utc=True` to opt in to the new behaviour and silence this warning. To create a `Series` with mixed offsets and `object` dtype, please use `apply` and `datetime.datetime.strptime`\n",
            "  df_reviews[datetime_columns] = df_reviews[datetime_columns].apply(\n"
          ]
        }
      ],
      "source": [
        "# Convert datetime columns in df_reviews\n",
        "df_reviews[datetime_columns] = df_reviews[datetime_columns].apply(\n",
        "    pd.to_datetime, format='%a %b %d %H:%M:%S %z %Y', errors='coerce'\n",
        ")"
      ]
    },
    {
      "cell_type": "code",
      "execution_count": 16,
      "metadata": {},
      "outputs": [
        {
          "data": {
            "text/plain": [
              "user_id         object\n",
              "book_id         object\n",
              "review_id       object\n",
              "rating           int64\n",
              "review_text     object\n",
              "date_added      object\n",
              "date_updated    object\n",
              "read_at         object\n",
              "started_at      object\n",
              "n_votes          int64\n",
              "n_comments       int64\n",
              "dtype: object"
            ]
          },
          "execution_count": 16,
          "metadata": {},
          "output_type": "execute_result"
        }
      ],
      "source": [
        "df_reviews.dtypes"
      ]
    },
    {
      "cell_type": "markdown",
      "metadata": {},
      "source": [
        "# EDA"
      ]
    },
    {
      "cell_type": "code",
      "execution_count": 17,
      "metadata": {},
      "outputs": [],
      "source": [
        "# Function to summarize data in dataset\n",
        "def summarize_df(df):\n",
        "    print(f'Shape: {df.shape[0]} rows {df.shape[1]} columns')\n",
        "    for col in df.columns:\n",
        "        # Numerical\n",
        "        if col in integer_columns:\n",
        "            continue\n",
        "\n",
        "        print(f'Column - {col}, Data type - {df[col].dtype}')\n",
        "\n",
        "        # Boolean\n",
        "        if col in boolean_columns:\n",
        "            print('Number of NA Values:', sum(df[col].isnull()))\n",
        "            print(df.groupby(col).size())\n",
        "\n",
        "        # List\n",
        "        elif col in list_columns:\n",
        "            print('Number of empty lists or NA Values:', df[col].isnull().sum() + sum(len(item) == 0 for item in df[col] if isinstance(item, list)))\n",
        "\n",
        "        # Datetime\n",
        "        elif col in datetime_columns:\n",
        "            print('Number of NA Values:', sum(df[col].isnull()))\n",
        "            print('Min value:', min(df[col].dropna()), ', Max value:', max(df[col].dropna()))\n",
        "\n",
        "        # String\n",
        "        else:\n",
        "            print('Number of NA Values:', sum((df[col].str.strip() == '') | (df[col].isnull())))\n",
        "            if len(df[col].unique()) < 5:\n",
        "                print('Unique Values:', df[col].unique())\n",
        "        \n",
        "        print(\"-\"*40)"
      ]
    },
    {
      "cell_type": "code",
      "execution_count": 18,
      "metadata": {},
      "outputs": [
        {
          "name": "stdout",
          "output_type": "stream",
          "text": [
            "Shape: 124082 rows 29 columns\n",
            "Column - isbn, Data type - object\n",
            "Number of NA Values: 20199\n",
            "----------------------------------------\n",
            "Column - series, Data type - object\n",
            "Number of empty lists or NA Values: 81213\n",
            "----------------------------------------\n",
            "Column - country_code, Data type - object\n",
            "Number of NA Values: 0\n",
            "Unique Values: ['US']\n",
            "----------------------------------------\n",
            "Column - language_code, Data type - object\n",
            "Number of NA Values: 72496\n",
            "----------------------------------------\n",
            "Column - popular_shelves, Data type - object\n",
            "Number of empty lists or NA Values: 0\n",
            "----------------------------------------\n",
            "Column - asin, Data type - object\n",
            "Number of NA Values: 117363\n",
            "----------------------------------------\n",
            "Column - is_ebook, Data type - bool\n",
            "Number of NA Values: 0\n",
            "is_ebook\n",
            "False    114606\n",
            "True       9476\n",
            "dtype: int64\n",
            "----------------------------------------\n",
            "Column - kindle_asin, Data type - object\n",
            "Number of NA Values: 82960\n",
            "----------------------------------------\n",
            "Column - similar_books, Data type - object\n",
            "Number of empty lists or NA Values: 65774\n",
            "----------------------------------------\n",
            "Column - description, Data type - object\n",
            "Number of NA Values: 15238\n",
            "----------------------------------------\n",
            "Column - format, Data type - object\n",
            "Number of NA Values: 21039\n",
            "----------------------------------------\n",
            "Column - link, Data type - object\n",
            "Number of NA Values: 0\n",
            "----------------------------------------\n",
            "Column - authors, Data type - object\n",
            "Number of empty lists or NA Values: 0\n",
            "----------------------------------------\n",
            "Column - publisher, Data type - object\n",
            "Number of NA Values: 20145\n",
            "----------------------------------------\n",
            "Column - isbn13, Data type - object\n",
            "Number of NA Values: 15489\n",
            "----------------------------------------\n",
            "Column - edition_information, Data type - object\n",
            "Number of NA Values: 118307\n",
            "----------------------------------------\n",
            "Column - url, Data type - object\n",
            "Number of NA Values: 0\n",
            "----------------------------------------\n",
            "Column - image_url, Data type - object\n",
            "Number of NA Values: 0\n",
            "----------------------------------------\n",
            "Column - book_id, Data type - object\n",
            "Number of NA Values: 0\n",
            "----------------------------------------\n",
            "Column - work_id, Data type - object\n",
            "Number of NA Values: 0\n",
            "----------------------------------------\n",
            "Column - title, Data type - object\n",
            "Number of NA Values: 1\n",
            "----------------------------------------\n",
            "Column - title_without_series, Data type - object\n",
            "Number of NA Values: 1\n",
            "----------------------------------------\n"
          ]
        }
      ],
      "source": [
        "summarize_df(df_children_books)"
      ]
    },
    {
      "cell_type": "code",
      "execution_count": 19,
      "metadata": {},
      "outputs": [],
      "source": [
        "books_numerical_col = [col for col in integer_columns if col in df_children_books.columns]"
      ]
    },
    {
      "cell_type": "code",
      "execution_count": 20,
      "metadata": {},
      "outputs": [
        {
          "data": {
            "text/html": [
              "<div>\n",
              "<style scoped>\n",
              "    .dataframe tbody tr th:only-of-type {\n",
              "        vertical-align: middle;\n",
              "    }\n",
              "\n",
              "    .dataframe tbody tr th {\n",
              "        vertical-align: top;\n",
              "    }\n",
              "\n",
              "    .dataframe thead th {\n",
              "        text-align: right;\n",
              "    }\n",
              "</style>\n",
              "<table border=\"1\" class=\"dataframe\">\n",
              "  <thead>\n",
              "    <tr style=\"text-align: right;\">\n",
              "      <th></th>\n",
              "      <th>count</th>\n",
              "      <th>mean</th>\n",
              "      <th>std</th>\n",
              "      <th>min</th>\n",
              "      <th>25%</th>\n",
              "      <th>50%</th>\n",
              "      <th>75%</th>\n",
              "      <th>max</th>\n",
              "    </tr>\n",
              "  </thead>\n",
              "  <tbody>\n",
              "    <tr>\n",
              "      <th>text_reviews_count</th>\n",
              "      <td>124082.0</td>\n",
              "      <td>27.086209</td>\n",
              "      <td>266.547028</td>\n",
              "      <td>0.0</td>\n",
              "      <td>2.00</td>\n",
              "      <td>5.00</td>\n",
              "      <td>15.00</td>\n",
              "      <td>49850.0</td>\n",
              "    </tr>\n",
              "    <tr>\n",
              "      <th>num_pages</th>\n",
              "      <td>95885.0</td>\n",
              "      <td>104.782604</td>\n",
              "      <td>117.929600</td>\n",
              "      <td>0.0</td>\n",
              "      <td>32.00</td>\n",
              "      <td>48.00</td>\n",
              "      <td>159.00</td>\n",
              "      <td>4500.0</td>\n",
              "    </tr>\n",
              "    <tr>\n",
              "      <th>publication_day</th>\n",
              "      <td>85610.0</td>\n",
              "      <td>9.979301</td>\n",
              "      <td>9.991300</td>\n",
              "      <td>1.0</td>\n",
              "      <td>1.00</td>\n",
              "      <td>6.00</td>\n",
              "      <td>18.00</td>\n",
              "      <td>31.0</td>\n",
              "    </tr>\n",
              "    <tr>\n",
              "      <th>publication_month</th>\n",
              "      <td>90014.0</td>\n",
              "      <td>6.301942</td>\n",
              "      <td>3.319179</td>\n",
              "      <td>1.0</td>\n",
              "      <td>3.00</td>\n",
              "      <td>6.00</td>\n",
              "      <td>9.00</td>\n",
              "      <td>12.0</td>\n",
              "    </tr>\n",
              "    <tr>\n",
              "      <th>publication_year</th>\n",
              "      <td>104256.0</td>\n",
              "      <td>2004.810812</td>\n",
              "      <td>249.249338</td>\n",
              "      <td>0.0</td>\n",
              "      <td>1999.00</td>\n",
              "      <td>2007.00</td>\n",
              "      <td>2013.00</td>\n",
              "      <td>65535.0</td>\n",
              "    </tr>\n",
              "    <tr>\n",
              "      <th>ratings_count</th>\n",
              "      <td>124082.0</td>\n",
              "      <td>522.816525</td>\n",
              "      <td>10838.692247</td>\n",
              "      <td>0.0</td>\n",
              "      <td>10.00</td>\n",
              "      <td>30.00</td>\n",
              "      <td>96.00</td>\n",
              "      <td>1876252.0</td>\n",
              "    </tr>\n",
              "    <tr>\n",
              "      <th>average_rating</th>\n",
              "      <td>124082.0</td>\n",
              "      <td>3.910883</td>\n",
              "      <td>0.364855</td>\n",
              "      <td>0.0</td>\n",
              "      <td>3.71</td>\n",
              "      <td>3.94</td>\n",
              "      <td>4.14</td>\n",
              "      <td>5.0</td>\n",
              "    </tr>\n",
              "  </tbody>\n",
              "</table>\n",
              "</div>"
            ],
            "text/plain": [
              "                       count         mean           std  min      25%  \\\n",
              "text_reviews_count  124082.0    27.086209    266.547028  0.0     2.00   \n",
              "num_pages            95885.0   104.782604    117.929600  0.0    32.00   \n",
              "publication_day      85610.0     9.979301      9.991300  1.0     1.00   \n",
              "publication_month    90014.0     6.301942      3.319179  1.0     3.00   \n",
              "publication_year    104256.0  2004.810812    249.249338  0.0  1999.00   \n",
              "ratings_count       124082.0   522.816525  10838.692247  0.0    10.00   \n",
              "average_rating      124082.0     3.910883      0.364855  0.0     3.71   \n",
              "\n",
              "                        50%      75%        max  \n",
              "text_reviews_count     5.00    15.00    49850.0  \n",
              "num_pages             48.00   159.00     4500.0  \n",
              "publication_day        6.00    18.00       31.0  \n",
              "publication_month      6.00     9.00       12.0  \n",
              "publication_year    2007.00  2013.00    65535.0  \n",
              "ratings_count         30.00    96.00  1876252.0  \n",
              "average_rating         3.94     4.14        5.0  "
            ]
          },
          "execution_count": 20,
          "metadata": {},
          "output_type": "execute_result"
        }
      ],
      "source": [
        "df_children_books[books_numerical_col].describe().transpose()"
      ]
    },
    {
      "cell_type": "markdown",
      "metadata": {},
      "source": [
        "As seen in the statistical summary, the numerical values in df_children_books are not on the same scale, therefore, we will need to scale them before feeding the features into the ML models. There are a large number of missing values for the columns `num_pages`, `publication_day`, `publication_month` and invalid values `publication_year`. Thus, we will be scraping the num_pages along with publication_year from Google Books."
      ]
    },
    {
      "cell_type": "code",
      "execution_count": 21,
      "metadata": {},
      "outputs": [
        {
          "data": {
            "image/png": "[encoded data removed]",
            "text/plain": [
              "<Figure size 1200x1000 with 9 Axes>"
            ]
          },
          "metadata": {},
          "output_type": "display_data"
        }
      ],
      "source": [
        "ax = df_children_books[books_numerical_col].hist(figsize=(12,10), bins=100)"
      ]
    },
    {
      "cell_type": "markdown",
      "metadata": {},
      "source": [
        "As seen from the histograms above, some columns are quite skewed, there are Next, we will use a "
      ]
    },
    {
      "cell_type": "code",
      "execution_count": 22,
      "metadata": {},
      "outputs": [
        {
          "data": {
            "text/plain": [
              "<Figure size 640x480 with 0 Axes>"
            ]
          },
          "metadata": {},
          "output_type": "display_data"
        },
        {
          "data": {
            "image/png": "[encoded data removed]",
            "text/plain": [
              "<Figure size 1200x1000 with 2 Axes>"
            ]
          },
          "metadata": {},
          "output_type": "display_data"
        }
      ],
      "source": [
        "plt.clf()\n",
        "corr_df_books = df_children_books[books_numerical_col].corr(method='pearson')\n",
        "plt.figure(figsize=(12,10))\n",
        "heatmap_books = sns.heatmap(corr_df_books, annot=True, fmt='.2g', vmin=-1, vmax=1, center=0, cmap=\"BrBG\", linewidths=2)\n",
        "heatmap_books.set_title('Correlation Heatmap Between Book Features')\n",
        "heatmap_books.set_xticklabels(heatmap_books.get_xticklabels(), rotation=90)\n",
        "plt.show()"
      ]
    },
    {
      "cell_type": "markdown",
      "metadata": {},
      "source": [
        "### Column Removal Justification for df_children_books\n",
        "In our analysis of the df_children_books DataFrame, which contains 124,082 rows and 29 columns, we identified specific columns to remove based on their relevance and usefulness for building a recommendation system for books. Below are the columns we decided to exclude, along with the reasons for their removal:\n",
        "\n",
        "- Insufficient Data: The `series` column had a high number of empty lists and/or null values (81,213 out of 124,082 rows), indicating insufficient data for meaningful analysis.\n",
        "- Redundancy: Columns like `asin`, `kindle_asin`, and `work_id` were deemed redundant since the isbn column could serve as a unique identifier for each book.\n",
        "- Uninformative: Columns such as `country_code`, `link`, `url`, and `image_url` do not provide useful information for our recommendation model\n",
        "- Prioritization: Between `publisher` and `authors`, we retained the `authors` column as we believed that authors are more likely to influence the similarity between books than publishers and between title and title_without_series we retained the `title` column instead of the `title_without_series` column, as the full title is more informative.\n",
        "- Time granularity: For publication dates, we retained the `publication_year` column as we deemed the day and month less significant for recommendations."
      ]
    },
    {
      "cell_type": "code",
      "execution_count": 23,
      "metadata": {},
      "outputs": [
        {
          "name": "stdout",
          "output_type": "stream",
          "text": [
            "(124082, 14)\n"
          ]
        },
        {
          "data": {
            "text/html": [
              "<div>\n",
              "<style scoped>\n",
              "    .dataframe tbody tr th:only-of-type {\n",
              "        vertical-align: middle;\n",
              "    }\n",
              "\n",
              "    .dataframe tbody tr th {\n",
              "        vertical-align: top;\n",
              "    }\n",
              "\n",
              "    .dataframe thead th {\n",
              "        text-align: right;\n",
              "    }\n",
              "</style>\n",
              "<table border=\"1\" class=\"dataframe\">\n",
              "  <thead>\n",
              "    <tr style=\"text-align: right;\">\n",
              "      <th></th>\n",
              "      <th>isbn</th>\n",
              "      <th>isbn13</th>\n",
              "      <th>book_id</th>\n",
              "      <th>title</th>\n",
              "      <th>authors</th>\n",
              "      <th>num_pages</th>\n",
              "      <th>language_code</th>\n",
              "      <th>description</th>\n",
              "      <th>format</th>\n",
              "      <th>is_ebook</th>\n",
              "      <th>popular_shelves</th>\n",
              "      <th>average_rating</th>\n",
              "      <th>ratings_count</th>\n",
              "      <th>text_reviews_count</th>\n",
              "    </tr>\n",
              "  </thead>\n",
              "  <tbody>\n",
              "    <tr>\n",
              "      <th>0</th>\n",
              "      <td>1599150603</td>\n",
              "      <td>9781599150604</td>\n",
              "      <td>287141</td>\n",
              "      <td>The Aeneid for Boys and Girls</td>\n",
              "      <td>[{'author_id': '3041852', 'role': ''}]</td>\n",
              "      <td>162.0</td>\n",
              "      <td></td>\n",
              "      <td>Relates in vigorous prose the tale of Aeneas, ...</td>\n",
              "      <td>Paperback</td>\n",
              "      <td>False</td>\n",
              "      <td>[{'count': '56', 'name': 'to-read'}, {'count':...</td>\n",
              "      <td>4.13</td>\n",
              "      <td>46</td>\n",
              "      <td>7</td>\n",
              "    </tr>\n",
              "    <tr>\n",
              "      <th>1</th>\n",
              "      <td>1934876569</td>\n",
              "      <td>9781934876565</td>\n",
              "      <td>6066812</td>\n",
              "      <td>All's Fairy in Love and War (Avalon: Web of Ma...</td>\n",
              "      <td>[{'author_id': '19158', 'role': ''}]</td>\n",
              "      <td>216.0</td>\n",
              "      <td></td>\n",
              "      <td>To Kara's astonishment, she discovers that a p...</td>\n",
              "      <td>Paperback</td>\n",
              "      <td>False</td>\n",
              "      <td>[{'count': '515', 'name': 'to-read'}, {'count'...</td>\n",
              "      <td>4.22</td>\n",
              "      <td>98</td>\n",
              "      <td>6</td>\n",
              "    </tr>\n",
              "    <tr>\n",
              "      <th>2</th>\n",
              "      <td>0590417010</td>\n",
              "      <td>9780590417013</td>\n",
              "      <td>89378</td>\n",
              "      <td>Dog Heaven</td>\n",
              "      <td>[{'author_id': '5411', 'role': ''}]</td>\n",
              "      <td>40.0</td>\n",
              "      <td>eng</td>\n",
              "      <td>In Newbery Medalist Cynthia Rylant's classic b...</td>\n",
              "      <td>Hardcover</td>\n",
              "      <td>False</td>\n",
              "      <td>[{'count': '450', 'name': 'to-read'}, {'count'...</td>\n",
              "      <td>4.43</td>\n",
              "      <td>1331</td>\n",
              "      <td>193</td>\n",
              "    </tr>\n",
              "    <tr>\n",
              "      <th>3</th>\n",
              "      <td>0915190575</td>\n",
              "      <td>9780915190577</td>\n",
              "      <td>3209312</td>\n",
              "      <td>Moths and Mothers, Feathers and Fathers: A Sto...</td>\n",
              "      <td>[{'author_id': '589328', 'role': ''}, {'author...</td>\n",
              "      <td>NaN</td>\n",
              "      <td></td>\n",
              "      <td></td>\n",
              "      <td></td>\n",
              "      <td>False</td>\n",
              "      <td>[{'count': '8', 'name': 'to-read'}, {'count': ...</td>\n",
              "      <td>4.29</td>\n",
              "      <td>11</td>\n",
              "      <td>4</td>\n",
              "    </tr>\n",
              "    <tr>\n",
              "      <th>4</th>\n",
              "      <td>1416904999</td>\n",
              "      <td>9781416904991</td>\n",
              "      <td>1698376</td>\n",
              "      <td>What Do You Do?</td>\n",
              "      <td>[{'author_id': '169159', 'role': ''}]</td>\n",
              "      <td>24.0</td>\n",
              "      <td></td>\n",
              "      <td>WHAT DO YOU DO?\\nA hen lays eggs...\\nA cow giv...</td>\n",
              "      <td>Board Book</td>\n",
              "      <td>False</td>\n",
              "      <td>[{'count': '8', 'name': 'to-read'}, {'count': ...</td>\n",
              "      <td>3.57</td>\n",
              "      <td>23</td>\n",
              "      <td>4</td>\n",
              "    </tr>\n",
              "  </tbody>\n",
              "</table>\n",
              "</div>"
            ],
            "text/plain": [
              "         isbn         isbn13  book_id  \\\n",
              "0  1599150603  9781599150604   287141   \n",
              "1  1934876569  9781934876565  6066812   \n",
              "2  0590417010  9780590417013    89378   \n",
              "3  0915190575  9780915190577  3209312   \n",
              "4  1416904999  9781416904991  1698376   \n",
              "\n",
              "                                               title  \\\n",
              "0                      The Aeneid for Boys and Girls   \n",
              "1  All's Fairy in Love and War (Avalon: Web of Ma...   \n",
              "2                                         Dog Heaven   \n",
              "3  Moths and Mothers, Feathers and Fathers: A Sto...   \n",
              "4                                    What Do You Do?   \n",
              "\n",
              "                                             authors  num_pages language_code  \\\n",
              "0             [{'author_id': '3041852', 'role': ''}]      162.0                 \n",
              "1               [{'author_id': '19158', 'role': ''}]      216.0                 \n",
              "2                [{'author_id': '5411', 'role': ''}]       40.0           eng   \n",
              "3  [{'author_id': '589328', 'role': ''}, {'author...        NaN                 \n",
              "4              [{'author_id': '169159', 'role': ''}]       24.0                 \n",
              "\n",
              "                                         description      format  is_ebook  \\\n",
              "0  Relates in vigorous prose the tale of Aeneas, ...   Paperback     False   \n",
              "1  To Kara's astonishment, she discovers that a p...   Paperback     False   \n",
              "2  In Newbery Medalist Cynthia Rylant's classic b...   Hardcover     False   \n",
              "3                                                                    False   \n",
              "4  WHAT DO YOU DO?\\nA hen lays eggs...\\nA cow giv...  Board Book     False   \n",
              "\n",
              "                                     popular_shelves  average_rating  \\\n",
              "0  [{'count': '56', 'name': 'to-read'}, {'count':...            4.13   \n",
              "1  [{'count': '515', 'name': 'to-read'}, {'count'...            4.22   \n",
              "2  [{'count': '450', 'name': 'to-read'}, {'count'...            4.43   \n",
              "3  [{'count': '8', 'name': 'to-read'}, {'count': ...            4.29   \n",
              "4  [{'count': '8', 'name': 'to-read'}, {'count': ...            3.57   \n",
              "\n",
              "   ratings_count  text_reviews_count  \n",
              "0             46                   7  \n",
              "1             98                   6  \n",
              "2           1331                 193  \n",
              "3             11                   4  \n",
              "4             23                   4  "
            ]
          },
          "execution_count": 23,
          "metadata": {},
          "output_type": "execute_result"
        }
      ],
      "source": [
        "df_children_books_final = df_children_books[['isbn', 'isbn13', 'book_id', 'title', 'authors', 'num_pages', 'language_code', 'description', 'format', 'is_ebook', 'popular_shelves', 'average_rating', 'ratings_count', 'text_reviews_count']]\n",
        "print(df_children_books_final.shape)\n",
        "df_children_books_final.head(5)"
      ]
    },
    {
      "cell_type": "code",
      "execution_count": 24,
      "metadata": {},
      "outputs": [
        {
          "name": "stdout",
          "output_type": "stream",
          "text": [
            "Shape: 6626989 rows 10 columns\n",
            "Column - user_id, Data type - object\n",
            "Number of NA Values: 0\n",
            "----------------------------------------\n",
            "Column - book_id, Data type - object\n",
            "Number of NA Values: 0\n",
            "----------------------------------------\n",
            "Column - review_id, Data type - object\n",
            "Number of NA Values: 0\n",
            "----------------------------------------\n",
            "Column - is_read, Data type - bool\n",
            "Number of NA Values: 0\n",
            "is_read\n",
            "True    6626989\n",
            "dtype: int64\n",
            "----------------------------------------\n",
            "Column - review_text_incomplete, Data type - object\n",
            "Number of NA Values: 5908387\n",
            "----------------------------------------\n",
            "Column - date_added, Data type - object\n",
            "Number of NA Values: 0\n",
            "Min value: 1990-01-01 00:00:00-08:00 , Max value: 2017-11-03 23:37:07-07:00\n",
            "----------------------------------------\n",
            "Column - date_updated, Data type - object\n",
            "Number of NA Values: 0\n",
            "Min value: 2006-08-29 10:18:37-07:00 , Max value: 2017-11-05 13:05:10-08:00\n",
            "----------------------------------------\n",
            "Column - read_at, Data type - object\n",
            "Number of NA Values: 4742229\n",
            "Min value: 0001-12-31 00:00:00-08:00 , Max value: 3101-07-29 00:00:00-07:00\n",
            "----------------------------------------\n",
            "Column - started_at, Data type - object\n",
            "Number of NA Values: 5639401\n",
            "Min value: 1912-01-01 00:00:00-08:00 , Max value: 3101-06-29 00:00:00-07:00\n",
            "----------------------------------------\n"
          ]
        }
      ],
      "source": [
        "summarize_df(df_interactions_filtered)"
      ]
    },
    {
      "cell_type": "markdown",
      "metadata": {},
      "source": [
        "### Column Removal Justification for df_interactions_filtered\n",
        "In our analysis of the df_interactions_filtered DataFrame, which contains 6,626,989 rows and 10 columns, we identified specific columns to remove based on their relevance and usefulness for building a recommendation system for books. Below are the columns we decided to exclude, along with the reasons for their removal:\n",
        "\n",
        "- Insufficient Data: The `read_at` and `started_at` columns had a high number of null values (4,742,229 and 5,639,401 out of 6,626,989 rows respectively), indicating insufficient data for meaningful analysis.\n",
        "- Redundancy: Retained the `date_added` column for possible recommendations based on recency and dropped the `date_updated` column.\n",
        "- Uninformative: The `is_read` column was dropped as it only contains true values as we have previously filtered out the rows where is_read = False in the data.ipynb file."
      ]
    },
    {
      "cell_type": "code",
      "execution_count": 25,
      "metadata": {},
      "outputs": [
        {
          "name": "stdout",
          "output_type": "stream",
          "text": [
            "(6626989, 6)\n"
          ]
        },
        {
          "data": {
            "text/html": [
              "<div>\n",
              "<style scoped>\n",
              "    .dataframe tbody tr th:only-of-type {\n",
              "        vertical-align: middle;\n",
              "    }\n",
              "\n",
              "    .dataframe tbody tr th {\n",
              "        vertical-align: top;\n",
              "    }\n",
              "\n",
              "    .dataframe thead th {\n",
              "        text-align: right;\n",
              "    }\n",
              "</style>\n",
              "<table border=\"1\" class=\"dataframe\">\n",
              "  <thead>\n",
              "    <tr style=\"text-align: right;\">\n",
              "      <th></th>\n",
              "      <th>user_id</th>\n",
              "      <th>book_id</th>\n",
              "      <th>review_id</th>\n",
              "      <th>rating</th>\n",
              "      <th>review_text_incomplete</th>\n",
              "      <th>date_added</th>\n",
              "    </tr>\n",
              "  </thead>\n",
              "  <tbody>\n",
              "    <tr>\n",
              "      <th>0</th>\n",
              "      <td>8842281e1d1347389f2ab93d60773d4d</td>\n",
              "      <td>23310161</td>\n",
              "      <td>f4b4b050f4be00e9283c92a814af2670</td>\n",
              "      <td>4</td>\n",
              "      <td>Fun sequel to the original.</td>\n",
              "      <td>2015-11-17 11:37:35-08:00</td>\n",
              "    </tr>\n",
              "    <tr>\n",
              "      <th>1</th>\n",
              "      <td>8842281e1d1347389f2ab93d60773d4d</td>\n",
              "      <td>18296097</td>\n",
              "      <td>bc9cff98f54be3b2b8c5b34598a7546c</td>\n",
              "      <td>5</td>\n",
              "      <td>NaN</td>\n",
              "      <td>2015-09-21 08:16:57-07:00</td>\n",
              "    </tr>\n",
              "    <tr>\n",
              "      <th>2</th>\n",
              "      <td>8842281e1d1347389f2ab93d60773d4d</td>\n",
              "      <td>817720</td>\n",
              "      <td>75fd46041466ceb406b7fd69b089b9c5</td>\n",
              "      <td>5</td>\n",
              "      <td>NaN</td>\n",
              "      <td>2015-05-20 21:29:23-07:00</td>\n",
              "    </tr>\n",
              "    <tr>\n",
              "      <th>3</th>\n",
              "      <td>8842281e1d1347389f2ab93d60773d4d</td>\n",
              "      <td>502362</td>\n",
              "      <td>be1ad51fa3d519e39050d2a61ffab534</td>\n",
              "      <td>5</td>\n",
              "      <td>NaN</td>\n",
              "      <td>2015-03-31 20:00:12-07:00</td>\n",
              "    </tr>\n",
              "    <tr>\n",
              "      <th>4</th>\n",
              "      <td>8842281e1d1347389f2ab93d60773d4d</td>\n",
              "      <td>1969280</td>\n",
              "      <td>5809d5592ee32745e048a9c67ac27100</td>\n",
              "      <td>5</td>\n",
              "      <td>NaN</td>\n",
              "      <td>2014-11-08 08:56:58-08:00</td>\n",
              "    </tr>\n",
              "  </tbody>\n",
              "</table>\n",
              "</div>"
            ],
            "text/plain": [
              "                            user_id   book_id  \\\n",
              "0  8842281e1d1347389f2ab93d60773d4d  23310161   \n",
              "1  8842281e1d1347389f2ab93d60773d4d  18296097   \n",
              "2  8842281e1d1347389f2ab93d60773d4d    817720   \n",
              "3  8842281e1d1347389f2ab93d60773d4d    502362   \n",
              "4  8842281e1d1347389f2ab93d60773d4d   1969280   \n",
              "\n",
              "                          review_id  rating       review_text_incomplete  \\\n",
              "0  f4b4b050f4be00e9283c92a814af2670       4  Fun sequel to the original.   \n",
              "1  bc9cff98f54be3b2b8c5b34598a7546c       5                          NaN   \n",
              "2  75fd46041466ceb406b7fd69b089b9c5       5                          NaN   \n",
              "3  be1ad51fa3d519e39050d2a61ffab534       5                          NaN   \n",
              "4  5809d5592ee32745e048a9c67ac27100       5                          NaN   \n",
              "\n",
              "                  date_added  \n",
              "0  2015-11-17 11:37:35-08:00  \n",
              "1  2015-09-21 08:16:57-07:00  \n",
              "2  2015-05-20 21:29:23-07:00  \n",
              "3  2015-03-31 20:00:12-07:00  \n",
              "4  2014-11-08 08:56:58-08:00  "
            ]
          },
          "execution_count": 25,
          "metadata": {},
          "output_type": "execute_result"
        }
      ],
      "source": [
        "df_interactions_final = df_interactions_filtered.drop(['is_read', 'date_updated', 'read_at', 'started_at'], axis=1)\n",
        "print(df_interactions_final.shape)\n",
        "df_interactions_final.head(5)"
      ]
    },
    {
      "cell_type": "code",
      "execution_count": 26,
      "metadata": {},
      "outputs": [
        {
          "name": "stdout",
          "output_type": "stream",
          "text": [
            "Index(['user_id', 'book_id', 'review_id', 'rating', 'review_text',\n",
            "       'date_added', 'date_updated', 'read_at', 'started_at', 'n_votes',\n",
            "       'n_comments'],\n",
            "      dtype='object')\n"
          ]
        }
      ],
      "source": [
        "print(df_reviews.columns)"
      ]
    },
    {
      "cell_type": "markdown",
      "metadata": {},
      "source": [
        "### Column Removal Justification for df_reviews\n",
        "The df_reviews DataFrame contains 734,640 rows and 11 columns. We only retained the `review_id` and `n_votes` columns as we will be doing a left join on df_interactions_filtered to integrate the data from df_reviews to df_interactions_filtered. df_interactions_filtered contains interactions without text reviews, which could be valuable for recommendations. Thus, we decided to retain reviews without text as well. The `review_id` column can be used to uniquely identify reviews for the left join, while `n_votes` provides insight into the popularity or quality of a review."
      ]
    },
    {
      "cell_type": "code",
      "execution_count": 27,
      "metadata": {},
      "outputs": [
        {
          "name": "stdout",
          "output_type": "stream",
          "text": [
            "(734640, 2)\n"
          ]
        },
        {
          "data": {
            "text/html": [
              "<div>\n",
              "<style scoped>\n",
              "    .dataframe tbody tr th:only-of-type {\n",
              "        vertical-align: middle;\n",
              "    }\n",
              "\n",
              "    .dataframe tbody tr th {\n",
              "        vertical-align: top;\n",
              "    }\n",
              "\n",
              "    .dataframe thead th {\n",
              "        text-align: right;\n",
              "    }\n",
              "</style>\n",
              "<table border=\"1\" class=\"dataframe\">\n",
              "  <thead>\n",
              "    <tr style=\"text-align: right;\">\n",
              "      <th></th>\n",
              "      <th>review_id</th>\n",
              "      <th>n_votes</th>\n",
              "    </tr>\n",
              "  </thead>\n",
              "  <tbody>\n",
              "    <tr>\n",
              "      <th>0</th>\n",
              "      <td>f4b4b050f4be00e9283c92a814af2670</td>\n",
              "      <td>7</td>\n",
              "    </tr>\n",
              "    <tr>\n",
              "      <th>1</th>\n",
              "      <td>22d424a2b0057b18fb6ecf017af7be92</td>\n",
              "      <td>4</td>\n",
              "    </tr>\n",
              "    <tr>\n",
              "      <th>2</th>\n",
              "      <td>50ed4431c451d5677d98dd25ca8ec106</td>\n",
              "      <td>6</td>\n",
              "    </tr>\n",
              "    <tr>\n",
              "      <th>3</th>\n",
              "      <td>1e4de11dd4fa4b7ffa59b6c69a6b28e9</td>\n",
              "      <td>5</td>\n",
              "    </tr>\n",
              "    <tr>\n",
              "      <th>4</th>\n",
              "      <td>2065145714bf747083a1c9ce81d5c4fe</td>\n",
              "      <td>5</td>\n",
              "    </tr>\n",
              "  </tbody>\n",
              "</table>\n",
              "</div>"
            ],
            "text/plain": [
              "                          review_id  n_votes\n",
              "0  f4b4b050f4be00e9283c92a814af2670        7\n",
              "1  22d424a2b0057b18fb6ecf017af7be92        4\n",
              "2  50ed4431c451d5677d98dd25ca8ec106        6\n",
              "3  1e4de11dd4fa4b7ffa59b6c69a6b28e9        5\n",
              "4  2065145714bf747083a1c9ce81d5c4fe        5"
            ]
          },
          "execution_count": 27,
          "metadata": {},
          "output_type": "execute_result"
        }
      ],
      "source": [
        "df_reviews_final = df_reviews[['review_id', 'n_votes']]\n",
        "print(df_reviews_final.shape)\n",
        "df_reviews_final.head(5)"
      ]
    },
    {
      "cell_type": "code",
      "execution_count": 28,
      "metadata": {},
      "outputs": [
        {
          "name": "stdout",
          "output_type": "stream",
          "text": [
            "(6626989, 7)\n"
          ]
        },
        {
          "data": {
            "text/html": [
              "<div>\n",
              "<style scoped>\n",
              "    .dataframe tbody tr th:only-of-type {\n",
              "        vertical-align: middle;\n",
              "    }\n",
              "\n",
              "    .dataframe tbody tr th {\n",
              "        vertical-align: top;\n",
              "    }\n",
              "\n",
              "    .dataframe thead th {\n",
              "        text-align: right;\n",
              "    }\n",
              "</style>\n",
              "<table border=\"1\" class=\"dataframe\">\n",
              "  <thead>\n",
              "    <tr style=\"text-align: right;\">\n",
              "      <th></th>\n",
              "      <th>user_id</th>\n",
              "      <th>book_id</th>\n",
              "      <th>review_id</th>\n",
              "      <th>rating</th>\n",
              "      <th>review_text_incomplete</th>\n",
              "      <th>date_added</th>\n",
              "      <th>n_votes</th>\n",
              "    </tr>\n",
              "  </thead>\n",
              "  <tbody>\n",
              "    <tr>\n",
              "      <th>0</th>\n",
              "      <td>8842281e1d1347389f2ab93d60773d4d</td>\n",
              "      <td>23310161</td>\n",
              "      <td>f4b4b050f4be00e9283c92a814af2670</td>\n",
              "      <td>4</td>\n",
              "      <td>Fun sequel to the original.</td>\n",
              "      <td>2015-11-17 11:37:35-08:00</td>\n",
              "      <td>7.0</td>\n",
              "    </tr>\n",
              "    <tr>\n",
              "      <th>1</th>\n",
              "      <td>8842281e1d1347389f2ab93d60773d4d</td>\n",
              "      <td>18296097</td>\n",
              "      <td>bc9cff98f54be3b2b8c5b34598a7546c</td>\n",
              "      <td>5</td>\n",
              "      <td>NaN</td>\n",
              "      <td>2015-09-21 08:16:57-07:00</td>\n",
              "      <td>NaN</td>\n",
              "    </tr>\n",
              "    <tr>\n",
              "      <th>2</th>\n",
              "      <td>8842281e1d1347389f2ab93d60773d4d</td>\n",
              "      <td>817720</td>\n",
              "      <td>75fd46041466ceb406b7fd69b089b9c5</td>\n",
              "      <td>5</td>\n",
              "      <td>NaN</td>\n",
              "      <td>2015-05-20 21:29:23-07:00</td>\n",
              "      <td>NaN</td>\n",
              "    </tr>\n",
              "    <tr>\n",
              "      <th>3</th>\n",
              "      <td>8842281e1d1347389f2ab93d60773d4d</td>\n",
              "      <td>502362</td>\n",
              "      <td>be1ad51fa3d519e39050d2a61ffab534</td>\n",
              "      <td>5</td>\n",
              "      <td>NaN</td>\n",
              "      <td>2015-03-31 20:00:12-07:00</td>\n",
              "      <td>NaN</td>\n",
              "    </tr>\n",
              "    <tr>\n",
              "      <th>4</th>\n",
              "      <td>8842281e1d1347389f2ab93d60773d4d</td>\n",
              "      <td>1969280</td>\n",
              "      <td>5809d5592ee32745e048a9c67ac27100</td>\n",
              "      <td>5</td>\n",
              "      <td>NaN</td>\n",
              "      <td>2014-11-08 08:56:58-08:00</td>\n",
              "      <td>NaN</td>\n",
              "    </tr>\n",
              "  </tbody>\n",
              "</table>\n",
              "</div>"
            ],
            "text/plain": [
              "                            user_id   book_id  \\\n",
              "0  8842281e1d1347389f2ab93d60773d4d  23310161   \n",
              "1  8842281e1d1347389f2ab93d60773d4d  18296097   \n",
              "2  8842281e1d1347389f2ab93d60773d4d    817720   \n",
              "3  8842281e1d1347389f2ab93d60773d4d    502362   \n",
              "4  8842281e1d1347389f2ab93d60773d4d   1969280   \n",
              "\n",
              "                          review_id  rating       review_text_incomplete  \\\n",
              "0  f4b4b050f4be00e9283c92a814af2670       4  Fun sequel to the original.   \n",
              "1  bc9cff98f54be3b2b8c5b34598a7546c       5                          NaN   \n",
              "2  75fd46041466ceb406b7fd69b089b9c5       5                          NaN   \n",
              "3  be1ad51fa3d519e39050d2a61ffab534       5                          NaN   \n",
              "4  5809d5592ee32745e048a9c67ac27100       5                          NaN   \n",
              "\n",
              "                  date_added  n_votes  \n",
              "0  2015-11-17 11:37:35-08:00      7.0  \n",
              "1  2015-09-21 08:16:57-07:00      NaN  \n",
              "2  2015-05-20 21:29:23-07:00      NaN  \n",
              "3  2015-03-31 20:00:12-07:00      NaN  \n",
              "4  2014-11-08 08:56:58-08:00      NaN  "
            ]
          },
          "execution_count": 28,
          "metadata": {},
          "output_type": "execute_result"
        }
      ],
      "source": [
        "df_interactions_final_merged = df_interactions_final.merge(df_reviews_final, how='left')\n",
        "print(df_interactions_final_merged.shape)\n",
        "df_interactions_final_merged.head(5)"
      ]
    },
    {
      "cell_type": "code",
      "execution_count": 29,
      "metadata": {},
      "outputs": [
        {
          "name": "stdout",
          "output_type": "stream",
          "text": [
            "Shape: 6626989 rows 7 columns\n",
            "Column - user_id, Data type - object\n",
            "Number of NA Values: 0\n",
            "----------------------------------------\n",
            "Column - book_id, Data type - object\n",
            "Number of NA Values: 0\n",
            "----------------------------------------\n",
            "Column - review_id, Data type - object\n",
            "Number of NA Values: 0\n",
            "----------------------------------------\n",
            "Column - review_text_incomplete, Data type - object\n",
            "Number of NA Values: 5908387\n",
            "----------------------------------------\n",
            "Column - date_added, Data type - object\n",
            "Number of NA Values: 0\n",
            "Min value: 1990-01-01 00:00:00-08:00 , Max value: 2017-11-03 23:37:07-07:00\n",
            "----------------------------------------\n"
          ]
        }
      ],
      "source": [
        "summarize_df(df_interactions_final_merged)"
      ]
    },
    {
      "cell_type": "code",
      "execution_count": 30,
      "metadata": {},
      "outputs": [],
      "source": [
        "interactions_numerical_col = [col for col in integer_columns if col in df_interactions_final_merged.columns]"
      ]
    },
    {
      "cell_type": "code",
      "execution_count": 31,
      "metadata": {},
      "outputs": [
        {
          "data": {
            "text/html": [
              "<div>\n",
              "<style scoped>\n",
              "    .dataframe tbody tr th:only-of-type {\n",
              "        vertical-align: middle;\n",
              "    }\n",
              "\n",
              "    .dataframe tbody tr th {\n",
              "        vertical-align: top;\n",
              "    }\n",
              "\n",
              "    .dataframe thead th {\n",
              "        text-align: right;\n",
              "    }\n",
              "</style>\n",
              "<table border=\"1\" class=\"dataframe\">\n",
              "  <thead>\n",
              "    <tr style=\"text-align: right;\">\n",
              "      <th></th>\n",
              "      <th>count</th>\n",
              "      <th>mean</th>\n",
              "      <th>std</th>\n",
              "      <th>min</th>\n",
              "      <th>25%</th>\n",
              "      <th>50%</th>\n",
              "      <th>75%</th>\n",
              "      <th>max</th>\n",
              "    </tr>\n",
              "  </thead>\n",
              "  <tbody>\n",
              "    <tr>\n",
              "      <th>rating</th>\n",
              "      <td>6626989.0</td>\n",
              "      <td>3.873383</td>\n",
              "      <td>1.193241</td>\n",
              "      <td>0.0</td>\n",
              "      <td>3.0</td>\n",
              "      <td>4.0</td>\n",
              "      <td>5.0</td>\n",
              "      <td>5.0</td>\n",
              "    </tr>\n",
              "    <tr>\n",
              "      <th>n_votes</th>\n",
              "      <td>716618.0</td>\n",
              "      <td>0.559867</td>\n",
              "      <td>5.545828</td>\n",
              "      <td>-3.0</td>\n",
              "      <td>0.0</td>\n",
              "      <td>0.0</td>\n",
              "      <td>0.0</td>\n",
              "      <td>2764.0</td>\n",
              "    </tr>\n",
              "  </tbody>\n",
              "</table>\n",
              "</div>"
            ],
            "text/plain": [
              "             count      mean       std  min  25%  50%  75%     max\n",
              "rating   6626989.0  3.873383  1.193241  0.0  3.0  4.0  5.0     5.0\n",
              "n_votes   716618.0  0.559867  5.545828 -3.0  0.0  0.0  0.0  2764.0"
            ]
          },
          "execution_count": 31,
          "metadata": {},
          "output_type": "execute_result"
        }
      ],
      "source": [
        "df_interactions_final_merged[interactions_numerical_col].describe().transpose()"
      ]
    },
    {
      "cell_type": "markdown",
      "metadata": {},
      "source": [
        "# Data Cleaning"
      ]
    },
    {
      "cell_type": "markdown",
      "metadata": {},
      "source": [
        "## isbn and isbn13  \n",
        "1. remove rows with both empty isbn and isbn13 \n",
        "2. create new column called 'isbn_combined'. if isbn present, take value from isbn column, else, take value from isbn13 column. \n",
        "\n",
        "rationale: prep data for web scraping"
      ]
    },
    {
      "cell_type": "code",
      "execution_count": 32,
      "metadata": {},
      "outputs": [
        {
          "name": "stdout",
          "output_type": "stream",
          "text": [
            "12924\n",
            "20199\n",
            "15489\n"
          ]
        }
      ],
      "source": [
        "print(sum((df_children_books_final['isbn13'] == '') & (df_children_books_final['isbn'] == '')))\n",
        "print(sum((df_children_books_final['isbn'] == '')))\n",
        "print(sum((df_children_books_final['isbn13'] == '')))"
      ]
    },
    {
      "cell_type": "code",
      "execution_count": 33,
      "metadata": {},
      "outputs": [
        {
          "name": "stderr",
          "output_type": "stream",
          "text": [
            "/var/folders/lv/4p2_jtmx6rzdf0lvp89413tc0000gn/T/ipykernel_40731/2325941102.py:1: SettingWithCopyWarning: \n",
            "A value is trying to be set on a copy of a slice from a DataFrame\n",
            "\n",
            "See the caveats in the documentation: https://pandas.pydata.org/pandas-docs/stable/user_guide/indexing.html#returning-a-view-versus-a-copy\n",
            "  df_children_books_final.drop(\n"
          ]
        },
        {
          "data": {
            "text/plain": [
              "(111158, 14)"
            ]
          },
          "execution_count": 33,
          "metadata": {},
          "output_type": "execute_result"
        }
      ],
      "source": [
        "df_children_books_final.drop(\n",
        "    df_children_books_final[(df_children_books_final['isbn13'] == '') & (df_children_books_final['isbn'] == '')].index,\n",
        "    inplace=True\n",
        ")\n",
        "df_children_books_final.shape"
      ]
    },
    {
      "cell_type": "code",
      "execution_count": 34,
      "metadata": {},
      "outputs": [
        {
          "name": "stderr",
          "output_type": "stream",
          "text": [
            "/var/folders/lv/4p2_jtmx6rzdf0lvp89413tc0000gn/T/ipykernel_40731/4111420980.py:1: SettingWithCopyWarning: \n",
            "A value is trying to be set on a copy of a slice from a DataFrame.\n",
            "Try using .loc[row_indexer,col_indexer] = value instead\n",
            "\n",
            "See the caveats in the documentation: https://pandas.pydata.org/pandas-docs/stable/user_guide/indexing.html#returning-a-view-versus-a-copy\n",
            "  df_children_books_final['isbn_combined'] = df_children_books_final.apply(\n"
          ]
        },
        {
          "name": "stdout",
          "output_type": "stream",
          "text": [
            "0\n"
          ]
        },
        {
          "data": {
            "text/html": [
              "<div>\n",
              "<style scoped>\n",
              "    .dataframe tbody tr th:only-of-type {\n",
              "        vertical-align: middle;\n",
              "    }\n",
              "\n",
              "    .dataframe tbody tr th {\n",
              "        vertical-align: top;\n",
              "    }\n",
              "\n",
              "    .dataframe thead th {\n",
              "        text-align: right;\n",
              "    }\n",
              "</style>\n",
              "<table border=\"1\" class=\"dataframe\">\n",
              "  <thead>\n",
              "    <tr style=\"text-align: right;\">\n",
              "      <th></th>\n",
              "      <th>isbn</th>\n",
              "      <th>isbn13</th>\n",
              "      <th>book_id</th>\n",
              "      <th>title</th>\n",
              "      <th>authors</th>\n",
              "      <th>num_pages</th>\n",
              "      <th>language_code</th>\n",
              "      <th>description</th>\n",
              "      <th>format</th>\n",
              "      <th>is_ebook</th>\n",
              "      <th>popular_shelves</th>\n",
              "      <th>average_rating</th>\n",
              "      <th>ratings_count</th>\n",
              "      <th>text_reviews_count</th>\n",
              "      <th>isbn_combined</th>\n",
              "    </tr>\n",
              "  </thead>\n",
              "  <tbody>\n",
              "    <tr>\n",
              "      <th>0</th>\n",
              "      <td>1599150603</td>\n",
              "      <td>9781599150604</td>\n",
              "      <td>287141</td>\n",
              "      <td>The Aeneid for Boys and Girls</td>\n",
              "      <td>[{'author_id': '3041852', 'role': ''}]</td>\n",
              "      <td>162.0</td>\n",
              "      <td></td>\n",
              "      <td>Relates in vigorous prose the tale of Aeneas, ...</td>\n",
              "      <td>Paperback</td>\n",
              "      <td>False</td>\n",
              "      <td>[{'count': '56', 'name': 'to-read'}, {'count':...</td>\n",
              "      <td>4.13</td>\n",
              "      <td>46</td>\n",
              "      <td>7</td>\n",
              "      <td>1599150603</td>\n",
              "    </tr>\n",
              "    <tr>\n",
              "      <th>1</th>\n",
              "      <td>1934876569</td>\n",
              "      <td>9781934876565</td>\n",
              "      <td>6066812</td>\n",
              "      <td>All's Fairy in Love and War (Avalon: Web of Ma...</td>\n",
              "      <td>[{'author_id': '19158', 'role': ''}]</td>\n",
              "      <td>216.0</td>\n",
              "      <td></td>\n",
              "      <td>To Kara's astonishment, she discovers that a p...</td>\n",
              "      <td>Paperback</td>\n",
              "      <td>False</td>\n",
              "      <td>[{'count': '515', 'name': 'to-read'}, {'count'...</td>\n",
              "      <td>4.22</td>\n",
              "      <td>98</td>\n",
              "      <td>6</td>\n",
              "      <td>1934876569</td>\n",
              "    </tr>\n",
              "    <tr>\n",
              "      <th>2</th>\n",
              "      <td>0590417010</td>\n",
              "      <td>9780590417013</td>\n",
              "      <td>89378</td>\n",
              "      <td>Dog Heaven</td>\n",
              "      <td>[{'author_id': '5411', 'role': ''}]</td>\n",
              "      <td>40.0</td>\n",
              "      <td>eng</td>\n",
              "      <td>In Newbery Medalist Cynthia Rylant's classic b...</td>\n",
              "      <td>Hardcover</td>\n",
              "      <td>False</td>\n",
              "      <td>[{'count': '450', 'name': 'to-read'}, {'count'...</td>\n",
              "      <td>4.43</td>\n",
              "      <td>1331</td>\n",
              "      <td>193</td>\n",
              "      <td>0590417010</td>\n",
              "    </tr>\n",
              "    <tr>\n",
              "      <th>3</th>\n",
              "      <td>0915190575</td>\n",
              "      <td>9780915190577</td>\n",
              "      <td>3209312</td>\n",
              "      <td>Moths and Mothers, Feathers and Fathers: A Sto...</td>\n",
              "      <td>[{'author_id': '589328', 'role': ''}, {'author...</td>\n",
              "      <td>NaN</td>\n",
              "      <td></td>\n",
              "      <td></td>\n",
              "      <td></td>\n",
              "      <td>False</td>\n",
              "      <td>[{'count': '8', 'name': 'to-read'}, {'count': ...</td>\n",
              "      <td>4.29</td>\n",
              "      <td>11</td>\n",
              "      <td>4</td>\n",
              "      <td>0915190575</td>\n",
              "    </tr>\n",
              "    <tr>\n",
              "      <th>4</th>\n",
              "      <td>1416904999</td>\n",
              "      <td>9781416904991</td>\n",
              "      <td>1698376</td>\n",
              "      <td>What Do You Do?</td>\n",
              "      <td>[{'author_id': '169159', 'role': ''}]</td>\n",
              "      <td>24.0</td>\n",
              "      <td></td>\n",
              "      <td>WHAT DO YOU DO?\\nA hen lays eggs...\\nA cow giv...</td>\n",
              "      <td>Board Book</td>\n",
              "      <td>False</td>\n",
              "      <td>[{'count': '8', 'name': 'to-read'}, {'count': ...</td>\n",
              "      <td>3.57</td>\n",
              "      <td>23</td>\n",
              "      <td>4</td>\n",
              "      <td>1416904999</td>\n",
              "    </tr>\n",
              "  </tbody>\n",
              "</table>\n",
              "</div>"
            ],
            "text/plain": [
              "         isbn         isbn13  book_id  \\\n",
              "0  1599150603  9781599150604   287141   \n",
              "1  1934876569  9781934876565  6066812   \n",
              "2  0590417010  9780590417013    89378   \n",
              "3  0915190575  9780915190577  3209312   \n",
              "4  1416904999  9781416904991  1698376   \n",
              "\n",
              "                                               title  \\\n",
              "0                      The Aeneid for Boys and Girls   \n",
              "1  All's Fairy in Love and War (Avalon: Web of Ma...   \n",
              "2                                         Dog Heaven   \n",
              "3  Moths and Mothers, Feathers and Fathers: A Sto...   \n",
              "4                                    What Do You Do?   \n",
              "\n",
              "                                             authors  num_pages language_code  \\\n",
              "0             [{'author_id': '3041852', 'role': ''}]      162.0                 \n",
              "1               [{'author_id': '19158', 'role': ''}]      216.0                 \n",
              "2                [{'author_id': '5411', 'role': ''}]       40.0           eng   \n",
              "3  [{'author_id': '589328', 'role': ''}, {'author...        NaN                 \n",
              "4              [{'author_id': '169159', 'role': ''}]       24.0                 \n",
              "\n",
              "                                         description      format  is_ebook  \\\n",
              "0  Relates in vigorous prose the tale of Aeneas, ...   Paperback     False   \n",
              "1  To Kara's astonishment, she discovers that a p...   Paperback     False   \n",
              "2  In Newbery Medalist Cynthia Rylant's classic b...   Hardcover     False   \n",
              "3                                                                    False   \n",
              "4  WHAT DO YOU DO?\\nA hen lays eggs...\\nA cow giv...  Board Book     False   \n",
              "\n",
              "                                     popular_shelves  average_rating  \\\n",
              "0  [{'count': '56', 'name': 'to-read'}, {'count':...            4.13   \n",
              "1  [{'count': '515', 'name': 'to-read'}, {'count'...            4.22   \n",
              "2  [{'count': '450', 'name': 'to-read'}, {'count'...            4.43   \n",
              "3  [{'count': '8', 'name': 'to-read'}, {'count': ...            4.29   \n",
              "4  [{'count': '8', 'name': 'to-read'}, {'count': ...            3.57   \n",
              "\n",
              "   ratings_count  text_reviews_count isbn_combined  \n",
              "0             46                   7    1599150603  \n",
              "1             98                   6    1934876569  \n",
              "2           1331                 193    0590417010  \n",
              "3             11                   4    0915190575  \n",
              "4             23                   4    1416904999  "
            ]
          },
          "execution_count": 34,
          "metadata": {},
          "output_type": "execute_result"
        }
      ],
      "source": [
        "df_children_books_final['isbn_combined'] = df_children_books_final.apply(\n",
        "    lambda row: row['isbn13'] if row['isbn'] == '' else row['isbn'], axis=1\n",
        ")\n",
        "print(sum(df_children_books_final['isbn_combined'] == ''))\n",
        "df_children_books_final.head(5)"
      ]
    },
    {
      "cell_type": "markdown",
      "metadata": {},
      "source": [
        "# Feature Engineering \n",
        "\n",
        "After clean data and web scrape for genre, do one hot encoding for genre. (another feature)"
      ]
    },
    {
      "cell_type": "code",
      "execution_count": 35,
      "metadata": {},
      "outputs": [],
      "source": [
        "def categorize_format(format_value):\n",
        "    if 'ebook' in format_value.lower() or 'kindle' in format_value.lower() or 'pdf' in format_value.lower():\n",
        "        return 'Digital'\n",
        "    elif 'audio' in format_value.lower() or 'audiobook' in format_value.lower() or 'cd' in format_value.lower():\n",
        "        return 'Audio'\n",
        "    elif 'paper' in format_value.lower() or 'hardcover' in format_value.lower() or 'softcover' in format_value.lower():\n",
        "        return 'Physical'\n",
        "    elif 'board' in format_value.lower() or 'novelty' in format_value.lower():\n",
        "        return 'Specialty'\n",
        "    else:\n",
        "        return 'Other'"
      ]
    },
    {
      "cell_type": "code",
      "execution_count": 36,
      "metadata": {},
      "outputs": [
        {
          "name": "stderr",
          "output_type": "stream",
          "text": [
            "/var/folders/lv/4p2_jtmx6rzdf0lvp89413tc0000gn/T/ipykernel_40731/671502079.py:11: SettingWithCopyWarning: \n",
            "A value is trying to be set on a copy of a slice from a DataFrame.\n",
            "Try using .loc[row_indexer,col_indexer] = value instead\n",
            "\n",
            "See the caveats in the documentation: https://pandas.pydata.org/pandas-docs/stable/user_guide/indexing.html#returning-a-view-versus-a-copy\n",
            "  df_children_books_final['book_length'] = df_children_books_final['num_pages'].apply(classify_book_length)\n"
          ]
        },
        {
          "data": {
            "text/html": [
              "<div>\n",
              "<style scoped>\n",
              "    .dataframe tbody tr th:only-of-type {\n",
              "        vertical-align: middle;\n",
              "    }\n",
              "\n",
              "    .dataframe tbody tr th {\n",
              "        vertical-align: top;\n",
              "    }\n",
              "\n",
              "    .dataframe thead th {\n",
              "        text-align: right;\n",
              "    }\n",
              "</style>\n",
              "<table border=\"1\" class=\"dataframe\">\n",
              "  <thead>\n",
              "    <tr style=\"text-align: right;\">\n",
              "      <th></th>\n",
              "      <th>num_pages</th>\n",
              "      <th>book_length</th>\n",
              "    </tr>\n",
              "  </thead>\n",
              "  <tbody>\n",
              "    <tr>\n",
              "      <th>0</th>\n",
              "      <td>162.0</td>\n",
              "      <td>medium</td>\n",
              "    </tr>\n",
              "    <tr>\n",
              "      <th>1</th>\n",
              "      <td>216.0</td>\n",
              "      <td>medium</td>\n",
              "    </tr>\n",
              "    <tr>\n",
              "      <th>2</th>\n",
              "      <td>40.0</td>\n",
              "      <td>short</td>\n",
              "    </tr>\n",
              "    <tr>\n",
              "      <th>3</th>\n",
              "      <td>NaN</td>\n",
              "      <td>long</td>\n",
              "    </tr>\n",
              "    <tr>\n",
              "      <th>4</th>\n",
              "      <td>24.0</td>\n",
              "      <td>short</td>\n",
              "    </tr>\n",
              "  </tbody>\n",
              "</table>\n",
              "</div>"
            ],
            "text/plain": [
              "   num_pages book_length\n",
              "0      162.0      medium\n",
              "1      216.0      medium\n",
              "2       40.0       short\n",
              "3        NaN        long\n",
              "4       24.0       short"
            ]
          },
          "execution_count": 36,
          "metadata": {},
          "output_type": "execute_result"
        }
      ],
      "source": [
        "# function to classify whether the book is a short read, medium or long read\n",
        "def classify_book_length(pages):\n",
        "    if pages < 100:\n",
        "        return 'short'\n",
        "    elif 100 <= pages <= 300:\n",
        "        return 'medium'\n",
        "    else:\n",
        "        return 'long'\n",
        "\n",
        "\n",
        "df_children_books_final['book_length'] = df_children_books_final['num_pages'].apply(classify_book_length)\n",
        "\n",
        "df_children_books_final[['num_pages', 'book_length']].head()"
      ]
    },
    {
      "cell_type": "code",
      "execution_count": 37,
      "metadata": {},
      "outputs": [
        {
          "data": {
            "text/plain": [
              "book_length\n",
              "short     57739\n",
              "medium    27693\n",
              "long      25726\n",
              "Name: count, dtype: int64"
            ]
          },
          "execution_count": 37,
          "metadata": {},
          "output_type": "execute_result"
        }
      ],
      "source": [
        "df_children_books_final['book_length'].value_counts()"
      ]
    }
  ],
  "metadata": {
    "kernelspec": {
      "display_name": "Python 3",
      "language": "python",
      "name": "python3"
    },
    "language_info": {
      "codemirror_mode": {
        "name": "ipython",
        "version": 3
      },
      "file_extension": ".py",
      "mimetype": "text/x-python",
      "name": "python",
      "nbconvert_exporter": "python",
      "pygments_lexer": "ipython3",
      "version": "3.9.9"
    }
  },
  "nbformat": 4,
  "nbformat_minor": 2
}
