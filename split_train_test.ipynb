{
 "cells": [
  {
   "cell_type": "markdown",
   "metadata": {},
   "source": [
    "# Splitting interactions into train and test sets\n",
    "\n",
    "To ensure all models are trained and evaluated on the same train and test data"
   ]
  },
  {
   "cell_type": "code",
   "execution_count": 11,
   "metadata": {},
   "outputs": [],
   "source": [
    "from torch.utils.data import Dataset, DataLoader\n",
    "import pandas as pd\n",
    "from sklearn.preprocessing import LabelEncoder\n",
    "import numpy as np"
   ]
  },
  {
   "cell_type": "code",
   "execution_count": 4,
   "metadata": {},
   "outputs": [],
   "source": [
    "df_interactions_sampled = pd.read_csv('df_interactions_reviews_5to15.csv')"
   ]
  },
  {
   "cell_type": "code",
   "execution_count": 5,
   "metadata": {},
   "outputs": [
    {
     "data": {
      "text/plain": [
       "(176341, 7)"
      ]
     },
     "execution_count": 5,
     "metadata": {},
     "output_type": "execute_result"
    }
   ],
   "source": [
    "df_interactions_sampled.shape"
   ]
  },
  {
   "cell_type": "code",
   "execution_count": 6,
   "metadata": {},
   "outputs": [],
   "source": [
    "# Preprocessing\n",
    "userid_encoder = LabelEncoder()\n",
    "df_interactions_sampled['user_id'] = userid_encoder.fit_transform(df_interactions_sampled['user_id'])"
   ]
  },
  {
   "cell_type": "code",
   "execution_count": 7,
   "metadata": {},
   "outputs": [
    {
     "data": {
      "text/html": [
       "<div>\n",
       "<style scoped>\n",
       "    .dataframe tbody tr th:only-of-type {\n",
       "        vertical-align: middle;\n",
       "    }\n",
       "\n",
       "    .dataframe tbody tr th {\n",
       "        vertical-align: top;\n",
       "    }\n",
       "\n",
       "    .dataframe thead th {\n",
       "        text-align: right;\n",
       "    }\n",
       "</style>\n",
       "<table border=\"1\" class=\"dataframe\">\n",
       "  <thead>\n",
       "    <tr style=\"text-align: right;\">\n",
       "      <th></th>\n",
       "      <th>user_id</th>\n",
       "      <th>book_id</th>\n",
       "      <th>rating</th>\n",
       "      <th>date_added</th>\n",
       "      <th>n_votes</th>\n",
       "      <th>review_age</th>\n",
       "      <th>sentiment</th>\n",
       "    </tr>\n",
       "  </thead>\n",
       "  <tbody>\n",
       "    <tr>\n",
       "      <th>0</th>\n",
       "      <td>481</td>\n",
       "      <td>47693</td>\n",
       "      <td>5</td>\n",
       "      <td>2012-06-05 16:34:47+00:00</td>\n",
       "      <td>NaN</td>\n",
       "      <td>4508</td>\n",
       "      <td>0.574139</td>\n",
       "    </tr>\n",
       "    <tr>\n",
       "      <th>1</th>\n",
       "      <td>481</td>\n",
       "      <td>30118</td>\n",
       "      <td>4</td>\n",
       "      <td>2012-06-05 02:44:17+00:00</td>\n",
       "      <td>NaN</td>\n",
       "      <td>4509</td>\n",
       "      <td>0.527973</td>\n",
       "    </tr>\n",
       "    <tr>\n",
       "      <th>2</th>\n",
       "      <td>481</td>\n",
       "      <td>144974</td>\n",
       "      <td>5</td>\n",
       "      <td>2012-06-05 02:33:59+00:00</td>\n",
       "      <td>NaN</td>\n",
       "      <td>4509</td>\n",
       "      <td>0.574139</td>\n",
       "    </tr>\n",
       "  </tbody>\n",
       "</table>\n",
       "</div>"
      ],
      "text/plain": [
       "   user_id  book_id  rating                 date_added  n_votes  review_age  \\\n",
       "0      481    47693       5  2012-06-05 16:34:47+00:00      NaN        4508   \n",
       "1      481    30118       4  2012-06-05 02:44:17+00:00      NaN        4509   \n",
       "2      481   144974       5  2012-06-05 02:33:59+00:00      NaN        4509   \n",
       "\n",
       "   sentiment  \n",
       "0   0.574139  \n",
       "1   0.527973  \n",
       "2   0.574139  "
      ]
     },
     "execution_count": 7,
     "metadata": {},
     "output_type": "execute_result"
    }
   ],
   "source": [
    "df_interactions_sampled.head(3)"
   ]
  },
  {
   "cell_type": "code",
   "execution_count": 8,
   "metadata": {},
   "outputs": [],
   "source": [
    "# Function to split train/test per user\n",
    "def split_train_test(df, n_test=2):\n",
    "    train_data = []\n",
    "    test_data = []\n",
    "    \n",
    "    # Group by `user_id`\n",
    "    for user_id, group in df.groupby('user_id'):\n",
    "        test = group.tail(n_test)\n",
    "        train = group.drop(test.index)\n",
    "        \n",
    "        test_data.append(test)\n",
    "        train_data.append(train)\n",
    "    \n",
    "    # Concatenate the train and test sets from each user group\n",
    "    train_df = pd.concat(train_data).reset_index(drop=True)\n",
    "    test_df = pd.concat(test_data).reset_index(drop=True)\n",
    "    \n",
    "    return train_df, test_df\n",
    "\n",
    "# Apply the split function\n",
    "train_df, test_df = split_train_test(df_interactions_sampled, n_test=2)"
   ]
  },
  {
   "cell_type": "code",
   "execution_count": 9,
   "metadata": {},
   "outputs": [
    {
     "name": "stdout",
     "output_type": "stream",
     "text": [
      "Training data shape: (134745, 7)\n",
      "Testing data shape: (41596, 7)\n"
     ]
    }
   ],
   "source": [
    "print(\"Training data shape:\", train_df.shape)\n",
    "print(\"Testing data shape:\", test_df.shape)"
   ]
  },
  {
   "cell_type": "code",
   "execution_count": 10,
   "metadata": {},
   "outputs": [
    {
     "name": "stdout",
     "output_type": "stream",
     "text": [
      "\n",
      "User 0:\n",
      "  Train samples: 7\n",
      "  Test samples: 2\n",
      "  Train ratio: 0.78\n",
      "  Test ratio: 0.22\n",
      "\n",
      "User 1:\n",
      "  Train samples: 10\n",
      "  Test samples: 2\n",
      "  Train ratio: 0.83\n",
      "  Test ratio: 0.17\n",
      "\n",
      "User 2:\n",
      "  Train samples: 7\n",
      "  Test samples: 2\n",
      "  Train ratio: 0.78\n",
      "  Test ratio: 0.22\n",
      "\n",
      "User 3:\n",
      "  Train samples: 12\n",
      "  Test samples: 2\n",
      "  Train ratio: 0.86\n",
      "  Test ratio: 0.14\n",
      "\n",
      "User 4:\n",
      "  Train samples: 7\n",
      "  Test samples: 2\n",
      "  Train ratio: 0.78\n",
      "  Test ratio: 0.22\n"
     ]
    }
   ],
   "source": [
    "for user_id in range(5): \n",
    "    user_train = train_df[train_df['user_id'] == user_id]\n",
    "    user_test = test_df[test_df['user_id'] == user_id]\n",
    "    \n",
    "    total_samples = len(user_train) + len(user_test)\n",
    "    \n",
    "    print(f\"\\nUser {user_id}:\")\n",
    "    print(f\"  Train samples: {len(user_train)}\")\n",
    "    print(f\"  Test samples: {len(user_test)}\")\n",
    "    print(f\"  Train ratio: {len(user_train) / total_samples:.2f}\")\n",
    "    print(f\"  Test ratio: {len(user_test) / total_samples:.2f}\")"
   ]
  },
  {
   "cell_type": "markdown",
   "metadata": {},
   "source": [
    "# Export to CSV"
   ]
  },
  {
   "cell_type": "code",
   "execution_count": 145,
   "metadata": {},
   "outputs": [],
   "source": [
    "train_df.to_csv('train_interactions.csv', index=False)"
   ]
  },
  {
   "cell_type": "code",
   "execution_count": 146,
   "metadata": {},
   "outputs": [],
   "source": [
    "test_df.to_csv('test_interactions.csv', index=False)"
   ]
  },
  {
   "cell_type": "markdown",
   "metadata": {},
   "source": [
    "## To check if there are missing books"
   ]
  },
  {
   "cell_type": "code",
   "execution_count": 148,
   "metadata": {},
   "outputs": [],
   "source": [
    "df_books_final = pd.read_csv('df_books_final.csv')\n",
    "books = df_books_final['book_id']"
   ]
  },
  {
   "cell_type": "code",
   "execution_count": 149,
   "metadata": {},
   "outputs": [
    {
     "data": {
      "text/html": [
       "<div>\n",
       "<style scoped>\n",
       "    .dataframe tbody tr th:only-of-type {\n",
       "        vertical-align: middle;\n",
       "    }\n",
       "\n",
       "    .dataframe tbody tr th {\n",
       "        vertical-align: top;\n",
       "    }\n",
       "\n",
       "    .dataframe thead th {\n",
       "        text-align: right;\n",
       "    }\n",
       "</style>\n",
       "<table border=\"1\" class=\"dataframe\">\n",
       "  <thead>\n",
       "    <tr style=\"text-align: right;\">\n",
       "      <th></th>\n",
       "      <th>user_id</th>\n",
       "      <th>book_id</th>\n",
       "      <th>rating</th>\n",
       "      <th>date_added</th>\n",
       "      <th>n_votes</th>\n",
       "      <th>review_age</th>\n",
       "      <th>sentiment</th>\n",
       "    </tr>\n",
       "  </thead>\n",
       "  <tbody>\n",
       "    <tr>\n",
       "      <th>0</th>\n",
       "      <td>0</td>\n",
       "      <td>157993</td>\n",
       "      <td>5</td>\n",
       "      <td>2016-07-18 19:34:48+00:00</td>\n",
       "      <td>NaN</td>\n",
       "      <td>3004</td>\n",
       "      <td>0.574139</td>\n",
       "    </tr>\n",
       "    <tr>\n",
       "      <th>1</th>\n",
       "      <td>0</td>\n",
       "      <td>359079</td>\n",
       "      <td>4</td>\n",
       "      <td>2014-07-16 19:28:57+00:00</td>\n",
       "      <td>NaN</td>\n",
       "      <td>3737</td>\n",
       "      <td>0.527973</td>\n",
       "    </tr>\n",
       "    <tr>\n",
       "      <th>2</th>\n",
       "      <td>0</td>\n",
       "      <td>41684</td>\n",
       "      <td>4</td>\n",
       "      <td>2014-07-16 13:45:50+00:00</td>\n",
       "      <td>NaN</td>\n",
       "      <td>3738</td>\n",
       "      <td>0.527973</td>\n",
       "    </tr>\n",
       "  </tbody>\n",
       "</table>\n",
       "</div>"
      ],
      "text/plain": [
       "   user_id  book_id  rating                 date_added  n_votes  review_age  \\\n",
       "0        0   157993       5  2016-07-18 19:34:48+00:00      NaN        3004   \n",
       "1        0   359079       4  2014-07-16 19:28:57+00:00      NaN        3737   \n",
       "2        0    41684       4  2014-07-16 13:45:50+00:00      NaN        3738   \n",
       "\n",
       "   sentiment  \n",
       "0   0.574139  \n",
       "1   0.527973  \n",
       "2   0.527973  "
      ]
     },
     "execution_count": 149,
     "metadata": {},
     "output_type": "execute_result"
    }
   ],
   "source": [
    "train_df.head(3)"
   ]
  },
  {
   "cell_type": "code",
   "execution_count": 150,
   "metadata": {},
   "outputs": [],
   "source": [
    "interaction_books = train_df['book_id'].unique()"
   ]
  },
  {
   "cell_type": "code",
   "execution_count": null,
   "metadata": {},
   "outputs": [
    {
     "name": "stdout",
     "output_type": "stream",
     "text": [
      "0\n"
     ]
    }
   ],
   "source": [
    "# Find book IDs in interaction_books that are not in books\n",
    "missing_books = interaction_books[~np.isin(interaction_books, books)]\n",
    "\n",
    "# Display the missing book IDs\n",
    "print(len(missing_books))"
   ]
  }
 ],
 "metadata": {
  "kernelspec": {
   "display_name": "Python 3",
   "language": "python",
   "name": "python3"
  },
  "language_info": {
   "codemirror_mode": {
    "name": "ipython",
    "version": 3
   },
   "file_extension": ".py",
   "mimetype": "text/x-python",
   "name": "python",
   "nbconvert_exporter": "python",
   "pygments_lexer": "ipython3",
   "version": "3.10.11"
  }
 },
 "nbformat": 4,
 "nbformat_minor": 2
}
