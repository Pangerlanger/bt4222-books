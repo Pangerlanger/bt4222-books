{
 "cells": [
  {
   "cell_type": "markdown",
   "metadata": {},
   "source": [
    "# Preprocessing of Scraped Books Metadata"
   ]
  },
  {
   "cell_type": "markdown",
   "metadata": {},
   "source": [
    "## Import Packages"
   ]
  },
  {
   "cell_type": "code",
   "execution_count": 307,
   "metadata": {},
   "outputs": [],
   "source": [
    "import pandas as pd \n",
    "import matplotlib.pyplot as plt\n",
    "import seaborn as sns\n",
    "import numpy as np"
   ]
  },
  {
   "cell_type": "markdown",
   "metadata": {},
   "source": [
    "## Load Scraped Data"
   ]
  },
  {
   "cell_type": "code",
   "execution_count": 308,
   "metadata": {},
   "outputs": [
    {
     "name": "stderr",
     "output_type": "stream",
     "text": [
      "C:\\Users\\rayna\\AppData\\Local\\Temp\\ipykernel_38724\\2330846917.py:1: DtypeWarning: Columns (18) have mixed types. Specify dtype option on import or set low_memory=False.\n",
      "  df_books = pd.read_csv('output_df.csv')\n"
     ]
    }
   ],
   "source": [
    "df_books = pd.read_csv('output_df.csv')"
   ]
  },
  {
   "cell_type": "code",
   "execution_count": 309,
   "metadata": {},
   "outputs": [
    {
     "data": {
      "text/plain": [
       "(99860, 30)"
      ]
     },
     "execution_count": 309,
     "metadata": {},
     "output_type": "execute_result"
    }
   ],
   "source": [
    "df_books.shape"
   ]
  },
  {
   "cell_type": "markdown",
   "metadata": {},
   "source": [
    "## Data Cleaning"
   ]
  },
  {
   "cell_type": "markdown",
   "metadata": {},
   "source": [
    "### Drop Columns"
   ]
  },
  {
   "cell_type": "code",
   "execution_count": 310,
   "metadata": {},
   "outputs": [
    {
     "name": "stdout",
     "output_type": "stream",
     "text": [
      "(99860, 12)\n"
     ]
    },
    {
     "data": {
      "text/html": [
       "<div>\n",
       "<style scoped>\n",
       "    .dataframe tbody tr th:only-of-type {\n",
       "        vertical-align: middle;\n",
       "    }\n",
       "\n",
       "    .dataframe tbody tr th {\n",
       "        vertical-align: top;\n",
       "    }\n",
       "\n",
       "    .dataframe thead th {\n",
       "        text-align: right;\n",
       "    }\n",
       "</style>\n",
       "<table border=\"1\" class=\"dataframe\">\n",
       "  <thead>\n",
       "    <tr style=\"text-align: right;\">\n",
       "      <th></th>\n",
       "      <th>book_id</th>\n",
       "      <th>title</th>\n",
       "      <th>authors</th>\n",
       "      <th>num_pages</th>\n",
       "      <th>language_code</th>\n",
       "      <th>description</th>\n",
       "      <th>format</th>\n",
       "      <th>is_ebook</th>\n",
       "      <th>popular_shelves</th>\n",
       "      <th>average_rating</th>\n",
       "      <th>ratings_count</th>\n",
       "      <th>text_reviews_count</th>\n",
       "    </tr>\n",
       "  </thead>\n",
       "  <tbody>\n",
       "    <tr>\n",
       "      <th>0</th>\n",
       "      <td>287141</td>\n",
       "      <td>The Aeneid for Boys and Girls</td>\n",
       "      <td>[{'author_id': '3041852', 'role': ''}]</td>\n",
       "      <td>162.0</td>\n",
       "      <td>en</td>\n",
       "      <td>Relates in vigorous prose the tale of Aeneas, ...</td>\n",
       "      <td>Paperback</td>\n",
       "      <td>False</td>\n",
       "      <td>[{'count': '56', 'name': 'to-read'}, {'count':...</td>\n",
       "      <td>4.13</td>\n",
       "      <td>46</td>\n",
       "      <td>7</td>\n",
       "    </tr>\n",
       "    <tr>\n",
       "      <th>1</th>\n",
       "      <td>6066812</td>\n",
       "      <td>All's Fairy in Love and War (Avalon: Web of Ma...</td>\n",
       "      <td>[{'author_id': '19158', 'role': ''}]</td>\n",
       "      <td>216.0</td>\n",
       "      <td>en</td>\n",
       "      <td>To Kara's astonishment, she discovers that a p...</td>\n",
       "      <td>Paperback</td>\n",
       "      <td>False</td>\n",
       "      <td>[{'count': '515', 'name': 'to-read'}, {'count'...</td>\n",
       "      <td>4.22</td>\n",
       "      <td>98</td>\n",
       "      <td>6</td>\n",
       "    </tr>\n",
       "    <tr>\n",
       "      <th>2</th>\n",
       "      <td>89378</td>\n",
       "      <td>Dog Heaven</td>\n",
       "      <td>[{'author_id': '5411', 'role': ''}]</td>\n",
       "      <td>40.0</td>\n",
       "      <td>eng</td>\n",
       "      <td>In Newbery Medalist Cynthia Rylant's classic b...</td>\n",
       "      <td>Hardcover</td>\n",
       "      <td>False</td>\n",
       "      <td>[{'count': '450', 'name': 'to-read'}, {'count'...</td>\n",
       "      <td>4.43</td>\n",
       "      <td>1331</td>\n",
       "      <td>193</td>\n",
       "    </tr>\n",
       "  </tbody>\n",
       "</table>\n",
       "</div>"
      ],
      "text/plain": [
       "   book_id                                              title  \\\n",
       "0   287141                      The Aeneid for Boys and Girls   \n",
       "1  6066812  All's Fairy in Love and War (Avalon: Web of Ma...   \n",
       "2    89378                                         Dog Heaven   \n",
       "\n",
       "                                  authors  num_pages language_code  \\\n",
       "0  [{'author_id': '3041852', 'role': ''}]      162.0            en   \n",
       "1    [{'author_id': '19158', 'role': ''}]      216.0            en   \n",
       "2     [{'author_id': '5411', 'role': ''}]       40.0           eng   \n",
       "\n",
       "                                         description     format  is_ebook  \\\n",
       "0  Relates in vigorous prose the tale of Aeneas, ...  Paperback     False   \n",
       "1  To Kara's astonishment, she discovers that a p...  Paperback     False   \n",
       "2  In Newbery Medalist Cynthia Rylant's classic b...  Hardcover     False   \n",
       "\n",
       "                                     popular_shelves  average_rating  \\\n",
       "0  [{'count': '56', 'name': 'to-read'}, {'count':...            4.13   \n",
       "1  [{'count': '515', 'name': 'to-read'}, {'count'...            4.22   \n",
       "2  [{'count': '450', 'name': 'to-read'}, {'count'...            4.43   \n",
       "\n",
       "   ratings_count  text_reviews_count  \n",
       "0             46                   7  \n",
       "1             98                   6  \n",
       "2           1331                 193  "
      ]
     },
     "execution_count": 310,
     "metadata": {},
     "output_type": "execute_result"
    }
   ],
   "source": [
    "df_books_cleaned = df_books[['book_id', 'title', 'authors', 'num_pages', 'language_code', 'description', 'format', 'is_ebook', 'popular_shelves', 'average_rating', 'ratings_count', 'text_reviews_count']]\n",
    "print(df_books_cleaned.shape)\n",
    "df_books_cleaned.head(3)"
   ]
  },
  {
   "cell_type": "markdown",
   "metadata": {},
   "source": [
    "### Removal of Missing Values"
   ]
  },
  {
   "cell_type": "code",
   "execution_count": 311,
   "metadata": {},
   "outputs": [
    {
     "name": "stdout",
     "output_type": "stream",
     "text": [
      "(85468, 12)\n"
     ]
    },
    {
     "name": "stderr",
     "output_type": "stream",
     "text": [
      "C:\\Users\\rayna\\AppData\\Local\\Temp\\ipykernel_38724\\1452899971.py:1: SettingWithCopyWarning: \n",
      "A value is trying to be set on a copy of a slice from a DataFrame\n",
      "\n",
      "See the caveats in the documentation: https://pandas.pydata.org/pandas-docs/stable/user_guide/indexing.html#returning-a-view-versus-a-copy\n",
      "  df_books_cleaned.dropna(axis=0, how='any', inplace=True)\n"
     ]
    },
    {
     "data": {
      "text/html": [
       "<div>\n",
       "<style scoped>\n",
       "    .dataframe tbody tr th:only-of-type {\n",
       "        vertical-align: middle;\n",
       "    }\n",
       "\n",
       "    .dataframe tbody tr th {\n",
       "        vertical-align: top;\n",
       "    }\n",
       "\n",
       "    .dataframe thead th {\n",
       "        text-align: right;\n",
       "    }\n",
       "</style>\n",
       "<table border=\"1\" class=\"dataframe\">\n",
       "  <thead>\n",
       "    <tr style=\"text-align: right;\">\n",
       "      <th></th>\n",
       "      <th>book_id</th>\n",
       "      <th>title</th>\n",
       "      <th>authors</th>\n",
       "      <th>num_pages</th>\n",
       "      <th>language_code</th>\n",
       "      <th>description</th>\n",
       "      <th>format</th>\n",
       "      <th>is_ebook</th>\n",
       "      <th>popular_shelves</th>\n",
       "      <th>average_rating</th>\n",
       "      <th>ratings_count</th>\n",
       "      <th>text_reviews_count</th>\n",
       "    </tr>\n",
       "  </thead>\n",
       "  <tbody>\n",
       "    <tr>\n",
       "      <th>0</th>\n",
       "      <td>287141</td>\n",
       "      <td>The Aeneid for Boys and Girls</td>\n",
       "      <td>[{'author_id': '3041852', 'role': ''}]</td>\n",
       "      <td>162.0</td>\n",
       "      <td>en</td>\n",
       "      <td>Relates in vigorous prose the tale of Aeneas, ...</td>\n",
       "      <td>Paperback</td>\n",
       "      <td>False</td>\n",
       "      <td>[{'count': '56', 'name': 'to-read'}, {'count':...</td>\n",
       "      <td>4.13</td>\n",
       "      <td>46</td>\n",
       "      <td>7</td>\n",
       "    </tr>\n",
       "    <tr>\n",
       "      <th>1</th>\n",
       "      <td>6066812</td>\n",
       "      <td>All's Fairy in Love and War (Avalon: Web of Ma...</td>\n",
       "      <td>[{'author_id': '19158', 'role': ''}]</td>\n",
       "      <td>216.0</td>\n",
       "      <td>en</td>\n",
       "      <td>To Kara's astonishment, she discovers that a p...</td>\n",
       "      <td>Paperback</td>\n",
       "      <td>False</td>\n",
       "      <td>[{'count': '515', 'name': 'to-read'}, {'count'...</td>\n",
       "      <td>4.22</td>\n",
       "      <td>98</td>\n",
       "      <td>6</td>\n",
       "    </tr>\n",
       "    <tr>\n",
       "      <th>2</th>\n",
       "      <td>89378</td>\n",
       "      <td>Dog Heaven</td>\n",
       "      <td>[{'author_id': '5411', 'role': ''}]</td>\n",
       "      <td>40.0</td>\n",
       "      <td>eng</td>\n",
       "      <td>In Newbery Medalist Cynthia Rylant's classic b...</td>\n",
       "      <td>Hardcover</td>\n",
       "      <td>False</td>\n",
       "      <td>[{'count': '450', 'name': 'to-read'}, {'count'...</td>\n",
       "      <td>4.43</td>\n",
       "      <td>1331</td>\n",
       "      <td>193</td>\n",
       "    </tr>\n",
       "  </tbody>\n",
       "</table>\n",
       "</div>"
      ],
      "text/plain": [
       "   book_id                                              title  \\\n",
       "0   287141                      The Aeneid for Boys and Girls   \n",
       "1  6066812  All's Fairy in Love and War (Avalon: Web of Ma...   \n",
       "2    89378                                         Dog Heaven   \n",
       "\n",
       "                                  authors  num_pages language_code  \\\n",
       "0  [{'author_id': '3041852', 'role': ''}]      162.0            en   \n",
       "1    [{'author_id': '19158', 'role': ''}]      216.0            en   \n",
       "2     [{'author_id': '5411', 'role': ''}]       40.0           eng   \n",
       "\n",
       "                                         description     format  is_ebook  \\\n",
       "0  Relates in vigorous prose the tale of Aeneas, ...  Paperback     False   \n",
       "1  To Kara's astonishment, she discovers that a p...  Paperback     False   \n",
       "2  In Newbery Medalist Cynthia Rylant's classic b...  Hardcover     False   \n",
       "\n",
       "                                     popular_shelves  average_rating  \\\n",
       "0  [{'count': '56', 'name': 'to-read'}, {'count':...            4.13   \n",
       "1  [{'count': '515', 'name': 'to-read'}, {'count'...            4.22   \n",
       "2  [{'count': '450', 'name': 'to-read'}, {'count'...            4.43   \n",
       "\n",
       "   ratings_count  text_reviews_count  \n",
       "0             46                   7  \n",
       "1             98                   6  \n",
       "2           1331                 193  "
      ]
     },
     "execution_count": 311,
     "metadata": {},
     "output_type": "execute_result"
    }
   ],
   "source": [
    "df_books_cleaned.dropna(axis=0, how='any', inplace=True)\n",
    "print(df_books_cleaned.shape)\n",
    "df_books_cleaned.head(3)"
   ]
  },
  {
   "cell_type": "markdown",
   "metadata": {},
   "source": [
    "### Removal of Outliers"
   ]
  },
  {
   "cell_type": "code",
   "execution_count": 312,
   "metadata": {},
   "outputs": [],
   "source": [
    "# Define function to plot distribution of numerical variables\n",
    "def plot_distributions(df):\n",
    "    # Select only numerical columns\n",
    "    numerical_cols = df.select_dtypes(['number']).columns\n",
    "\n",
    "    # Create subplots: one row for each feature, with both a boxplot and a histogram\n",
    "    n_cols = len(numerical_cols)\n",
    "    fig, axes = plt.subplots(n_cols, 2, figsize=(15, 5 * n_cols))\n",
    "    \n",
    "    for i, col in enumerate(numerical_cols):\n",
    "        # Boxplot\n",
    "        sns.boxplot(data=df, x=col, ax=axes[i, 0])\n",
    "        axes[i, 0].set_title(f'Boxplot of {col}')\n",
    "        \n",
    "        # Histogram\n",
    "        sns.histplot(data=df, x=col, bins=30, kde=True, ax=axes[i, 1])\n",
    "        axes[i, 1].set_title(f'Histogram of {col}')\n",
    "    \n",
    "    plt.tight_layout()\n",
    "    plt.show()"
   ]
  },
  {
   "cell_type": "code",
   "execution_count": 313,
   "metadata": {},
   "outputs": [
    {
     "data": {
      "image/png": "[encoded data removed]",
      "text/plain": [
       "<Figure size 1500x2500 with 10 Axes>"
      ]
     },
     "metadata": {},
     "output_type": "display_data"
    }
   ],
   "source": [
    "plot_distributions(df_books_cleaned)"
   ]
  },
  {
   "cell_type": "markdown",
   "metadata": {},
   "source": [
    "#### Removing books with few ratings"
   ]
  },
  {
   "cell_type": "code",
   "execution_count": 314,
   "metadata": {},
   "outputs": [
    {
     "data": {
      "text/plain": [
       "(85468, 12)"
      ]
     },
     "execution_count": 314,
     "metadata": {},
     "output_type": "execute_result"
    }
   ],
   "source": [
    "df_books_cleaned.shape"
   ]
  },
  {
   "cell_type": "code",
   "execution_count": 315,
   "metadata": {},
   "outputs": [],
   "source": [
    "# Sort the DataFrame by 'ratings_count' in ascending order\n",
    "df_books_cleaned = df_books_cleaned.sort_values('ratings_count', ascending=True)\n",
    "\n",
    "# Calculate the cutoff index for the top 30%\n",
    "cutoff_index = int(len(df_books_cleaned) * 0.3)\n",
    "\n",
    "# Remove the top 30% of books with the lowest rating count\n",
    "df_books_cleaned = df_books_cleaned.iloc[cutoff_index:]"
   ]
  },
  {
   "cell_type": "code",
   "execution_count": 316,
   "metadata": {},
   "outputs": [
    {
     "data": {
      "text/plain": [
       "(59828, 12)"
      ]
     },
     "execution_count": 316,
     "metadata": {},
     "output_type": "execute_result"
    }
   ],
   "source": [
    "df_books_cleaned.shape"
   ]
  },
  {
   "cell_type": "markdown",
   "metadata": {},
   "source": [
    "## Feature Engineering"
   ]
  },
  {
   "cell_type": "markdown",
   "metadata": {},
   "source": [
    "### Book Format\n",
    "\n",
    "Categorise to 4 main categories (kindle, audiobook, hardcover and novelty) and others"
   ]
  },
  {
   "cell_type": "code",
   "execution_count": 317,
   "metadata": {},
   "outputs": [],
   "source": [
    "def categorize_format(format_value):\n",
    "    if 'ebook' in format_value.lower() or 'kindle' in format_value.lower() or 'pdf' in format_value.lower():\n",
    "        return 'Digital'\n",
    "    elif 'audio' in format_value.lower() or 'audiobook' in format_value.lower() or 'cd' in format_value.lower():\n",
    "        return 'Audio'\n",
    "    elif 'paper' in format_value.lower() or 'hardcover' in format_value.lower() or 'softcover' in format_value.lower():\n",
    "        return 'Physical'\n",
    "    elif 'board' in format_value.lower() or 'novelty' in format_value.lower():\n",
    "        return 'Specialty'\n",
    "    else:\n",
    "        return 'Other'"
   ]
  },
  {
   "cell_type": "code",
   "execution_count": 318,
   "metadata": {},
   "outputs": [
    {
     "data": {
      "text/html": [
       "<div>\n",
       "<style scoped>\n",
       "    .dataframe tbody tr th:only-of-type {\n",
       "        vertical-align: middle;\n",
       "    }\n",
       "\n",
       "    .dataframe tbody tr th {\n",
       "        vertical-align: top;\n",
       "    }\n",
       "\n",
       "    .dataframe thead th {\n",
       "        text-align: right;\n",
       "    }\n",
       "</style>\n",
       "<table border=\"1\" class=\"dataframe\">\n",
       "  <thead>\n",
       "    <tr style=\"text-align: right;\">\n",
       "      <th></th>\n",
       "      <th>book_id</th>\n",
       "      <th>title</th>\n",
       "      <th>authors</th>\n",
       "      <th>num_pages</th>\n",
       "      <th>language_code</th>\n",
       "      <th>description</th>\n",
       "      <th>format</th>\n",
       "      <th>is_ebook</th>\n",
       "      <th>popular_shelves</th>\n",
       "      <th>average_rating</th>\n",
       "      <th>ratings_count</th>\n",
       "      <th>text_reviews_count</th>\n",
       "    </tr>\n",
       "  </thead>\n",
       "  <tbody>\n",
       "    <tr>\n",
       "      <th>40426</th>\n",
       "      <td>1882090</td>\n",
       "      <td>Behave Yourself, Bethany Brant</td>\n",
       "      <td>[{'author_id': '151369', 'role': ''}]</td>\n",
       "      <td>172.0</td>\n",
       "      <td>en</td>\n",
       "      <td>A preacher's daughter with lots of curiosity a...</td>\n",
       "      <td>Physical</td>\n",
       "      <td>False</td>\n",
       "      <td>[{'count': '5', 'name': 'to-read'}, {'count': ...</td>\n",
       "      <td>3.56</td>\n",
       "      <td>16</td>\n",
       "      <td>2</td>\n",
       "    </tr>\n",
       "    <tr>\n",
       "      <th>35131</th>\n",
       "      <td>166120</td>\n",
       "      <td>Ghosthunters And The Incredibly Revolting Ghost</td>\n",
       "      <td>[{'author_id': '15873', 'role': ''}]</td>\n",
       "      <td>144.0</td>\n",
       "      <td>en</td>\n",
       "      <td>A $2.99 value-priced edition of one of our bes...</td>\n",
       "      <td>Physical</td>\n",
       "      <td>False</td>\n",
       "      <td>[{'count': '254', 'name': 'to-read'}, {'count'...</td>\n",
       "      <td>3.67</td>\n",
       "      <td>16</td>\n",
       "      <td>5</td>\n",
       "    </tr>\n",
       "    <tr>\n",
       "      <th>35157</th>\n",
       "      <td>8608741</td>\n",
       "      <td>Attack of the Chicken Nugget Man: A National T...</td>\n",
       "      <td>[{'author_id': '2868520', 'role': ''}]</td>\n",
       "      <td>110.0</td>\n",
       "      <td>en</td>\n",
       "      <td>Third-grader Chris Robb just can't seem to do ...</td>\n",
       "      <td>Physical</td>\n",
       "      <td>False</td>\n",
       "      <td>[{'count': '63', 'name': 'to-read'}, {'count':...</td>\n",
       "      <td>3.70</td>\n",
       "      <td>16</td>\n",
       "      <td>12</td>\n",
       "    </tr>\n",
       "  </tbody>\n",
       "</table>\n",
       "</div>"
      ],
      "text/plain": [
       "       book_id                                              title  \\\n",
       "40426  1882090                     Behave Yourself, Bethany Brant   \n",
       "35131   166120    Ghosthunters And The Incredibly Revolting Ghost   \n",
       "35157  8608741  Attack of the Chicken Nugget Man: A National T...   \n",
       "\n",
       "                                      authors  num_pages language_code  \\\n",
       "40426   [{'author_id': '151369', 'role': ''}]      172.0            en   \n",
       "35131    [{'author_id': '15873', 'role': ''}]      144.0            en   \n",
       "35157  [{'author_id': '2868520', 'role': ''}]      110.0            en   \n",
       "\n",
       "                                             description    format  is_ebook  \\\n",
       "40426  A preacher's daughter with lots of curiosity a...  Physical     False   \n",
       "35131  A $2.99 value-priced edition of one of our bes...  Physical     False   \n",
       "35157  Third-grader Chris Robb just can't seem to do ...  Physical     False   \n",
       "\n",
       "                                         popular_shelves  average_rating  \\\n",
       "40426  [{'count': '5', 'name': 'to-read'}, {'count': ...            3.56   \n",
       "35131  [{'count': '254', 'name': 'to-read'}, {'count'...            3.67   \n",
       "35157  [{'count': '63', 'name': 'to-read'}, {'count':...            3.70   \n",
       "\n",
       "       ratings_count  text_reviews_count  \n",
       "40426             16                   2  \n",
       "35131             16                   5  \n",
       "35157             16                  12  "
      ]
     },
     "execution_count": 318,
     "metadata": {},
     "output_type": "execute_result"
    }
   ],
   "source": [
    "df_books_cleaned['format'] = df_books_cleaned['format'].apply(categorize_format)\n",
    "df_books_cleaned.head(3)"
   ]
  },
  {
   "cell_type": "markdown",
   "metadata": {},
   "source": [
    "### Book Length\n",
    "\n",
    "Categorise number of pages to 3 categories (short, medium and long)"
   ]
  },
  {
   "cell_type": "code",
   "execution_count": 319,
   "metadata": {},
   "outputs": [
    {
     "data": {
      "text/html": [
       "<div>\n",
       "<style scoped>\n",
       "    .dataframe tbody tr th:only-of-type {\n",
       "        vertical-align: middle;\n",
       "    }\n",
       "\n",
       "    .dataframe tbody tr th {\n",
       "        vertical-align: top;\n",
       "    }\n",
       "\n",
       "    .dataframe thead th {\n",
       "        text-align: right;\n",
       "    }\n",
       "</style>\n",
       "<table border=\"1\" class=\"dataframe\">\n",
       "  <thead>\n",
       "    <tr style=\"text-align: right;\">\n",
       "      <th></th>\n",
       "      <th>num_pages</th>\n",
       "      <th>book_length</th>\n",
       "    </tr>\n",
       "  </thead>\n",
       "  <tbody>\n",
       "    <tr>\n",
       "      <th>40426</th>\n",
       "      <td>172.0</td>\n",
       "      <td>medium</td>\n",
       "    </tr>\n",
       "    <tr>\n",
       "      <th>35131</th>\n",
       "      <td>144.0</td>\n",
       "      <td>medium</td>\n",
       "    </tr>\n",
       "    <tr>\n",
       "      <th>35157</th>\n",
       "      <td>110.0</td>\n",
       "      <td>medium</td>\n",
       "    </tr>\n",
       "    <tr>\n",
       "      <th>35171</th>\n",
       "      <td>42.0</td>\n",
       "      <td>short</td>\n",
       "    </tr>\n",
       "    <tr>\n",
       "      <th>7182</th>\n",
       "      <td>26.0</td>\n",
       "      <td>short</td>\n",
       "    </tr>\n",
       "  </tbody>\n",
       "</table>\n",
       "</div>"
      ],
      "text/plain": [
       "       num_pages book_length\n",
       "40426      172.0      medium\n",
       "35131      144.0      medium\n",
       "35157      110.0      medium\n",
       "35171       42.0       short\n",
       "7182        26.0       short"
      ]
     },
     "execution_count": 319,
     "metadata": {},
     "output_type": "execute_result"
    }
   ],
   "source": [
    "# function to classify whether the book is a short read, medium or long read\n",
    "def classify_book_length(pages):\n",
    "    if pages < 100:\n",
    "        return 'short'\n",
    "    elif 100 <= pages <= 300:\n",
    "        return 'medium'\n",
    "    else:\n",
    "        return 'long'\n",
    "\n",
    "df_books_cleaned['book_length'] = df_books_cleaned['num_pages'].apply(classify_book_length)\n",
    "df_books_cleaned[['num_pages', 'book_length']].head()"
   ]
  },
  {
   "cell_type": "code",
   "execution_count": 320,
   "metadata": {},
   "outputs": [
    {
     "data": {
      "text/plain": [
       "book_length\n",
       "short     39060\n",
       "medium    17809\n",
       "long       2959\n",
       "Name: count, dtype: int64"
      ]
     },
     "execution_count": 320,
     "metadata": {},
     "output_type": "execute_result"
    }
   ],
   "source": [
    "df_books_cleaned['book_length'].value_counts()"
   ]
  },
  {
   "cell_type": "markdown",
   "metadata": {},
   "source": [
    "### Language Code\n",
    "\n",
    "Group all english books (eng, en, en-US, en-CA, etc) as english"
   ]
  },
  {
   "cell_type": "code",
   "execution_count": 321,
   "metadata": {},
   "outputs": [
    {
     "data": {
      "text/plain": [
       "array(['en', 'eng', 'swe', 'spa', 'ger', 'en-US', 'ita', 'nl', 'fil',\n",
       "       'per', 'por', 'fin', 'es', 'ind', 'fre', 'gre', 'nor', 'pol',\n",
       "       'ara', 'en-GB', 'fr', 'cze', 'rum', 'lit', 'est', 'mal', 'dan',\n",
       "       'ja', 'id', 'jpn', 'vie', 'ko', 'tur', 'rus', 'it', 'tha', 'bul',\n",
       "       'ukr', 'de', 'kor', 'fi', 'ru', 'en-CA', 'ben', 'hun', 'tgl', 'sv',\n",
       "       'zho', 'sco', 'ar', 'slo', 'nob', 'ro', 'fa', 'tr', 'lav', 'kat',\n",
       "       'bg', 'srp', 'pl', 'roh', 'mul', 'sin', 'msa', 'scr', 'iu', 'nno',\n",
       "       'cat', 'glg', 'eo', 'pes', 'lat', 'isl', 'pt-BR', 'bs', 'zh-CN',\n",
       "       'cs', 'egy', 'da', 'bn', 'guj', 'mlt', 'slv', 'bos', 'vi'],\n",
       "      dtype=object)"
      ]
     },
     "execution_count": 321,
     "metadata": {},
     "output_type": "execute_result"
    }
   ],
   "source": [
    "df_books_cleaned['language_code'].unique()"
   ]
  },
  {
   "cell_type": "markdown",
   "metadata": {},
   "source": [
    "#### Drop books with '--' as language code"
   ]
  },
  {
   "cell_type": "code",
   "execution_count": 322,
   "metadata": {},
   "outputs": [],
   "source": [
    "df_books_cleaned = df_books_cleaned[df_books_cleaned['language_code'] != '--']"
   ]
  },
  {
   "cell_type": "code",
   "execution_count": 323,
   "metadata": {},
   "outputs": [],
   "source": [
    "def categorize_lang_code(lang_code):\n",
    "\n",
    "    language_groups = {\n",
    "        'en': ['eng', 'en-GB', 'en-US', 'en-CA'],\n",
    "        'de': ['de', 'ger'],\n",
    "        'fr': ['fr', 'fre'],\n",
    "        'es': ['es', 'spa'],\n",
    "        'it': ['it', 'ita'],\n",
    "        'pt': ['pt', 'por', 'pt-BR'],\n",
    "        'ru': ['ru', 'rus'],\n",
    "        'ar': ['ar', 'ara'],\n",
    "        'ja': ['ja', 'jpn'],\n",
    "        'ko': ['ko', 'kor'],\n",
    "        'zh': ['zh-CN', 'zho'],\n",
    "        'hi': ['hi', 'hin'],\n",
    "        'fr': ['fr', 'fre'],\n",
    "        'fin': ['fi'],\n",
    "        'pol': ['pl'],\n",
    "        'nor': ['nob']\n",
    "        # Add more language groups as needed\n",
    "    }\n",
    "\n",
    "    for group, codes in language_groups.items():\n",
    "        if lang_code in codes:\n",
    "            return group\n",
    "        \n",
    "    return lang_code\n",
    "\n",
    "df_books_cleaned['language_code'] = df_books_cleaned['language_code'].apply(categorize_lang_code)"
   ]
  },
  {
   "cell_type": "code",
   "execution_count": 324,
   "metadata": {},
   "outputs": [
    {
     "data": {
      "text/plain": [
       "array(['en', 'swe', 'es', 'de', 'it', 'nl', 'fil', 'per', 'pt', 'fin',\n",
       "       'ind', 'fr', 'gre', 'nor', 'pol', 'ar', 'cze', 'rum', 'lit', 'est',\n",
       "       'mal', 'dan', 'ja', 'id', 'vie', 'ko', 'tur', 'ru', 'tha', 'bul',\n",
       "       'ukr', 'ben', 'hun', 'tgl', 'sv', 'zh', 'sco', 'slo', 'ro', 'fa',\n",
       "       'tr', 'lav', 'kat', 'bg', 'srp', 'roh', 'mul', 'sin', 'msa', 'scr',\n",
       "       'iu', 'nno', 'cat', 'glg', 'eo', 'pes', 'lat', 'isl', 'bs', 'cs',\n",
       "       'egy', 'da', 'bn', 'guj', 'mlt', 'slv', 'bos', 'vi'], dtype=object)"
      ]
     },
     "execution_count": 324,
     "metadata": {},
     "output_type": "execute_result"
    }
   ],
   "source": [
    "df_books_cleaned['language_code'].unique()"
   ]
  },
  {
   "cell_type": "markdown",
   "metadata": {},
   "source": [
    "### Filter Popular Shelves\n",
    "\n",
    "Excluding to-read and currently-reading, we selected the top 3 popular shelves"
   ]
  },
  {
   "cell_type": "code",
   "execution_count": 325,
   "metadata": {},
   "outputs": [
    {
     "data": {
      "text/html": [
       "<div>\n",
       "<style scoped>\n",
       "    .dataframe tbody tr th:only-of-type {\n",
       "        vertical-align: middle;\n",
       "    }\n",
       "\n",
       "    .dataframe tbody tr th {\n",
       "        vertical-align: top;\n",
       "    }\n",
       "\n",
       "    .dataframe thead th {\n",
       "        text-align: right;\n",
       "    }\n",
       "</style>\n",
       "<table border=\"1\" class=\"dataframe\">\n",
       "  <thead>\n",
       "    <tr style=\"text-align: right;\">\n",
       "      <th></th>\n",
       "      <th>book_id</th>\n",
       "      <th>title</th>\n",
       "      <th>authors</th>\n",
       "      <th>num_pages</th>\n",
       "      <th>language_code</th>\n",
       "      <th>description</th>\n",
       "      <th>format</th>\n",
       "      <th>is_ebook</th>\n",
       "      <th>popular_shelves</th>\n",
       "      <th>average_rating</th>\n",
       "      <th>ratings_count</th>\n",
       "      <th>text_reviews_count</th>\n",
       "      <th>book_length</th>\n",
       "    </tr>\n",
       "  </thead>\n",
       "  <tbody>\n",
       "    <tr>\n",
       "      <th>40426</th>\n",
       "      <td>1882090</td>\n",
       "      <td>Behave Yourself, Bethany Brant</td>\n",
       "      <td>[{'author_id': '151369', 'role': ''}]</td>\n",
       "      <td>172.0</td>\n",
       "      <td>en</td>\n",
       "      <td>A preacher's daughter with lots of curiosity a...</td>\n",
       "      <td>Physical</td>\n",
       "      <td>False</td>\n",
       "      <td>[{'count': '5', 'name': 'to-read'}, {'count': ...</td>\n",
       "      <td>3.56</td>\n",
       "      <td>16</td>\n",
       "      <td>2</td>\n",
       "      <td>medium</td>\n",
       "    </tr>\n",
       "    <tr>\n",
       "      <th>35131</th>\n",
       "      <td>166120</td>\n",
       "      <td>Ghosthunters And The Incredibly Revolting Ghost</td>\n",
       "      <td>[{'author_id': '15873', 'role': ''}]</td>\n",
       "      <td>144.0</td>\n",
       "      <td>en</td>\n",
       "      <td>A $2.99 value-priced edition of one of our bes...</td>\n",
       "      <td>Physical</td>\n",
       "      <td>False</td>\n",
       "      <td>[{'count': '254', 'name': 'to-read'}, {'count'...</td>\n",
       "      <td>3.67</td>\n",
       "      <td>16</td>\n",
       "      <td>5</td>\n",
       "      <td>medium</td>\n",
       "    </tr>\n",
       "    <tr>\n",
       "      <th>35157</th>\n",
       "      <td>8608741</td>\n",
       "      <td>Attack of the Chicken Nugget Man: A National T...</td>\n",
       "      <td>[{'author_id': '2868520', 'role': ''}]</td>\n",
       "      <td>110.0</td>\n",
       "      <td>en</td>\n",
       "      <td>Third-grader Chris Robb just can't seem to do ...</td>\n",
       "      <td>Physical</td>\n",
       "      <td>False</td>\n",
       "      <td>[{'count': '63', 'name': 'to-read'}, {'count':...</td>\n",
       "      <td>3.70</td>\n",
       "      <td>16</td>\n",
       "      <td>12</td>\n",
       "      <td>medium</td>\n",
       "    </tr>\n",
       "  </tbody>\n",
       "</table>\n",
       "</div>"
      ],
      "text/plain": [
       "       book_id                                              title  \\\n",
       "40426  1882090                     Behave Yourself, Bethany Brant   \n",
       "35131   166120    Ghosthunters And The Incredibly Revolting Ghost   \n",
       "35157  8608741  Attack of the Chicken Nugget Man: A National T...   \n",
       "\n",
       "                                      authors  num_pages language_code  \\\n",
       "40426   [{'author_id': '151369', 'role': ''}]      172.0            en   \n",
       "35131    [{'author_id': '15873', 'role': ''}]      144.0            en   \n",
       "35157  [{'author_id': '2868520', 'role': ''}]      110.0            en   \n",
       "\n",
       "                                             description    format  is_ebook  \\\n",
       "40426  A preacher's daughter with lots of curiosity a...  Physical     False   \n",
       "35131  A $2.99 value-priced edition of one of our bes...  Physical     False   \n",
       "35157  Third-grader Chris Robb just can't seem to do ...  Physical     False   \n",
       "\n",
       "                                         popular_shelves  average_rating  \\\n",
       "40426  [{'count': '5', 'name': 'to-read'}, {'count': ...            3.56   \n",
       "35131  [{'count': '254', 'name': 'to-read'}, {'count'...            3.67   \n",
       "35157  [{'count': '63', 'name': 'to-read'}, {'count':...            3.70   \n",
       "\n",
       "       ratings_count  text_reviews_count book_length  \n",
       "40426             16                   2      medium  \n",
       "35131             16                   5      medium  \n",
       "35157             16                  12      medium  "
      ]
     },
     "execution_count": 325,
     "metadata": {},
     "output_type": "execute_result"
    }
   ],
   "source": [
    "df_books_cleaned.head(3)"
   ]
  },
  {
   "cell_type": "code",
   "execution_count": 326,
   "metadata": {},
   "outputs": [],
   "source": [
    "import ast\n",
    "\n",
    "# Convert popular_shelves columns from strings to actual lists of dictionaries (if they are strings)\n",
    "df_books_cleaned['popular_shelves'] = df_books_cleaned['popular_shelves'].apply(lambda x: ast.literal_eval(x) if isinstance(x, str) else x)"
   ]
  },
  {
   "cell_type": "code",
   "execution_count": 327,
   "metadata": {},
   "outputs": [],
   "source": [
    "def get_top_3_pop_shelves(data):\n",
    "    # Filter out 'to-read' and 'currently-reading'\n",
    "    data = [d for d in data if (d['name'] != 'to-read' and d['name'] != 'currently-reading')]\n",
    "    sorted_data = sorted(data, key=lambda x: x['count'], reverse=True)\n",
    "\n",
    "    if len(sorted_data) > 3:\n",
    "        return sorted_data[:3]\n",
    "    return sorted_data"
   ]
  },
  {
   "cell_type": "code",
   "execution_count": 328,
   "metadata": {},
   "outputs": [],
   "source": [
    "df_books_cleaned['top_popular_shelves'] = df_books_cleaned['popular_shelves'].apply(get_top_3_pop_shelves)"
   ]
  },
  {
   "cell_type": "markdown",
   "metadata": {},
   "source": [
    "### Extract Authors from Author Column with List of Dictionaries"
   ]
  },
  {
   "cell_type": "code",
   "execution_count": 329,
   "metadata": {},
   "outputs": [],
   "source": [
    "# Convert authors columns from strings to actual lists of dictionaries (if they are strings)\n",
    "df_books_cleaned['authors'] = df_books_cleaned['authors'].apply(lambda x: ast.literal_eval(x) if isinstance(x, str) else x)\n",
    "\n",
    "# Define functions to extract author_ids\n",
    "def extract_author_ids(authors_list):\n",
    "    if isinstance(authors_list, list):\n",
    "        return [author['author_id'] for author in authors_list if 'author_id' in author]\n",
    "    return []\n",
    "\n",
    "# Apply function to create new columns\n",
    "df_books_cleaned['author_ids'] = df_books_cleaned['authors'].apply(extract_author_ids)"
   ]
  },
  {
   "cell_type": "markdown",
   "metadata": {},
   "source": [
    "### Vectorise Text Columns"
   ]
  },
  {
   "cell_type": "markdown",
   "metadata": {},
   "source": [
    "#### TF-IDF on Book Titles"
   ]
  },
  {
   "cell_type": "code",
   "execution_count": 355,
   "metadata": {},
   "outputs": [],
   "source": [
    "from sklearn.feature_extraction.text import TfidfVectorizer\n",
    "\n",
    "# Create a TfidfVectorizer instance\n",
    "tfidf_vectorizer = TfidfVectorizer(stop_words='english')\n",
    "\n",
    "# Fit and transform the titles\n",
    "title_tfidf = tfidf_vectorizer.fit_transform(df_books_cleaned['title'])"
   ]
  },
  {
   "cell_type": "code",
   "execution_count": 356,
   "metadata": {},
   "outputs": [
    {
     "data": {
      "text/plain": [
       "(59828, 25034)"
      ]
     },
     "execution_count": 356,
     "metadata": {},
     "output_type": "execute_result"
    }
   ],
   "source": [
    "title_tfidf.shape"
   ]
  },
  {
   "cell_type": "code",
   "execution_count": 359,
   "metadata": {},
   "outputs": [
    {
     "data": {
      "text/plain": [
       "<59828x25034 sparse matrix of type '<class 'numpy.float64'>'\n",
       "\twith 194839 stored elements in Compressed Sparse Row format>"
      ]
     },
     "execution_count": 359,
     "metadata": {},
     "output_type": "execute_result"
    }
   ],
   "source": [
    "title_tfidf"
   ]
  },
  {
   "cell_type": "code",
   "execution_count": 332,
   "metadata": {},
   "outputs": [],
   "source": [
    "# df_books_cleaned.shape"
   ]
  },
  {
   "cell_type": "code",
   "execution_count": 333,
   "metadata": {},
   "outputs": [],
   "source": [
    "# df_books_cleaned.head(3)"
   ]
  },
  {
   "cell_type": "code",
   "execution_count": 334,
   "metadata": {},
   "outputs": [],
   "source": [
    "# import scipy.sparse\n",
    "\n",
    "# # Convert each row of the sparse matrix to a compressed sparse row (CSR) format and store it in a new column\n",
    "# df_books_cleaned['title_tfidf'] = [scipy.sparse.csr_matrix(title_tfidf[i]) for i in range(title_tfidf.shape[0])]\n"
   ]
  },
  {
   "cell_type": "code",
   "execution_count": 335,
   "metadata": {},
   "outputs": [],
   "source": [
    "# df_books_cleaned.head(3)"
   ]
  },
  {
   "cell_type": "markdown",
   "metadata": {},
   "source": [
    "#### Word2Vec on Book Description\n",
    "\n",
    "Word2Vec captures semantic relationships between words and book descriptions are usually longer and would contain more contextual information. Thus, we used Word2Vec here instead of TF-IDF to better capture the understanding of themes and content of the descriptions."
   ]
  },
  {
   "cell_type": "code",
   "execution_count": 336,
   "metadata": {},
   "outputs": [
    {
     "data": {
      "text/plain": [
       "Index(['book_id', 'title', 'authors', 'num_pages', 'language_code',\n",
       "       'description', 'format', 'is_ebook', 'popular_shelves',\n",
       "       'average_rating', 'ratings_count', 'text_reviews_count', 'book_length',\n",
       "       'top_popular_shelves', 'author_ids'],\n",
       "      dtype='object')"
      ]
     },
     "execution_count": 336,
     "metadata": {},
     "output_type": "execute_result"
    }
   ],
   "source": [
    "df_books_cleaned.columns"
   ]
  },
  {
   "cell_type": "code",
   "execution_count": 337,
   "metadata": {},
   "outputs": [],
   "source": [
    "from gensim.models import Word2Vec"
   ]
  },
  {
   "cell_type": "code",
   "execution_count": 357,
   "metadata": {},
   "outputs": [],
   "source": [
    "book_descriptions = df_books_cleaned['description']\n",
    "\n",
    "# Tokenize book descriptions\n",
    "tokenized_descriptions = [description.split() for description in book_descriptions]\n",
    "\n",
    "# Train Word2Vec model\n",
    "model = Word2Vec(tokenized_descriptions, vector_size=100, window=5, min_count=1, workers=4)\n",
    "\n",
    "# To get a single vector for an entire description, average the word vectors\n",
    "def get_vector(text):\n",
    "    words = text.split()\n",
    "    word_vectors = np.array([model.wv[word] for word in words if word in model.wv])\n",
    "    return np.mean(word_vectors, axis=0) if word_vectors.size else np.zeros(model.vector_size)\n",
    "\n",
    "# Vectorize descriptions\n",
    "descriptions_vectors = np.array([get_vector(description) for description in book_descriptions])\n"
   ]
  },
  {
   "cell_type": "code",
   "execution_count": 358,
   "metadata": {},
   "outputs": [
    {
     "data": {
      "text/plain": [
       "(59828, 100)"
      ]
     },
     "execution_count": 358,
     "metadata": {},
     "output_type": "execute_result"
    }
   ],
   "source": [
    "descriptions_vectors.shape"
   ]
  },
  {
   "cell_type": "code",
   "execution_count": 340,
   "metadata": {},
   "outputs": [],
   "source": [
    "# df_books_cleaned['description_word2vec'] = list(descriptions_vectors)"
   ]
  },
  {
   "cell_type": "code",
   "execution_count": 341,
   "metadata": {},
   "outputs": [
    {
     "name": "stdout",
     "output_type": "stream",
     "text": [
      "(59828, 15)\n"
     ]
    },
    {
     "data": {
      "text/html": [
       "<div>\n",
       "<style scoped>\n",
       "    .dataframe tbody tr th:only-of-type {\n",
       "        vertical-align: middle;\n",
       "    }\n",
       "\n",
       "    .dataframe tbody tr th {\n",
       "        vertical-align: top;\n",
       "    }\n",
       "\n",
       "    .dataframe thead th {\n",
       "        text-align: right;\n",
       "    }\n",
       "</style>\n",
       "<table border=\"1\" class=\"dataframe\">\n",
       "  <thead>\n",
       "    <tr style=\"text-align: right;\">\n",
       "      <th></th>\n",
       "      <th>book_id</th>\n",
       "      <th>title</th>\n",
       "      <th>authors</th>\n",
       "      <th>num_pages</th>\n",
       "      <th>language_code</th>\n",
       "      <th>description</th>\n",
       "      <th>format</th>\n",
       "      <th>is_ebook</th>\n",
       "      <th>popular_shelves</th>\n",
       "      <th>average_rating</th>\n",
       "      <th>ratings_count</th>\n",
       "      <th>text_reviews_count</th>\n",
       "      <th>book_length</th>\n",
       "      <th>top_popular_shelves</th>\n",
       "      <th>author_ids</th>\n",
       "    </tr>\n",
       "  </thead>\n",
       "  <tbody>\n",
       "    <tr>\n",
       "      <th>40426</th>\n",
       "      <td>1882090</td>\n",
       "      <td>Behave Yourself, Bethany Brant</td>\n",
       "      <td>[{'author_id': '151369', 'role': ''}]</td>\n",
       "      <td>172.0</td>\n",
       "      <td>en</td>\n",
       "      <td>A preacher's daughter with lots of curiosity a...</td>\n",
       "      <td>Physical</td>\n",
       "      <td>False</td>\n",
       "      <td>[{'count': '5', 'name': 'to-read'}, {'count': ...</td>\n",
       "      <td>3.56</td>\n",
       "      <td>16</td>\n",
       "      <td>2</td>\n",
       "      <td>medium</td>\n",
       "      <td>[{'count': '1', 'name': 'mrs-withdrawn'}, {'co...</td>\n",
       "      <td>[151369]</td>\n",
       "    </tr>\n",
       "    <tr>\n",
       "      <th>35131</th>\n",
       "      <td>166120</td>\n",
       "      <td>Ghosthunters And The Incredibly Revolting Ghost</td>\n",
       "      <td>[{'author_id': '15873', 'role': ''}]</td>\n",
       "      <td>144.0</td>\n",
       "      <td>en</td>\n",
       "      <td>A $2.99 value-priced edition of one of our bes...</td>\n",
       "      <td>Physical</td>\n",
       "      <td>False</td>\n",
       "      <td>[{'count': '254', 'name': 'to-read'}, {'count'...</td>\n",
       "      <td>3.67</td>\n",
       "      <td>16</td>\n",
       "      <td>5</td>\n",
       "      <td>medium</td>\n",
       "      <td>[{'count': '9', 'name': 'owned'}, {'count': '9...</td>\n",
       "      <td>[15873]</td>\n",
       "    </tr>\n",
       "    <tr>\n",
       "      <th>35157</th>\n",
       "      <td>8608741</td>\n",
       "      <td>Attack of the Chicken Nugget Man: A National T...</td>\n",
       "      <td>[{'author_id': '2868520', 'role': ''}]</td>\n",
       "      <td>110.0</td>\n",
       "      <td>en</td>\n",
       "      <td>Third-grader Chris Robb just can't seem to do ...</td>\n",
       "      <td>Physical</td>\n",
       "      <td>False</td>\n",
       "      <td>[{'count': '63', 'name': 'to-read'}, {'count':...</td>\n",
       "      <td>3.70</td>\n",
       "      <td>16</td>\n",
       "      <td>12</td>\n",
       "      <td>medium</td>\n",
       "      <td>[{'count': '2', 'name': 'books-i-wrote'}, {'co...</td>\n",
       "      <td>[2868520]</td>\n",
       "    </tr>\n",
       "  </tbody>\n",
       "</table>\n",
       "</div>"
      ],
      "text/plain": [
       "       book_id                                              title  \\\n",
       "40426  1882090                     Behave Yourself, Bethany Brant   \n",
       "35131   166120    Ghosthunters And The Incredibly Revolting Ghost   \n",
       "35157  8608741  Attack of the Chicken Nugget Man: A National T...   \n",
       "\n",
       "                                      authors  num_pages language_code  \\\n",
       "40426   [{'author_id': '151369', 'role': ''}]      172.0            en   \n",
       "35131    [{'author_id': '15873', 'role': ''}]      144.0            en   \n",
       "35157  [{'author_id': '2868520', 'role': ''}]      110.0            en   \n",
       "\n",
       "                                             description    format  is_ebook  \\\n",
       "40426  A preacher's daughter with lots of curiosity a...  Physical     False   \n",
       "35131  A $2.99 value-priced edition of one of our bes...  Physical     False   \n",
       "35157  Third-grader Chris Robb just can't seem to do ...  Physical     False   \n",
       "\n",
       "                                         popular_shelves  average_rating  \\\n",
       "40426  [{'count': '5', 'name': 'to-read'}, {'count': ...            3.56   \n",
       "35131  [{'count': '254', 'name': 'to-read'}, {'count'...            3.67   \n",
       "35157  [{'count': '63', 'name': 'to-read'}, {'count':...            3.70   \n",
       "\n",
       "       ratings_count  text_reviews_count book_length  \\\n",
       "40426             16                   2      medium   \n",
       "35131             16                   5      medium   \n",
       "35157             16                  12      medium   \n",
       "\n",
       "                                     top_popular_shelves author_ids  \n",
       "40426  [{'count': '1', 'name': 'mrs-withdrawn'}, {'co...   [151369]  \n",
       "35131  [{'count': '9', 'name': 'owned'}, {'count': '9...    [15873]  \n",
       "35157  [{'count': '2', 'name': 'books-i-wrote'}, {'co...  [2868520]  "
      ]
     },
     "execution_count": 341,
     "metadata": {},
     "output_type": "execute_result"
    }
   ],
   "source": [
    "print(df_books_cleaned.shape)\n",
    "df_books_cleaned.head(3)"
   ]
  },
  {
   "cell_type": "markdown",
   "metadata": {},
   "source": [
    "## One-Hot Encoding"
   ]
  },
  {
   "cell_type": "code",
   "execution_count": 342,
   "metadata": {},
   "outputs": [],
   "source": [
    "df_books_encoded = pd.get_dummies(df_books_cleaned, columns=['format', 'language_code', 'book_length'], prefix=['format', 'lang', 'length'])"
   ]
  },
  {
   "cell_type": "markdown",
   "metadata": {},
   "source": [
    "## Removal of Redundant Columns for Modeling"
   ]
  },
  {
   "cell_type": "code",
   "execution_count": 343,
   "metadata": {},
   "outputs": [
    {
     "name": "stdout",
     "output_type": "stream",
     "text": [
      "(59828, 88)\n"
     ]
    },
    {
     "data": {
      "text/plain": [
       "Index(['book_id', 'title', 'authors', 'num_pages', 'description', 'is_ebook',\n",
       "       'popular_shelves', 'average_rating', 'ratings_count',\n",
       "       'text_reviews_count', 'top_popular_shelves', 'author_ids',\n",
       "       'format_Audio', 'format_Digital', 'format_Other', 'format_Physical',\n",
       "       'format_Specialty', 'lang_ar', 'lang_ben', 'lang_bg', 'lang_bn',\n",
       "       'lang_bos', 'lang_bs', 'lang_bul', 'lang_cat', 'lang_cs', 'lang_cze',\n",
       "       'lang_da', 'lang_dan', 'lang_de', 'lang_egy', 'lang_en', 'lang_eo',\n",
       "       'lang_es', 'lang_est', 'lang_fa', 'lang_fil', 'lang_fin', 'lang_fr',\n",
       "       'lang_glg', 'lang_gre', 'lang_guj', 'lang_hun', 'lang_id', 'lang_ind',\n",
       "       'lang_isl', 'lang_it', 'lang_iu', 'lang_ja', 'lang_kat', 'lang_ko',\n",
       "       'lang_lat', 'lang_lav', 'lang_lit', 'lang_mal', 'lang_mlt', 'lang_msa',\n",
       "       'lang_mul', 'lang_nl', 'lang_nno', 'lang_nor', 'lang_per', 'lang_pes',\n",
       "       'lang_pol', 'lang_pt', 'lang_ro', 'lang_roh', 'lang_ru', 'lang_rum',\n",
       "       'lang_sco', 'lang_scr', 'lang_sin', 'lang_slo', 'lang_slv', 'lang_srp',\n",
       "       'lang_sv', 'lang_swe', 'lang_tgl', 'lang_tha', 'lang_tr', 'lang_tur',\n",
       "       'lang_ukr', 'lang_vi', 'lang_vie', 'lang_zh', 'length_long',\n",
       "       'length_medium', 'length_short'],\n",
       "      dtype='object')"
      ]
     },
     "execution_count": 343,
     "metadata": {},
     "output_type": "execute_result"
    }
   ],
   "source": [
    "print(df_books_encoded.shape)\n",
    "df_books_encoded.columns"
   ]
  },
  {
   "cell_type": "code",
   "execution_count": 344,
   "metadata": {},
   "outputs": [],
   "source": [
    "df_books_final = df_books_encoded.drop(['authors', 'num_pages', 'is_ebook', 'popular_shelves'], axis=1)"
   ]
  },
  {
   "cell_type": "code",
   "execution_count": 345,
   "metadata": {},
   "outputs": [
    {
     "data": {
      "text/plain": [
       "Index(['book_id', 'title', 'description', 'average_rating', 'ratings_count',\n",
       "       'text_reviews_count', 'top_popular_shelves', 'author_ids',\n",
       "       'format_Audio', 'format_Digital', 'format_Other', 'format_Physical',\n",
       "       'format_Specialty', 'lang_ar', 'lang_ben', 'lang_bg', 'lang_bn',\n",
       "       'lang_bos', 'lang_bs', 'lang_bul', 'lang_cat', 'lang_cs', 'lang_cze',\n",
       "       'lang_da', 'lang_dan', 'lang_de', 'lang_egy', 'lang_en', 'lang_eo',\n",
       "       'lang_es', 'lang_est', 'lang_fa', 'lang_fil', 'lang_fin', 'lang_fr',\n",
       "       'lang_glg', 'lang_gre', 'lang_guj', 'lang_hun', 'lang_id', 'lang_ind',\n",
       "       'lang_isl', 'lang_it', 'lang_iu', 'lang_ja', 'lang_kat', 'lang_ko',\n",
       "       'lang_lat', 'lang_lav', 'lang_lit', 'lang_mal', 'lang_mlt', 'lang_msa',\n",
       "       'lang_mul', 'lang_nl', 'lang_nno', 'lang_nor', 'lang_per', 'lang_pes',\n",
       "       'lang_pol', 'lang_pt', 'lang_ro', 'lang_roh', 'lang_ru', 'lang_rum',\n",
       "       'lang_sco', 'lang_scr', 'lang_sin', 'lang_slo', 'lang_slv', 'lang_srp',\n",
       "       'lang_sv', 'lang_swe', 'lang_tgl', 'lang_tha', 'lang_tr', 'lang_tur',\n",
       "       'lang_ukr', 'lang_vi', 'lang_vie', 'lang_zh', 'length_long',\n",
       "       'length_medium', 'length_short'],\n",
       "      dtype='object')"
      ]
     },
     "execution_count": 345,
     "metadata": {},
     "output_type": "execute_result"
    }
   ],
   "source": [
    "df_books_final.columns"
   ]
  },
  {
   "cell_type": "markdown",
   "metadata": {},
   "source": [
    "## Scaling of Features"
   ]
  },
  {
   "cell_type": "code",
   "execution_count": 346,
   "metadata": {},
   "outputs": [],
   "source": [
    "from sklearn.preprocessing import StandardScaler"
   ]
  },
  {
   "cell_type": "code",
   "execution_count": 347,
   "metadata": {},
   "outputs": [],
   "source": [
    "numerical_columns = ['average_rating', 'ratings_count', 'text_reviews_count']\n",
    "\n",
    "# Initialize the scaler\n",
    "scaler = StandardScaler()\n",
    "\n",
    "# Fit and transform the numerical features\n",
    "df_books_final[numerical_columns] = scaler.fit_transform(df_books_final[numerical_columns])"
   ]
  },
  {
   "cell_type": "code",
   "execution_count": 348,
   "metadata": {},
   "outputs": [
    {
     "data": {
      "text/plain": [
       "count    5.982800e+04\n",
       "mean     7.600912e-18\n",
       "std      1.000008e+00\n",
       "min     -1.430055e-01\n",
       "25%     -1.228221e-01\n",
       "50%     -1.060026e-01\n",
       "75%     -5.554409e-02\n",
       "max      1.059410e+02\n",
       "Name: text_reviews_count, dtype: float64"
      ]
     },
     "execution_count": 348,
     "metadata": {},
     "output_type": "execute_result"
    }
   ],
   "source": [
    "df_books_final['text_reviews_count'].describe()"
   ]
  },
  {
   "cell_type": "markdown",
   "metadata": {},
   "source": [
    "## Export Final Books Dataframe to CSV"
   ]
  },
  {
   "cell_type": "code",
   "execution_count": 349,
   "metadata": {},
   "outputs": [
    {
     "data": {
      "text/plain": [
       "(59828, 84)"
      ]
     },
     "execution_count": 349,
     "metadata": {},
     "output_type": "execute_result"
    }
   ],
   "source": [
    "df_books_final.shape"
   ]
  },
  {
   "cell_type": "code",
   "execution_count": 350,
   "metadata": {},
   "outputs": [
    {
     "data": {
      "text/html": [
       "<div>\n",
       "<style scoped>\n",
       "    .dataframe tbody tr th:only-of-type {\n",
       "        vertical-align: middle;\n",
       "    }\n",
       "\n",
       "    .dataframe tbody tr th {\n",
       "        vertical-align: top;\n",
       "    }\n",
       "\n",
       "    .dataframe thead th {\n",
       "        text-align: right;\n",
       "    }\n",
       "</style>\n",
       "<table border=\"1\" class=\"dataframe\">\n",
       "  <thead>\n",
       "    <tr style=\"text-align: right;\">\n",
       "      <th></th>\n",
       "      <th>book_id</th>\n",
       "      <th>title</th>\n",
       "      <th>description</th>\n",
       "      <th>average_rating</th>\n",
       "      <th>ratings_count</th>\n",
       "      <th>text_reviews_count</th>\n",
       "      <th>top_popular_shelves</th>\n",
       "      <th>author_ids</th>\n",
       "      <th>format_Audio</th>\n",
       "      <th>format_Digital</th>\n",
       "      <th>...</th>\n",
       "      <th>lang_tha</th>\n",
       "      <th>lang_tr</th>\n",
       "      <th>lang_tur</th>\n",
       "      <th>lang_ukr</th>\n",
       "      <th>lang_vi</th>\n",
       "      <th>lang_vie</th>\n",
       "      <th>lang_zh</th>\n",
       "      <th>length_long</th>\n",
       "      <th>length_medium</th>\n",
       "      <th>length_short</th>\n",
       "    </tr>\n",
       "  </thead>\n",
       "  <tbody>\n",
       "    <tr>\n",
       "      <th>40426</th>\n",
       "      <td>1882090</td>\n",
       "      <td>Behave Yourself, Bethany Brant</td>\n",
       "      <td>A preacher's daughter with lots of curiosity a...</td>\n",
       "      <td>-1.028630</td>\n",
       "      <td>-0.059069</td>\n",
       "      <td>-0.136278</td>\n",
       "      <td>[{'count': '1', 'name': 'mrs-withdrawn'}, {'co...</td>\n",
       "      <td>[151369]</td>\n",
       "      <td>False</td>\n",
       "      <td>False</td>\n",
       "      <td>...</td>\n",
       "      <td>False</td>\n",
       "      <td>False</td>\n",
       "      <td>False</td>\n",
       "      <td>False</td>\n",
       "      <td>False</td>\n",
       "      <td>False</td>\n",
       "      <td>False</td>\n",
       "      <td>False</td>\n",
       "      <td>True</td>\n",
       "      <td>False</td>\n",
       "    </tr>\n",
       "    <tr>\n",
       "      <th>35131</th>\n",
       "      <td>166120</td>\n",
       "      <td>Ghosthunters And The Incredibly Revolting Ghost</td>\n",
       "      <td>A $2.99 value-priced edition of one of our bes...</td>\n",
       "      <td>-0.690046</td>\n",
       "      <td>-0.059069</td>\n",
       "      <td>-0.126186</td>\n",
       "      <td>[{'count': '9', 'name': 'owned'}, {'count': '9...</td>\n",
       "      <td>[15873]</td>\n",
       "      <td>False</td>\n",
       "      <td>False</td>\n",
       "      <td>...</td>\n",
       "      <td>False</td>\n",
       "      <td>False</td>\n",
       "      <td>False</td>\n",
       "      <td>False</td>\n",
       "      <td>False</td>\n",
       "      <td>False</td>\n",
       "      <td>False</td>\n",
       "      <td>False</td>\n",
       "      <td>True</td>\n",
       "      <td>False</td>\n",
       "    </tr>\n",
       "    <tr>\n",
       "      <th>35157</th>\n",
       "      <td>8608741</td>\n",
       "      <td>Attack of the Chicken Nugget Man: A National T...</td>\n",
       "      <td>Third-grader Chris Robb just can't seem to do ...</td>\n",
       "      <td>-0.597705</td>\n",
       "      <td>-0.059069</td>\n",
       "      <td>-0.102639</td>\n",
       "      <td>[{'count': '2', 'name': 'books-i-wrote'}, {'co...</td>\n",
       "      <td>[2868520]</td>\n",
       "      <td>False</td>\n",
       "      <td>False</td>\n",
       "      <td>...</td>\n",
       "      <td>False</td>\n",
       "      <td>False</td>\n",
       "      <td>False</td>\n",
       "      <td>False</td>\n",
       "      <td>False</td>\n",
       "      <td>False</td>\n",
       "      <td>False</td>\n",
       "      <td>False</td>\n",
       "      <td>True</td>\n",
       "      <td>False</td>\n",
       "    </tr>\n",
       "    <tr>\n",
       "      <th>35171</th>\n",
       "      <td>22928673</td>\n",
       "      <td>The Chicken Who Had a Toothache</td>\n",
       "      <td>Once upon a time there was a chicken who thoug...</td>\n",
       "      <td>-0.259121</td>\n",
       "      <td>-0.059069</td>\n",
       "      <td>-0.119458</td>\n",
       "      <td>[{'count': '4', 'name': 'picture-books'}, {'co...</td>\n",
       "      <td>[214840]</td>\n",
       "      <td>False</td>\n",
       "      <td>False</td>\n",
       "      <td>...</td>\n",
       "      <td>False</td>\n",
       "      <td>False</td>\n",
       "      <td>False</td>\n",
       "      <td>False</td>\n",
       "      <td>False</td>\n",
       "      <td>False</td>\n",
       "      <td>False</td>\n",
       "      <td>False</td>\n",
       "      <td>False</td>\n",
       "      <td>True</td>\n",
       "    </tr>\n",
       "    <tr>\n",
       "      <th>7182</th>\n",
       "      <td>21561023</td>\n",
       "      <td>A Pebble Story</td>\n",
       "      <td>Let's go pebbling! A child's imagination can f...</td>\n",
       "      <td>-3.121696</td>\n",
       "      <td>-0.059069</td>\n",
       "      <td>-0.116094</td>\n",
       "      <td>[{'count': '6', 'name': 'netgalley'}, {'count'...</td>\n",
       "      <td>[122714, 489963]</td>\n",
       "      <td>False</td>\n",
       "      <td>False</td>\n",
       "      <td>...</td>\n",
       "      <td>False</td>\n",
       "      <td>False</td>\n",
       "      <td>False</td>\n",
       "      <td>False</td>\n",
       "      <td>False</td>\n",
       "      <td>False</td>\n",
       "      <td>False</td>\n",
       "      <td>False</td>\n",
       "      <td>False</td>\n",
       "      <td>True</td>\n",
       "    </tr>\n",
       "  </tbody>\n",
       "</table>\n",
       "<p>5 rows × 84 columns</p>\n",
       "</div>"
      ],
      "text/plain": [
       "        book_id                                              title  \\\n",
       "40426   1882090                     Behave Yourself, Bethany Brant   \n",
       "35131    166120    Ghosthunters And The Incredibly Revolting Ghost   \n",
       "35157   8608741  Attack of the Chicken Nugget Man: A National T...   \n",
       "35171  22928673                    The Chicken Who Had a Toothache   \n",
       "7182   21561023                                     A Pebble Story   \n",
       "\n",
       "                                             description  average_rating  \\\n",
       "40426  A preacher's daughter with lots of curiosity a...       -1.028630   \n",
       "35131  A $2.99 value-priced edition of one of our bes...       -0.690046   \n",
       "35157  Third-grader Chris Robb just can't seem to do ...       -0.597705   \n",
       "35171  Once upon a time there was a chicken who thoug...       -0.259121   \n",
       "7182   Let's go pebbling! A child's imagination can f...       -3.121696   \n",
       "\n",
       "       ratings_count  text_reviews_count  \\\n",
       "40426      -0.059069           -0.136278   \n",
       "35131      -0.059069           -0.126186   \n",
       "35157      -0.059069           -0.102639   \n",
       "35171      -0.059069           -0.119458   \n",
       "7182       -0.059069           -0.116094   \n",
       "\n",
       "                                     top_popular_shelves        author_ids  \\\n",
       "40426  [{'count': '1', 'name': 'mrs-withdrawn'}, {'co...          [151369]   \n",
       "35131  [{'count': '9', 'name': 'owned'}, {'count': '9...           [15873]   \n",
       "35157  [{'count': '2', 'name': 'books-i-wrote'}, {'co...         [2868520]   \n",
       "35171  [{'count': '4', 'name': 'picture-books'}, {'co...          [214840]   \n",
       "7182   [{'count': '6', 'name': 'netgalley'}, {'count'...  [122714, 489963]   \n",
       "\n",
       "       format_Audio  format_Digital  ...  lang_tha  lang_tr  lang_tur  \\\n",
       "40426         False           False  ...     False    False     False   \n",
       "35131         False           False  ...     False    False     False   \n",
       "35157         False           False  ...     False    False     False   \n",
       "35171         False           False  ...     False    False     False   \n",
       "7182          False           False  ...     False    False     False   \n",
       "\n",
       "       lang_ukr  lang_vi  lang_vie  lang_zh  length_long  length_medium  \\\n",
       "40426     False    False     False    False        False           True   \n",
       "35131     False    False     False    False        False           True   \n",
       "35157     False    False     False    False        False           True   \n",
       "35171     False    False     False    False        False          False   \n",
       "7182      False    False     False    False        False          False   \n",
       "\n",
       "       length_short  \n",
       "40426         False  \n",
       "35131         False  \n",
       "35157         False  \n",
       "35171          True  \n",
       "7182           True  \n",
       "\n",
       "[5 rows x 84 columns]"
      ]
     },
     "execution_count": 350,
     "metadata": {},
     "output_type": "execute_result"
    }
   ],
   "source": [
    "df_books_final.head()"
   ]
  },
  {
   "cell_type": "code",
   "execution_count": 351,
   "metadata": {},
   "outputs": [],
   "source": [
    "df_books_final.to_csv('df_books_final.csv', index=False)"
   ]
  }
 ],
 "metadata": {
  "kernelspec": {
   "display_name": "Python 3",
   "language": "python",
   "name": "python3"
  },
  "language_info": {
   "codemirror_mode": {
    "name": "ipython",
    "version": 3
   },
   "file_extension": ".py",
   "mimetype": "text/x-python",
   "name": "python",
   "nbconvert_exporter": "python",
   "pygments_lexer": "ipython3",
   "version": "3.10.11"
  }
 },
 "nbformat": 4,
 "nbformat_minor": 2
}
