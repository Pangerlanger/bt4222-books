{
 "cells": [
  {
   "cell_type": "code",
   "execution_count": 1,
   "metadata": {},
   "outputs": [],
   "source": [
    "import pandas as pd\n",
    "import numpy as np\n",
    "from matplotlib import pyplot as plt\n",
    "import seaborn as sns\n",
    "from gensim.models import Word2Vec\n",
    "import pandas as pd\n",
    "from scipy.sparse import csr_matrix\n",
    "from sklearn.preprocessing import LabelEncoder\n",
    "from sklearn.preprocessing import StandardScaler\n",
    "from sklearn.cluster import KMeans\n",
    "from sklearn.feature_extraction.text import TfidfVectorizer\n",
    "from sklearn.metrics.pairwise import cosine_similarity"
   ]
  },
  {
   "cell_type": "code",
   "execution_count": 2,
   "metadata": {},
   "outputs": [],
   "source": [
    "df_books_final = pd.read_csv('df_books_final.csv')"
   ]
  },
  {
   "cell_type": "markdown",
   "metadata": {},
   "source": [
    "combine test and training\n",
    "for each user id inside, recommend some books,\n",
    "compare that recommendation with what he actually read "
   ]
  },
  {
   "cell_type": "markdown",
   "metadata": {},
   "source": [
    "### using df_books_final_with_desc as main dataset"
   ]
  },
  {
   "cell_type": "code",
   "execution_count": 3,
   "metadata": {},
   "outputs": [],
   "source": [
    "df_books_final_with_desc = pd.read_csv('df_books_final_with_desc.csv')"
   ]
  },
  {
   "cell_type": "code",
   "execution_count": 4,
   "metadata": {},
   "outputs": [],
   "source": [
    "df_books_final_with_desc_sampled = df_books_final_with_desc.sample(frac = 0.7)"
   ]
  },
  {
   "cell_type": "code",
   "execution_count": 5,
   "metadata": {},
   "outputs": [],
   "source": [
    "df_books_final_with_desc_sampled = df_books_final_with_desc_sampled.reset_index()"
   ]
  },
  {
   "cell_type": "code",
   "execution_count": 6,
   "metadata": {},
   "outputs": [
    {
     "name": "stdout",
     "output_type": "stream",
     "text": [
      "(85466, 106)\n",
      "(59826, 108)\n"
     ]
    }
   ],
   "source": [
    "print(df_books_final.shape)\n",
    "print(df_books_final_with_desc_sampled.shape)"
   ]
  },
  {
   "cell_type": "code",
   "execution_count": 7,
   "metadata": {},
   "outputs": [
    {
     "data": {
      "text/plain": [
       "(59826, 162088)"
      ]
     },
     "execution_count": 7,
     "metadata": {},
     "output_type": "execute_result"
    }
   ],
   "source": [
    "tfidf = TfidfVectorizer(stop_words='english')\n",
    "tfidf_scores =  tfidf.fit_transform(df_books_final_with_desc_sampled['description'])\n",
    "tfidf_scores.shape"
   ]
  },
  {
   "cell_type": "code",
   "execution_count": 8,
   "metadata": {},
   "outputs": [],
   "source": [
    "# cosine similarity matrix directly for the sparse TF-IDF matrix\n",
    "tfidf_cos_sim = cosine_similarity(tfidf_scores, dense_output=False)"
   ]
  },
  {
   "cell_type": "code",
   "execution_count": 9,
   "metadata": {},
   "outputs": [
    {
     "data": {
      "text/html": [
       "<div>\n",
       "<style scoped>\n",
       "    .dataframe tbody tr th:only-of-type {\n",
       "        vertical-align: middle;\n",
       "    }\n",
       "\n",
       "    .dataframe tbody tr th {\n",
       "        vertical-align: top;\n",
       "    }\n",
       "\n",
       "    .dataframe thead th {\n",
       "        text-align: right;\n",
       "    }\n",
       "</style>\n",
       "<table border=\"1\" class=\"dataframe\">\n",
       "  <thead>\n",
       "    <tr style=\"text-align: right;\">\n",
       "      <th></th>\n",
       "      <th>index</th>\n",
       "      <th>book_id</th>\n",
       "      <th>description</th>\n",
       "      <th>average_rating</th>\n",
       "      <th>ratings_count</th>\n",
       "      <th>text_reviews_count</th>\n",
       "      <th>top_popular_shelves</th>\n",
       "      <th>author_ids</th>\n",
       "      <th>title_tfidf</th>\n",
       "      <th>description_word2vec</th>\n",
       "      <th>...</th>\n",
       "      <th>lang_tr</th>\n",
       "      <th>lang_tur</th>\n",
       "      <th>lang_ukr</th>\n",
       "      <th>lang_vi</th>\n",
       "      <th>lang_vie</th>\n",
       "      <th>lang_yid</th>\n",
       "      <th>lang_zh</th>\n",
       "      <th>length_long</th>\n",
       "      <th>length_medium</th>\n",
       "      <th>length_short</th>\n",
       "    </tr>\n",
       "  </thead>\n",
       "  <tbody>\n",
       "    <tr>\n",
       "      <th>0</th>\n",
       "      <td>82472</td>\n",
       "      <td>542266</td>\n",
       "      <td>The Second Book In The Award-Winning Whalesong...</td>\n",
       "      <td>0.475815</td>\n",
       "      <td>-0.045564</td>\n",
       "      <td>-0.090230</td>\n",
       "      <td>[{'count': '4', 'name': 'childrens'}, {'count'...</td>\n",
       "      <td>['3004']</td>\n",
       "      <td>(0, 30165)\\t0.4951721287250606\\n  (0, 6653)\\...</td>\n",
       "      <td>[ 1.239543    0.373717    0.07649366  0.108885...</td>\n",
       "      <td>...</td>\n",
       "      <td>False</td>\n",
       "      <td>False</td>\n",
       "      <td>False</td>\n",
       "      <td>False</td>\n",
       "      <td>False</td>\n",
       "      <td>False</td>\n",
       "      <td>False</td>\n",
       "      <td>False</td>\n",
       "      <td>True</td>\n",
       "      <td>False</td>\n",
       "    </tr>\n",
       "    <tr>\n",
       "      <th>1</th>\n",
       "      <td>19740</td>\n",
       "      <td>31213715</td>\n",
       "      <td>Are your toes getting sleepy? So very, very sl...</td>\n",
       "      <td>-0.386863</td>\n",
       "      <td>-0.049182</td>\n",
       "      <td>-0.106269</td>\n",
       "      <td>[{'count': '3', 'name': 'board-books'}, {'coun...</td>\n",
       "      <td>['5254942', '2851649']</td>\n",
       "      <td>(0, 19777)\\t0.5918897536992717\\n  (0, 25046)...</td>\n",
       "      <td>[ 1.9632746   0.52620447  0.25226402  0.069296...</td>\n",
       "      <td>...</td>\n",
       "      <td>False</td>\n",
       "      <td>False</td>\n",
       "      <td>False</td>\n",
       "      <td>False</td>\n",
       "      <td>False</td>\n",
       "      <td>False</td>\n",
       "      <td>False</td>\n",
       "      <td>False</td>\n",
       "      <td>False</td>\n",
       "      <td>True</td>\n",
       "    </tr>\n",
       "    <tr>\n",
       "      <th>2</th>\n",
       "      <td>48123</td>\n",
       "      <td>13093858</td>\n",
       "      <td>Pa morgonen nar mamma vacker honom, sager den ...</td>\n",
       "      <td>0.225360</td>\n",
       "      <td>-0.039964</td>\n",
       "      <td>-0.074191</td>\n",
       "      <td>[{'count': '7', 'name': 'picture-book'}, {'cou...</td>\n",
       "      <td>['232839', '424553']</td>\n",
       "      <td>(0, 3892)\\t0.7251025224756457\\n  (0, 21256)\\...</td>\n",
       "      <td>[ 4.3354958e-02  6.8408020e-02  7.7701017e-02 ...</td>\n",
       "      <td>...</td>\n",
       "      <td>False</td>\n",
       "      <td>False</td>\n",
       "      <td>False</td>\n",
       "      <td>False</td>\n",
       "      <td>False</td>\n",
       "      <td>False</td>\n",
       "      <td>False</td>\n",
       "      <td>False</td>\n",
       "      <td>False</td>\n",
       "      <td>True</td>\n",
       "    </tr>\n",
       "    <tr>\n",
       "      <th>3</th>\n",
       "      <td>81673</td>\n",
       "      <td>28592980</td>\n",
       "      <td>Meet Mr. Fox, who loves books so much that eve...</td>\n",
       "      <td>-1.416511</td>\n",
       "      <td>-0.049182</td>\n",
       "      <td>-0.078201</td>\n",
       "      <td>[{'count': '6', 'name': 'picture-books'}, {'co...</td>\n",
       "      <td>['580168']</td>\n",
       "      <td>(0, 1704)\\t0.6614687081774673\\n  (0, 9783)\\t...</td>\n",
       "      <td>[ 2.24585915e+00  6.87894940e-01  3.01568300e-...</td>\n",
       "      <td>...</td>\n",
       "      <td>False</td>\n",
       "      <td>False</td>\n",
       "      <td>False</td>\n",
       "      <td>False</td>\n",
       "      <td>False</td>\n",
       "      <td>False</td>\n",
       "      <td>False</td>\n",
       "      <td>False</td>\n",
       "      <td>False</td>\n",
       "      <td>True</td>\n",
       "    </tr>\n",
       "    <tr>\n",
       "      <th>4</th>\n",
       "      <td>17201</td>\n",
       "      <td>13252019</td>\n",
       "      <td>During the days of the Great War, Captain Amer...</td>\n",
       "      <td>0.225360</td>\n",
       "      <td>-0.047976</td>\n",
       "      <td>-0.102259</td>\n",
       "      <td>[{'count': '2', 'name': 'childrens'}, {'count'...</td>\n",
       "      <td>['4908941', '10294']</td>\n",
       "      <td>(0, 1854)\\t0.5168052118717642\\n  (0, 13698)\\...</td>\n",
       "      <td>[ 1.8278023   0.4543071   0.45529813  0.046496...</td>\n",
       "      <td>...</td>\n",
       "      <td>False</td>\n",
       "      <td>False</td>\n",
       "      <td>False</td>\n",
       "      <td>False</td>\n",
       "      <td>False</td>\n",
       "      <td>False</td>\n",
       "      <td>False</td>\n",
       "      <td>False</td>\n",
       "      <td>False</td>\n",
       "      <td>True</td>\n",
       "    </tr>\n",
       "  </tbody>\n",
       "</table>\n",
       "<p>5 rows × 108 columns</p>\n",
       "</div>"
      ],
      "text/plain": [
       "   index   book_id                                        description  \\\n",
       "0  82472    542266  The Second Book In The Award-Winning Whalesong...   \n",
       "1  19740  31213715  Are your toes getting sleepy? So very, very sl...   \n",
       "2  48123  13093858  Pa morgonen nar mamma vacker honom, sager den ...   \n",
       "3  81673  28592980  Meet Mr. Fox, who loves books so much that eve...   \n",
       "4  17201  13252019  During the days of the Great War, Captain Amer...   \n",
       "\n",
       "   average_rating  ratings_count  text_reviews_count  \\\n",
       "0        0.475815      -0.045564           -0.090230   \n",
       "1       -0.386863      -0.049182           -0.106269   \n",
       "2        0.225360      -0.039964           -0.074191   \n",
       "3       -1.416511      -0.049182           -0.078201   \n",
       "4        0.225360      -0.047976           -0.102259   \n",
       "\n",
       "                                 top_popular_shelves              author_ids  \\\n",
       "0  [{'count': '4', 'name': 'childrens'}, {'count'...                ['3004']   \n",
       "1  [{'count': '3', 'name': 'board-books'}, {'coun...  ['5254942', '2851649']   \n",
       "2  [{'count': '7', 'name': 'picture-book'}, {'cou...    ['232839', '424553']   \n",
       "3  [{'count': '6', 'name': 'picture-books'}, {'co...              ['580168']   \n",
       "4  [{'count': '2', 'name': 'childrens'}, {'count'...    ['4908941', '10294']   \n",
       "\n",
       "                                         title_tfidf  \\\n",
       "0    (0, 30165)\\t0.4951721287250606\\n  (0, 6653)\\...   \n",
       "1    (0, 19777)\\t0.5918897536992717\\n  (0, 25046)...   \n",
       "2    (0, 3892)\\t0.7251025224756457\\n  (0, 21256)\\...   \n",
       "3    (0, 1704)\\t0.6614687081774673\\n  (0, 9783)\\t...   \n",
       "4    (0, 1854)\\t0.5168052118717642\\n  (0, 13698)\\...   \n",
       "\n",
       "                                description_word2vec  ...  lang_tr  lang_tur  \\\n",
       "0  [ 1.239543    0.373717    0.07649366  0.108885...  ...    False     False   \n",
       "1  [ 1.9632746   0.52620447  0.25226402  0.069296...  ...    False     False   \n",
       "2  [ 4.3354958e-02  6.8408020e-02  7.7701017e-02 ...  ...    False     False   \n",
       "3  [ 2.24585915e+00  6.87894940e-01  3.01568300e-...  ...    False     False   \n",
       "4  [ 1.8278023   0.4543071   0.45529813  0.046496...  ...    False     False   \n",
       "\n",
       "   lang_ukr  lang_vi  lang_vie  lang_yid  lang_zh  length_long  length_medium  \\\n",
       "0     False    False     False     False    False        False           True   \n",
       "1     False    False     False     False    False        False          False   \n",
       "2     False    False     False     False    False        False          False   \n",
       "3     False    False     False     False    False        False          False   \n",
       "4     False    False     False     False    False        False          False   \n",
       "\n",
       "   length_short  \n",
       "0         False  \n",
       "1          True  \n",
       "2          True  \n",
       "3          True  \n",
       "4          True  \n",
       "\n",
       "[5 rows x 108 columns]"
      ]
     },
     "execution_count": 9,
     "metadata": {},
     "output_type": "execute_result"
    }
   ],
   "source": [
    "df_books_final_with_desc_sampled.head(5)"
   ]
  },
  {
   "cell_type": "code",
   "execution_count": 28,
   "metadata": {},
   "outputs": [],
   "source": [
    "def recommend_books(books_df, target_book_id, similarity_matrix, top_n=5):\n",
    "    # check if the target_book_id exists in the books_df\n",
    "    if target_book_id not in books_df['book_id'].values:\n",
    "        # print(f\"Book ID {target_book_id} not found in books_df\")\n",
    "        return []  # Return an empty list if the book_id isn't found\n",
    "    \n",
    "    # find index of referenced book\n",
    "    target_index = books_df.index[books_df['book_id'] == target_book_id].tolist()[0]\n",
    "\n",
    "    # get similarity scores for the target book\n",
    "    similarity_scores = list(enumerate(similarity_matrix[target_index].toarray().flatten()))\n",
    "    similarity_scores = sorted(similarity_scores, key=lambda x: x[1], reverse=True)\n",
    "\n",
    "    # get the indices of the top_n most similar books, excluding the target book itself\n",
    "    similar_indices = [i for i, score in similarity_scores[1:top_n+1]]\n",
    "    \n",
    "    # get details of the recommended books\n",
    "    recommended_books = books_df.iloc[similar_indices]\n",
    "    \n",
    "    return recommended_books['book_id'].tolist()"
   ]
  },
  {
   "cell_type": "code",
   "execution_count": 29,
   "metadata": {},
   "outputs": [
    {
     "name": "stdout",
     "output_type": "stream",
     "text": [
      "[281889, 3436918, 30403004, 14992931, 14992929]\n"
     ]
    }
   ],
   "source": [
    "# example test case\n",
    "recommendations = recommend_books(df_books_final_with_desc_sampled, target_book_id=542266, similarity_matrix=tfidf_cos_sim, top_n=5)\n",
    "print(recommendations)"
   ]
  },
  {
   "cell_type": "markdown",
   "metadata": {},
   "source": [
    "# recommendation on training set"
   ]
  },
  {
   "cell_type": "code",
   "execution_count": 32,
   "metadata": {},
   "outputs": [
    {
     "data": {
      "text/html": [
       "<div>\n",
       "<style scoped>\n",
       "    .dataframe tbody tr th:only-of-type {\n",
       "        vertical-align: middle;\n",
       "    }\n",
       "\n",
       "    .dataframe tbody tr th {\n",
       "        vertical-align: top;\n",
       "    }\n",
       "\n",
       "    .dataframe thead th {\n",
       "        text-align: right;\n",
       "    }\n",
       "</style>\n",
       "<table border=\"1\" class=\"dataframe\">\n",
       "  <thead>\n",
       "    <tr style=\"text-align: right;\">\n",
       "      <th></th>\n",
       "      <th>user_id</th>\n",
       "      <th>book_id</th>\n",
       "      <th>rating</th>\n",
       "      <th>n_votes</th>\n",
       "      <th>review_age</th>\n",
       "      <th>sentiment</th>\n",
       "    </tr>\n",
       "  </thead>\n",
       "  <tbody>\n",
       "    <tr>\n",
       "      <th>0</th>\n",
       "      <td>1</td>\n",
       "      <td>39343</td>\n",
       "      <td>2</td>\n",
       "      <td>0.0</td>\n",
       "      <td>3434</td>\n",
       "      <td>0.851100</td>\n",
       "    </tr>\n",
       "    <tr>\n",
       "      <th>1</th>\n",
       "      <td>1</td>\n",
       "      <td>21648</td>\n",
       "      <td>0</td>\n",
       "      <td>NaN</td>\n",
       "      <td>3435</td>\n",
       "      <td>0.406046</td>\n",
       "    </tr>\n",
       "    <tr>\n",
       "      <th>2</th>\n",
       "      <td>2</td>\n",
       "      <td>7794</td>\n",
       "      <td>4</td>\n",
       "      <td>0.0</td>\n",
       "      <td>3046</td>\n",
       "      <td>-0.421500</td>\n",
       "    </tr>\n",
       "    <tr>\n",
       "      <th>3</th>\n",
       "      <td>3</td>\n",
       "      <td>8637</td>\n",
       "      <td>3</td>\n",
       "      <td>NaN</td>\n",
       "      <td>3343</td>\n",
       "      <td>0.406860</td>\n",
       "    </tr>\n",
       "    <tr>\n",
       "      <th>4</th>\n",
       "      <td>3</td>\n",
       "      <td>50719</td>\n",
       "      <td>4</td>\n",
       "      <td>NaN</td>\n",
       "      <td>3367</td>\n",
       "      <td>0.527973</td>\n",
       "    </tr>\n",
       "  </tbody>\n",
       "</table>\n",
       "</div>"
      ],
      "text/plain": [
       "   user_id  book_id  rating  n_votes  review_age  sentiment\n",
       "0        1    39343       2      0.0        3434   0.851100\n",
       "1        1    21648       0      NaN        3435   0.406046\n",
       "2        2     7794       4      0.0        3046  -0.421500\n",
       "3        3     8637       3      NaN        3343   0.406860\n",
       "4        3    50719       4      NaN        3367   0.527973"
      ]
     },
     "execution_count": 32,
     "metadata": {},
     "output_type": "execute_result"
    }
   ],
   "source": [
    "train_interactions = pd.read_csv('train_interactions.csv')\n",
    "# test_interactions = pd.read_csv('test_interactions.csv')\n",
    "# val_interactions = pd.read_csv('val_interactions.csv')"
   ]
  },
  {
   "cell_type": "code",
   "execution_count": 56,
   "metadata": {},
   "outputs": [
    {
     "name": "stdout",
     "output_type": "stream",
     "text": [
      "Do any book_ids from train_interactions exist in df_books_final_with_desc_sampled? True\n"
     ]
    }
   ],
   "source": [
    "# Check if any book_id in train_interactions exists in df_books_final_with_desc_sampled\n",
    "exists_in_df = train_interactions['book_id'].isin(df_books_final_with_desc_sampled['book_id']).any()\n",
    "print(f\"Do any book_ids from train_interactions exist in df_books_final_with_desc_sampled? {exists_in_df}\")"
   ]
  },
  {
   "cell_type": "code",
   "execution_count": 61,
   "metadata": {},
   "outputs": [],
   "source": [
    "# # checks\n",
    "\n",
    "# # Get the list of common book_ids between train_interactions and df_books_final_with_desc_sampled\n",
    "# common_book_ids = train_interactions[train_interactions['book_id'].isin(df_books_final_with_desc_sampled['book_id'])]['book_id'].unique()\n",
    "# # print(\"Common book_ids:\", common_book_ids)\n",
    "\n",
    "# # Check if book_id 39343 exists in df_books_final_with_desc_sampled\n",
    "# book_id_to_check = 3839\n",
    "# exists_in_df = book_id_to_check in df_books_final_with_desc_sampled['book_id'].values\n",
    "# print(f\"Does book_id {book_id_to_check} exist in df_books_final_with_desc_sampled? {exists_in_df}\")"
   ]
  },
  {
   "cell_type": "code",
   "execution_count": 59,
   "metadata": {},
   "outputs": [],
   "source": [
    "# filter for those train_users who have read books inside df_books_final_with_desc_sampled\n",
    "filtered_train_interactions = train_interactions[train_interactions['book_id'].isin(df_books_final_with_desc_sampled['book_id'])]"
   ]
  },
  {
   "cell_type": "code",
   "execution_count": 67,
   "metadata": {},
   "outputs": [
    {
     "name": "stdout",
     "output_type": "stream",
     "text": [
      "     user_id  book_id  rating  n_votes  review_age  sentiment  \\\n",
      "107       20     3839       5      NaN        6002   0.574139   \n",
      "423       45    38644       5      NaN        2997   0.574139   \n",
      "488       45    33627       4      NaN        3295   0.527973   \n",
      "\n",
      "    user_recommendations  \n",
      "107               [9440]  \n",
      "423           [12137531]  \n",
      "488           [12137531]  \n"
     ]
    },
    {
     "name": "stderr",
     "output_type": "stream",
     "text": [
      "/var/folders/lv/4p2_jtmx6rzdf0lvp89413tc0000gn/T/ipykernel_25036/339418261.py:31: SettingWithCopyWarning: \n",
      "A value is trying to be set on a copy of a slice from a DataFrame.\n",
      "Try using .loc[row_indexer,col_indexer] = value instead\n",
      "\n",
      "See the caveats in the documentation: https://pandas.pydata.org/pandas-docs/stable/user_guide/indexing.html#returning-a-view-versus-a-copy\n",
      "  filtered_train_interactions['user_recommendations'] = filtered_train_interactions['user_id'].map(user_recommendations)\n"
     ]
    }
   ],
   "source": [
    "# aggregate recommendations per user\n",
    "from collections import Counter\n",
    "\n",
    "# Aggregate recommendations for each user\n",
    "def get_aggregated_recommendations(user_books, books_df, similarity_matrix, top_n=1):\n",
    "    recommended_books = []\n",
    "    \n",
    "    # Collect recommendations for each book a user has read\n",
    "    for book_id in user_books:\n",
    "        book_recommendations = recommend_books(books_df, book_id, similarity_matrix, top_n)\n",
    "        recommended_books.extend(book_recommendations)\n",
    "    \n",
    "    # Count recommendations to rank by frequency\n",
    "    recommendation_counts = Counter(recommended_books)\n",
    "    \n",
    "    # Filter out books already read and get the most frequently recommended\n",
    "    recommended_books = [\n",
    "        book_id for book_id, _ in recommendation_counts.most_common() \n",
    "        if book_id not in user_books\n",
    "    ]\n",
    "    \n",
    "    return recommended_books[:top_n]\n",
    "\n",
    "# Group by user_id to get all books a user has read\n",
    "user_recommendations = {}\n",
    "for user_id, user_df in filtered_train_interactions.groupby('user_id'):\n",
    "    user_books = user_df['book_id'].tolist()\n",
    "    user_recommendations[user_id] = get_aggregated_recommendations(user_books, df_books_final_with_desc_sampled, tfidf_cos_sim, top_n=1)\n",
    "\n",
    "# add user recommendations to train_interactions DataFrame by mapping\n",
    "filtered_train_interactions['user_recommendations'] = filtered_train_interactions['user_id'].map(user_recommendations)\n",
    "print(filtered_train_interactions.head(3))"
   ]
  },
  {
   "cell_type": "markdown",
   "metadata": {},
   "source": [
    "test"
   ]
  },
  {
   "cell_type": "code",
   "execution_count": 62,
   "metadata": {},
   "outputs": [
    {
     "data": {
      "text/html": [
       "<div>\n",
       "<style scoped>\n",
       "    .dataframe tbody tr th:only-of-type {\n",
       "        vertical-align: middle;\n",
       "    }\n",
       "\n",
       "    .dataframe tbody tr th {\n",
       "        vertical-align: top;\n",
       "    }\n",
       "\n",
       "    .dataframe thead th {\n",
       "        text-align: right;\n",
       "    }\n",
       "</style>\n",
       "<table border=\"1\" class=\"dataframe\">\n",
       "  <thead>\n",
       "    <tr style=\"text-align: right;\">\n",
       "      <th></th>\n",
       "      <th>user_id</th>\n",
       "      <th>book_id</th>\n",
       "      <th>rating</th>\n",
       "      <th>n_votes</th>\n",
       "      <th>review_age</th>\n",
       "      <th>sentiment</th>\n",
       "    </tr>\n",
       "  </thead>\n",
       "  <tbody>\n",
       "    <tr>\n",
       "      <th>0</th>\n",
       "      <td>1</td>\n",
       "      <td>8882</td>\n",
       "      <td>0</td>\n",
       "      <td>NaN</td>\n",
       "      <td>3497</td>\n",
       "      <td>0.406046</td>\n",
       "    </tr>\n",
       "    <tr>\n",
       "      <th>1</th>\n",
       "      <td>2</td>\n",
       "      <td>9402</td>\n",
       "      <td>5</td>\n",
       "      <td>0.0</td>\n",
       "      <td>3047</td>\n",
       "      <td>-0.598200</td>\n",
       "    </tr>\n",
       "    <tr>\n",
       "      <th>2</th>\n",
       "      <td>3</td>\n",
       "      <td>945</td>\n",
       "      <td>5</td>\n",
       "      <td>NaN</td>\n",
       "      <td>3705</td>\n",
       "      <td>0.574139</td>\n",
       "    </tr>\n",
       "  </tbody>\n",
       "</table>\n",
       "</div>"
      ],
      "text/plain": [
       "   user_id  book_id  rating  n_votes  review_age  sentiment\n",
       "0        1     8882       0      NaN        3497   0.406046\n",
       "1        2     9402       5      0.0        3047  -0.598200\n",
       "2        3      945       5      NaN        3705   0.574139"
      ]
     },
     "execution_count": 62,
     "metadata": {},
     "output_type": "execute_result"
    }
   ],
   "source": [
    "test_interactions = pd.read_csv('test_interactions.csv')\n",
    "test_interactions.head(3)"
   ]
  },
  {
   "cell_type": "code",
   "execution_count": 71,
   "metadata": {},
   "outputs": [],
   "source": [
    "# filter for those train_users who have read books inside df_books_final_with_desc_sampled\n",
    "filtered_test_interactions = test_interactions[test_interactions['book_id'].isin(df_books_final_with_desc_sampled['book_id'])]"
   ]
  },
  {
   "cell_type": "code",
   "execution_count": 73,
   "metadata": {},
   "outputs": [],
   "source": [
    "# Get unique user IDs from filtered_train_interactions\n",
    "train_user_ids = filtered_train_interactions['user_id'].unique()\n",
    "filtered_test_interactions = filtered_test_interactions[filtered_test_interactions['user_id'].isin(train_user_ids)]"
   ]
  },
  {
   "cell_type": "code",
   "execution_count": 75,
   "metadata": {},
   "outputs": [
    {
     "data": {
      "text/html": [
       "<div>\n",
       "<style scoped>\n",
       "    .dataframe tbody tr th:only-of-type {\n",
       "        vertical-align: middle;\n",
       "    }\n",
       "\n",
       "    .dataframe tbody tr th {\n",
       "        vertical-align: top;\n",
       "    }\n",
       "\n",
       "    .dataframe thead th {\n",
       "        text-align: right;\n",
       "    }\n",
       "</style>\n",
       "<table border=\"1\" class=\"dataframe\">\n",
       "  <thead>\n",
       "    <tr style=\"text-align: right;\">\n",
       "      <th></th>\n",
       "      <th>user_id</th>\n",
       "      <th>book_id</th>\n",
       "      <th>rating</th>\n",
       "      <th>n_votes</th>\n",
       "      <th>review_age</th>\n",
       "      <th>sentiment</th>\n",
       "    </tr>\n",
       "  </thead>\n",
       "  <tbody>\n",
       "    <tr>\n",
       "      <th>257</th>\n",
       "      <td>56</td>\n",
       "      <td>3839</td>\n",
       "      <td>0</td>\n",
       "      <td>NaN</td>\n",
       "      <td>5300</td>\n",
       "      <td>0.406046</td>\n",
       "    </tr>\n",
       "    <tr>\n",
       "      <th>580</th>\n",
       "      <td>118</td>\n",
       "      <td>5209</td>\n",
       "      <td>5</td>\n",
       "      <td>NaN</td>\n",
       "      <td>4606</td>\n",
       "      <td>0.574139</td>\n",
       "    </tr>\n",
       "    <tr>\n",
       "      <th>776</th>\n",
       "      <td>148</td>\n",
       "      <td>42714</td>\n",
       "      <td>5</td>\n",
       "      <td>NaN</td>\n",
       "      <td>2782</td>\n",
       "      <td>0.574139</td>\n",
       "    </tr>\n",
       "  </tbody>\n",
       "</table>\n",
       "</div>"
      ],
      "text/plain": [
       "     user_id  book_id  rating  n_votes  review_age  sentiment\n",
       "257       56     3839       0      NaN        5300   0.406046\n",
       "580      118     5209       5      NaN        4606   0.574139\n",
       "776      148    42714       5      NaN        2782   0.574139"
      ]
     },
     "execution_count": 75,
     "metadata": {},
     "output_type": "execute_result"
    }
   ],
   "source": [
    "filtered_test_interactions.head(3)"
   ]
  },
  {
   "cell_type": "code",
   "execution_count": 89,
   "metadata": {},
   "outputs": [],
   "source": [
    "# similarity_threshold = 0.5\n",
    "\n",
    "# evaluation_results = []\n",
    "\n",
    "# # For each user, compare the similarity between recommended and actual book\n",
    "# for user_id, user_df in filtered_train_interactions.groupby('user_id'):\n",
    "#     # Get the recommended book_id for the user (assuming only 1 recommendation)\n",
    "#     recommended_book_id = user_df['user_recommendations'].iloc[0][0]  # since it's a list\n",
    "    \n",
    "#     # Get the actual book_id that the user read in the test set\n",
    "#     actual_book_id = filtered_test_interactions[filtered_test_interactions['user_id'] == user_id]['book_id'].iloc[0]\n",
    "    \n",
    "#     # Get the indices of the books in the similarity matrix\n",
    "#     recommended_index = df_books_final_with_desc_sampled[df_books_final_with_desc_sampled['book_id'] == recommended_book_id].index[0]\n",
    "#     actual_index = df_books_final_with_desc_sampled[df_books_final_with_desc_sampled['book_id'] == actual_book_id].index[0]\n",
    "    \n",
    "#     # Get the similarity score between the recommended and actual book\n",
    "#     similarity_score = tfidf_cos_sim[recommended_index, actual_index]\n",
    "    \n",
    "#     # Check if the similarity score is above the threshold\n",
    "#     if similarity_score >= similarity_threshold:\n",
    "#         evaluation_results.append((user_id, recommended_book_id, actual_book_id, similarity_score, True))\n",
    "#     else:\n",
    "#         evaluation_results.append((user_id, recommended_book_id, actual_book_id, similarity_score, False))\n",
    "\n",
    "# # Convert the results to a DataFrame for easier analysis\n",
    "# evaluation_df = pd.DataFrame(evaluation_results, columns=['user_id', 'recommended_book_id', 'actual_book_id', 'similarity_score', 'correct'])\n",
    "\n",
    "# # Calculate the accuracy (proportion of correct recommendations)\n",
    "# accuracy = evaluation_df['correct'].mean()\n",
    "# print(f\"Recommendation accuracy: {accuracy:.2f}\")"
   ]
  },
  {
   "cell_type": "code",
   "execution_count": 84,
   "metadata": {},
   "outputs": [
    {
     "name": "stdout",
     "output_type": "stream",
     "text": [
      "Recommendation Success Rate: 0.57%\n",
      "   user_id  actual_book_id  recommended_book_id  similarity  success\n",
      "0     56.0          3839.0              2162078    0.006569        0\n",
      "1    118.0          5209.0               632539    0.005373        0\n",
      "2    148.0         42714.0              7632080    0.008114        0\n",
      "3    223.0         24184.0               525298    0.040627        0\n",
      "4    240.0         46308.0                48562    0.000000        0\n"
     ]
    }
   ],
   "source": [
    "# Define a function to calculate similarity score between two book_ids\n",
    "def calculate_similarity(book_id_1, book_id_2, books_df, similarity_matrix):\n",
    "    try:\n",
    "        index_1 = books_df.index[books_df['book_id'] == book_id_1].tolist()[0]\n",
    "        index_2 = books_df.index[books_df['book_id'] == book_id_2].tolist()[0]\n",
    "        similarity_score = similarity_matrix[index_1, index_2]\n",
    "        return similarity_score\n",
    "    except IndexError:\n",
    "        return None  # none if the book_id doesnt exist in the similarity matrix\n",
    "\n",
    "similarity_threshold = 0.15 #threshold for evaluation\n",
    "results = []\n",
    "\n",
    "for _, row in filtered_test_interactions.iterrows():\n",
    "    user_id = row['user_id']\n",
    "    actual_book_id = row['book_id']\n",
    "\n",
    "    # Get the recommended book_id from your user_recommendations dictionary (assuming 1 recommendation per user)\n",
    "    recommended_books = user_recommendations.get(user_id, [])\n",
    "    \n",
    "    # check if recommendations exist for the user\n",
    "    if recommended_books:\n",
    "        recommended_book_id = recommended_books[0]  # take the first recommendation\n",
    "        \n",
    "        # similarity between actual and recommended book\n",
    "        similarity = calculate_similarity(actual_book_id, recommended_book_id, df_books_final_with_desc_sampled, tfidf_cos_sim)\n",
    "        \n",
    "        # store the results \n",
    "        if similarity is not None:\n",
    "            success = 1 if similarity >= similarity_threshold else 0\n",
    "            results.append({\n",
    "                'user_id': user_id,\n",
    "                'actual_book_id': actual_book_id,\n",
    "                'recommended_book_id': recommended_book_id,\n",
    "                'similarity': similarity,\n",
    "                'success': success\n",
    "            })\n",
    "        else:\n",
    "            results.append({\n",
    "                'user_id': user_id,\n",
    "                'actual_book_id': actual_book_id,\n",
    "                'recommended_book_id': recommended_book_id,\n",
    "                'similarity': None,\n",
    "                'success': 0\n",
    "            })\n",
    "\n",
    "evaluation_df = pd.DataFrame(results)\n",
    "success_rate = evaluation_df['success'].mean()\n",
    "print(f\"Recommendation Success Rate: {success_rate * 100:.2f}%\")\n",
    "print(evaluation_df.head())\n"
   ]
  },
  {
   "cell_type": "code",
   "execution_count": 83,
   "metadata": {},
   "outputs": [
    {
     "name": "stdout",
     "output_type": "stream",
     "text": [
      "     user_id  actual_book_id  recommended_book_id  similarity  success\n",
      "120   3530.0          5986.0              3975711    0.292900        0\n",
      "364  11190.0          3004.0              2995910    0.249330        0\n",
      "149   4317.0         44210.0                48953    0.176757        0\n",
      "159   4780.0          3003.0             18669257    0.126377        0\n",
      "383  11446.0         44210.0             10697948    0.112153        0\n"
     ]
    }
   ],
   "source": [
    "evaluation_df_sorted = evaluation_df.sort_values(by='similarity', ascending=False)\n",
    "print(evaluation_df_sorted.head())"
   ]
  },
  {
   "cell_type": "code",
   "execution_count": 88,
   "metadata": {},
   "outputs": [
    {
     "data": {
      "text/plain": [
       "(525, 5)"
      ]
     },
     "execution_count": 88,
     "metadata": {},
     "output_type": "execute_result"
    }
   ],
   "source": [
    "evaluation_df_sorted.shape"
   ]
  },
  {
   "cell_type": "markdown",
   "metadata": {},
   "source": [
    "### Ignore\n",
    "0 recommendations read"
   ]
  },
  {
   "cell_type": "code",
   "execution_count": 64,
   "metadata": {},
   "outputs": [],
   "source": [
    "# Create a dictionary to store books read by each user in the test set\n",
    "test_books_read = test_interactions.groupby('user_id')['book_id'].apply(set).to_dict()\n",
    "# Initialize a dictionary to store the count of recommendations read for each user\n",
    "recommendations_match_count = {}\n",
    "test_books_read\n",
    "\n",
    "# Loop through each user in filtered_train_interactions\n",
    "for idx, row in filtered_train_interactions.iterrows():\n",
    "    user_id = row['user_id']\n",
    "    recommended_books = row['user_recommendations']\n",
    "\n",
    "    # Check if the user exists in the test set\n",
    "    if user_id in test_books_read:\n",
    "        # Get the set of books read by the user in the test set\n",
    "        read_books = test_books_read[user_id]\n",
    "        \n",
    "        # Count the number of recommended books that were actually read by the user\n",
    "        match_count = len(set(recommended_books) & read_books)\n",
    "        \n",
    "        # Store the result in the dictionary\n",
    "        recommendations_match_count[user_id] = match_count\n",
    "\n",
    "# Display the number of matches for each user\n",
    "for user, count in recommendations_match_count.items():\n",
    "    print(f\"User {user} has {count} recommendation(s) that they actually read in the test set.\")"
   ]
  },
  {
   "cell_type": "markdown",
   "metadata": {},
   "source": [
    "### IGNORE THE CODES BELOW"
   ]
  },
  {
   "cell_type": "code",
   "execution_count": null,
   "metadata": {},
   "outputs": [],
   "source": [
    "# prof code\n",
    "\n",
    "def cos_sim(vector_a, vector_b):\n",
    "    # Calculate the dot product of the two vectors\n",
    "    dot_product = np.dot(vector_a, vector_b)\n",
    "\n",
    "    # Calculate the Euclidean norm (magnitude) of each vector\n",
    "    norm_a = np.linalg.norm(vector_a)\n",
    "    norm_b = np.linalg.norm(vector_b)\n",
    "\n",
    "    # Calculate cosine similarity using the dot product and vector norms\n",
    "    similarity = dot_product / (norm_a * norm_b)\n",
    "    return similarity\n",
    "\n",
    "\n",
    "def pairwise_cos_sim(vectors):\n",
    "    num_vectors = vectors.shape[0]\n",
    "    similarity_matrix = np.zeros((num_vectors, num_vectors))\n",
    "\n",
    "    for i in range(num_vectors):\n",
    "        for j in range(num_vectors):\n",
    "            # Calculate cosine similarity for each pair of vectors\n",
    "            similarity_matrix[i, j] = cos_sim(vectors[i], vectors[j])\n",
    "\n",
    "    return similarity_matrix\n",
    "\n",
    "tfidf_cos_sim = pairwise_cos_sim(tfidf_scores.toarray())\n",
    "print(tfidf_cos_sim.shape)\n",
    "\n",
    "# Apply this function to train_interactions\n",
    "user_recommendations = {}\n",
    "\n",
    "for user_id, user_df in train_terence.groupby('user_id'):\n",
    "    user_books = user_df['book_id'].tolist()\n",
    "    aggregated_recommendations = []\n",
    "    \n",
    "    for book_id in user_books:\n",
    "        book_recommendations = recommend_books(\n",
    "            df_books_final_with_desc_sampled, \n",
    "            book_id, \n",
    "            tfidf_cos_sim, \n",
    "            top_n=3\n",
    "        )\n",
    "        aggregated_recommendations.extend(book_recommendations)\n",
    "    \n",
    "    # Store recommendations in a dictionary for each user\n",
    "    user_recommendations[user_id] = aggregated_recommendations\n",
    "\n",
    "# Map recommendations to the original dataframe\n",
    "train_terence['user_recommendations'] = train_terence['user_id'].map(user_recommendations)"
   ]
  },
  {
   "cell_type": "code",
   "execution_count": null,
   "metadata": {},
   "outputs": [],
   "source": [
    "# Function to convert string to NumPy array\n",
    "def convert_to_vector(vector_str):\n",
    "    # Remove square brackets and convert string to NumPy array\n",
    "    vector_str = vector_str.strip('[]')\n",
    "    vector_list = np.fromstring(vector_str, sep=' ')\n",
    "    return vector_list\n",
    "\n",
    "# apply the function to the entire column and create a new column with the vectors\n",
    "df_books_final['description_word2vec'] = df_books_final['description_word2vec'].apply(convert_to_vector)\n",
    "# print(df_books_final[['description_word2vec']])\n",
    "\n",
    "# merge description_word2vec col to training df\n",
    "merged_train_with_desc = train_interactions.merge(\n",
    "    df_books_final[['book_id', 'description_word2vec']],\n",
    "    on='book_id',\n",
    "    how='left'\n",
    ")\n",
    "\n",
    "merged_train_with_desc.head(3) # also have NA values in description\n",
    "merged_train_with_desc['description_word2vec'] = merged_train_with_desc['description_word2vec'].fillna('')\n",
    "\n",
    "merged_train_with_desc.head(3)\n",
    "\n",
    "def cos_sim(vector_a, vector_b):\n",
    "    # Calculate the dot product of the two vectors\n",
    "    dot_product = np.dot(vector_a, vector_b)\n",
    "\n",
    "    # Calculate the Euclidean norm (magnitude) of each vector\n",
    "    norm_a = np.linalg.norm(vector_a)\n",
    "    norm_b = np.linalg.norm(vector_b)\n",
    "\n",
    "    # Calculate cosine similarity using the dot product and vector norms\n",
    "    similarity = dot_product / (norm_a * norm_b)\n",
    "    return similarity\n",
    "\n",
    "def pairwise_cos_sim(vectors):\n",
    "    num_vectors = vectors.shape[0]\n",
    "    similarity_matrix = np.zeros((num_vectors, num_vectors))\n",
    "\n",
    "    for i in range(num_vectors):\n",
    "        for j in range(num_vectors):\n",
    "            # Calculate cosine similarity for each pair of vectors\n",
    "            similarity_matrix[i, j] = cos_sim(vectors[i], vectors[j])\n",
    "\n",
    "    return similarity_matrix\n",
    "\n",
    "\n",
    "# Create a TfidfVectorizer object with English stop words (0.1 marks)\n",
    "tfidf = TfidfVectorizer(stop_words='english')\n",
    "\n",
    "# Fit and transform the 'Description' column of the DataFrame to convert the raw\n",
    "# text in 'Description' to TF-IDF features (0.1 marks)\n",
    "tfidf_scores =  tfidf.fit_transform(merged_train_with_desc['description_word2vec'])\n",
    "\n",
    "# Check the shape of the resulting TF-IDF matrix (0.2 marks)\n",
    "# Row 285: number of documents\n",
    "# Column 2363: number of features (terms in the vocabulary)\n",
    "tfidf_scores.shape"
   ]
  },
  {
   "cell_type": "code",
   "execution_count": null,
   "metadata": {},
   "outputs": [],
   "source": [
    "import numpy as np\n",
    "from sklearn.metrics.pairwise import cosine_similarity\n",
    "\n",
    "# Assuming vector_list1 and vector_list2 are already obtained from the code you provided\n",
    "# Check if the vectors have the same length\n",
    "if len(vector_list1) == len(vector_list2):\n",
    "    # Reshape vectors to be 2D arrays for cosine_similarity\n",
    "    vector_list1 = vector_list1.reshape(1, -1)\n",
    "    vector_list2 = vector_list2.reshape(1, -1)\n",
    "\n",
    "    # Compute cosine similarity using sklearn\n",
    "    similarity = cosine_similarity(vector_list1, vector_list2)\n",
    "\n",
    "    # Print the cosine similarity result\n",
    "    print(f\"Cosine similarity between the two descriptions: {similarity[0][0]}\")\n",
    "else:\n",
    "    print(\"Vectors have different lengths, cosine similarity cannot be computed.\")\n"
   ]
  },
  {
   "cell_type": "code",
   "execution_count": null,
   "metadata": {},
   "outputs": [],
   "source": [
    "# # fill the empty rows of 'description' column with empty string so tf-idf can be applied\n",
    "# sampled_merged['description'] = sampled_merged['description'].fillna('')\n",
    "\n",
    "# # Remove duplicate rows based on the 'book_id' column\n",
    "# sampled_merged = sampled_merged.drop_duplicates(subset='book_id').reset_index(drop=True)"
   ]
  },
  {
   "cell_type": "code",
   "execution_count": null,
   "metadata": {},
   "outputs": [],
   "source": [
    "top_x_books = sampled_merged.nlargest(10000, 'sentiment') #limit to 10k rows top"
   ]
  },
  {
   "cell_type": "code",
   "execution_count": null,
   "metadata": {},
   "outputs": [],
   "source": [
    "# tfidf = TfidfVectorizer(stop_words='english')\n",
    "# tfidf_scores =  tfidf.fit_transform(top_x_books['description'])\n",
    "# tfidf_scores.shape"
   ]
  },
  {
   "cell_type": "code",
   "execution_count": null,
   "metadata": {},
   "outputs": [],
   "source": [
    "# cosine similarity on the reduced dataset\n",
    "tfidf_cos_sim = cosine_similarity(tfidf_scores, dense_output=False)\n",
    "print(tfidf_cos_sim.shape) "
   ]
  },
  {
   "cell_type": "code",
   "execution_count": null,
   "metadata": {},
   "outputs": [],
   "source": [
    "top_x_books.head()"
   ]
  },
  {
   "cell_type": "code",
   "execution_count": null,
   "metadata": {},
   "outputs": [],
   "source": [
    "# # getting top n similar books for a given book\n",
    "# def get_top_n_similar_books(book_index, similarity_matrix, n=3):\n",
    "#     # Extract row of similarities for the book of interest\n",
    "#     sim_scores = similarity_matrix[book_index].toarray().flatten()\n",
    "    \n",
    "#     # Get indices of top N scores, excluding the book itself\n",
    "#     top_indices = sim_scores.argsort()[-n-1:-1][::-1]\n",
    "    \n",
    "#     # Return a list of (book index, similarity score)\n",
    "#     return [(idx, sim_scores[idx]) for idx in top_indices]\n",
    "\n",
    "# # Example usage: Find top 5 similar books for the book at index 0\n",
    "# similar_books = get_top_n_similar_books(0, tfidf_cos_sim, n=3)\n",
    "# print(similar_books)"
   ]
  },
  {
   "cell_type": "code",
   "execution_count": null,
   "metadata": {},
   "outputs": [],
   "source": [
    "# Function to get the top N similar books using the book title\n",
    "def get_top_n_similar_books_by_title(book_title, similarity_matrix, df, n=3):\n",
    "    # Find the index of the book title in the dataframe\n",
    "    book_index = df.index[df['title'] == book_title].tolist()\n",
    "    \n",
    "    # If the book title is not found, return an empty list\n",
    "    if not book_index:\n",
    "        print(f\"Book title '{book_title}' not found in the dataset.\")\n",
    "        return []\n",
    "    \n",
    "    book_index = book_index[0]\n",
    "    \n",
    "    # Extract row of similarities for the book of interest\n",
    "    sim_scores = similarity_matrix[book_index].toarray().flatten()\n",
    "    \n",
    "    # Get indices of top N scores, excluding the book itself\n",
    "    top_indices = sim_scores.argsort()[-n-1:-1][::-1]\n",
    "    \n",
    "    # Retrieve book_id, title, and similarity score for each top similar book\n",
    "    top_books = [(df.iloc[idx]['book_id'], df.iloc[idx]['title'], sim_scores[idx]) for idx in top_indices]\n",
    "    \n",
    "    return top_books\n",
    "\n",
    "# Example usage: Find top 3 similar books for a given book title\n",
    "book_title = sampled_merged.iloc[0]['title']  # Replace with the actual title you're interested in\n",
    "similar_books = get_top_n_similar_books_by_title(book_title, tfidf_cos_sim, sampled_merged, n=3)\n",
    "\n",
    "# Print results with book_id, title, and similarity score\n",
    "for similar_book in similar_books:\n",
    "    print(f\"Book ID: {similar_book[0]}, Title: {similar_book[1]}, Similarity Score: {similar_book[2]:.4f}\")\n"
   ]
  },
  {
   "cell_type": "code",
   "execution_count": null,
   "metadata": {},
   "outputs": [],
   "source": [
    "# tfidf = TfidfVectorizer(stop_words='english')\n",
    "# tfidf_scores =  tfidf.fit_transform(sampled_merged['description'])\n",
    "# tfidf_scores.shape"
   ]
  },
  {
   "cell_type": "code",
   "execution_count": null,
   "metadata": {},
   "outputs": [],
   "source": [
    "# def cos_sim(vector_a, vector_b):\n",
    "#     # Calculate the dot product of the two vectors\n",
    "#     dot_product = np.dot(vector_a, vector_b)\n",
    "\n",
    "#     # Calculate the Euclidean norm (magnitude) of each vector\n",
    "#     norm_a = np.linalg.norm(vector_a)\n",
    "#     norm_b = np.linalg.norm(vector_b)\n",
    "\n",
    "#     # Calculate cosine similarity using the dot product and vector norms\n",
    "#     similarity = dot_product / (norm_a * norm_b)\n",
    "#     return similarity\n",
    "\n",
    "\n",
    "\n",
    "# def pairwise_cos_sim(vectors):\n",
    "#     num_vectors = vectors.shape[0]\n",
    "#     similarity_matrix = np.zeros((num_vectors, num_vectors))\n",
    "\n",
    "#     for i in range(num_vectors):\n",
    "#         for j in range(num_vectors):\n",
    "#             # Calculate cosine similarity for each pair of vectors\n",
    "#             similarity_matrix[i, j] = cos_sim(vectors[i], vectors[j])\n",
    "\n",
    "#     return similarity_matrix\n",
    "\n",
    "\n"
   ]
  },
  {
   "cell_type": "code",
   "execution_count": null,
   "metadata": {},
   "outputs": [],
   "source": [
    "# sampled_interactions_df : user_id, book_id, sentiment\n",
    "# sampled_interactions_df does not have book name and description\n",
    "# map sampled_interactions_df book id to df_children_books_final to get title, description\n",
    "# new sampled_interactions_df should have: user_id, book_id, sentiment\n",
    "\n",
    "# 1) create tfidfvectoriser\n",
    "# 2) fit_transform the vectoriser on sampled_interactions_df['title']\n",
    "# 3) define cos_sim() function to get cosine similarity value of 2 vectors\n",
    "# 4) define pairwise_cos_sim() that makes use of cos_sim()\n",
    "# 5) apply pairwise_cos_sim() function to tfidf_scores.to_array()\n",
    "# 6) define recommend_books() function that takes in sampling_interaction_df ,title (for recommendation reference), tfidf_cos_sim matrix, # number of similar recs)\n",
    "# 7) test with a random book title -> Dog Heaven"
   ]
  }
 ],
 "metadata": {
  "kernelspec": {
   "display_name": "Python 3",
   "language": "python",
   "name": "python3"
  },
  "language_info": {
   "codemirror_mode": {
    "name": "ipython",
    "version": 3
   },
   "file_extension": ".py",
   "mimetype": "text/x-python",
   "name": "python",
   "nbconvert_exporter": "python",
   "pygments_lexer": "ipython3",
   "version": "3.11.5"
  }
 },
 "nbformat": 4,
 "nbformat_minor": 2
}
