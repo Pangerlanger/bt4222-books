{
 "cells": [
  {
   "cell_type": "markdown",
   "metadata": {},
   "source": [
    "Load in Parameters & data"
   ]
  },
  {
   "cell_type": "code",
   "execution_count": 1,
   "metadata": {},
   "outputs": [],
   "source": [
    "import numpy as np\n",
    "import pandas as pd\n",
    "import tensorflow as tf\n",
    "from tensorflow.keras.models import Sequential\n",
    "from tensorflow.keras.layers import Embedding, LSTM, GRU, Dense\n",
    "from tensorflow.keras.preprocessing.sequence import pad_sequences\n",
    "from tensorflow.keras.optimizers import Adam"
   ]
  },
  {
   "cell_type": "code",
   "execution_count": 11,
   "metadata": {},
   "outputs": [
    {
     "name": "stderr",
     "output_type": "stream",
     "text": [
      "/var/folders/xy/8rz0nq295qgbl2mbhxxfq05m0000gn/T/ipykernel_3242/213121640.py:7: DtypeWarning: Columns (1) have mixed types. Specify dtype option on import or set low_memory=False.\n",
      "  df_children_books_final_encoded = pd.read_csv('df_children_books_final_encoded.csv')\n"
     ]
    }
   ],
   "source": [
    "# Parameters\n",
    "embedding_dim = 50    # Dimension for user/item embeddings\n",
    "hidden_units = 128    # Number of units in LSTM/GRU layer\n",
    "sequence_length = 10  # Length of interaction sequences\n",
    "learning_rate = 0.001\n",
    "\n",
    "df_children_books_final_encoded = pd.read_csv('df_children_books_final_encoded.csv')\n",
    "df_interactions_final_merged = pd.read_csv('df_interactions_final_merged.csv')[:100000]"
   ]
  },
  {
   "cell_type": "code",
   "execution_count": null,
   "metadata": {},
   "outputs": [],
   "source": [
    "df_children_books_final_encoded.head()"
   ]
  },
  {
   "cell_type": "code",
   "execution_count": 12,
   "metadata": {},
   "outputs": [
    {
     "data": {
      "text/html": [
       "<div>\n",
       "<style scoped>\n",
       "    .dataframe tbody tr th:only-of-type {\n",
       "        vertical-align: middle;\n",
       "    }\n",
       "\n",
       "    .dataframe tbody tr th {\n",
       "        vertical-align: top;\n",
       "    }\n",
       "\n",
       "    .dataframe thead th {\n",
       "        text-align: right;\n",
       "    }\n",
       "</style>\n",
       "<table border=\"1\" class=\"dataframe\">\n",
       "  <thead>\n",
       "    <tr style=\"text-align: right;\">\n",
       "      <th></th>\n",
       "      <th>user_id</th>\n",
       "      <th>book_id</th>\n",
       "      <th>review_id</th>\n",
       "      <th>rating</th>\n",
       "      <th>review_text_incomplete</th>\n",
       "      <th>date_added</th>\n",
       "      <th>n_votes</th>\n",
       "      <th>review_age</th>\n",
       "      <th>processed_review</th>\n",
       "      <th>sentiment</th>\n",
       "    </tr>\n",
       "  </thead>\n",
       "  <tbody>\n",
       "    <tr>\n",
       "      <th>0</th>\n",
       "      <td>8842281e1d1347389f2ab93d60773d4d</td>\n",
       "      <td>23310161</td>\n",
       "      <td>f4b4b050f4be00e9283c92a814af2670</td>\n",
       "      <td>4</td>\n",
       "      <td>Fun sequel to the original.</td>\n",
       "      <td>2015-11-17 19:37:35+00:00</td>\n",
       "      <td>7.0</td>\n",
       "      <td>3247</td>\n",
       "      <td>fun sequel original</td>\n",
       "      <td>0.680800</td>\n",
       "    </tr>\n",
       "    <tr>\n",
       "      <th>1</th>\n",
       "      <td>8842281e1d1347389f2ab93d60773d4d</td>\n",
       "      <td>18296097</td>\n",
       "      <td>bc9cff98f54be3b2b8c5b34598a7546c</td>\n",
       "      <td>5</td>\n",
       "      <td>NaN</td>\n",
       "      <td>2015-09-21 15:16:57+00:00</td>\n",
       "      <td>NaN</td>\n",
       "      <td>3304</td>\n",
       "      <td>NaN</td>\n",
       "      <td>0.574139</td>\n",
       "    </tr>\n",
       "    <tr>\n",
       "      <th>2</th>\n",
       "      <td>8842281e1d1347389f2ab93d60773d4d</td>\n",
       "      <td>817720</td>\n",
       "      <td>75fd46041466ceb406b7fd69b089b9c5</td>\n",
       "      <td>5</td>\n",
       "      <td>NaN</td>\n",
       "      <td>2015-05-21 04:29:23+00:00</td>\n",
       "      <td>NaN</td>\n",
       "      <td>3428</td>\n",
       "      <td>NaN</td>\n",
       "      <td>0.574139</td>\n",
       "    </tr>\n",
       "    <tr>\n",
       "      <th>3</th>\n",
       "      <td>8842281e1d1347389f2ab93d60773d4d</td>\n",
       "      <td>502362</td>\n",
       "      <td>be1ad51fa3d519e39050d2a61ffab534</td>\n",
       "      <td>5</td>\n",
       "      <td>NaN</td>\n",
       "      <td>2015-04-01 03:00:12+00:00</td>\n",
       "      <td>NaN</td>\n",
       "      <td>3478</td>\n",
       "      <td>NaN</td>\n",
       "      <td>0.574139</td>\n",
       "    </tr>\n",
       "    <tr>\n",
       "      <th>4</th>\n",
       "      <td>8842281e1d1347389f2ab93d60773d4d</td>\n",
       "      <td>1969280</td>\n",
       "      <td>5809d5592ee32745e048a9c67ac27100</td>\n",
       "      <td>5</td>\n",
       "      <td>NaN</td>\n",
       "      <td>2014-11-08 16:56:58+00:00</td>\n",
       "      <td>NaN</td>\n",
       "      <td>3621</td>\n",
       "      <td>NaN</td>\n",
       "      <td>0.574139</td>\n",
       "    </tr>\n",
       "  </tbody>\n",
       "</table>\n",
       "</div>"
      ],
      "text/plain": [
       "                            user_id   book_id  \\\n",
       "0  8842281e1d1347389f2ab93d60773d4d  23310161   \n",
       "1  8842281e1d1347389f2ab93d60773d4d  18296097   \n",
       "2  8842281e1d1347389f2ab93d60773d4d    817720   \n",
       "3  8842281e1d1347389f2ab93d60773d4d    502362   \n",
       "4  8842281e1d1347389f2ab93d60773d4d   1969280   \n",
       "\n",
       "                          review_id  rating       review_text_incomplete  \\\n",
       "0  f4b4b050f4be00e9283c92a814af2670       4  Fun sequel to the original.   \n",
       "1  bc9cff98f54be3b2b8c5b34598a7546c       5                          NaN   \n",
       "2  75fd46041466ceb406b7fd69b089b9c5       5                          NaN   \n",
       "3  be1ad51fa3d519e39050d2a61ffab534       5                          NaN   \n",
       "4  5809d5592ee32745e048a9c67ac27100       5                          NaN   \n",
       "\n",
       "                  date_added  n_votes  review_age     processed_review  \\\n",
       "0  2015-11-17 19:37:35+00:00      7.0        3247  fun sequel original   \n",
       "1  2015-09-21 15:16:57+00:00      NaN        3304                  NaN   \n",
       "2  2015-05-21 04:29:23+00:00      NaN        3428                  NaN   \n",
       "3  2015-04-01 03:00:12+00:00      NaN        3478                  NaN   \n",
       "4  2014-11-08 16:56:58+00:00      NaN        3621                  NaN   \n",
       "\n",
       "   sentiment  \n",
       "0   0.680800  \n",
       "1   0.574139  \n",
       "2   0.574139  \n",
       "3   0.574139  \n",
       "4   0.574139  "
      ]
     },
     "execution_count": 12,
     "metadata": {},
     "output_type": "execute_result"
    }
   ],
   "source": [
    "df_interactions_final_merged.head()"
   ]
  },
  {
   "cell_type": "code",
   "execution_count": 4,
   "metadata": {},
   "outputs": [],
   "source": [
    "book_to_index = {book_id: i for i, book_id in enumerate(df_children_books_final_encoded['book_id'].unique())}\n",
    "num_books = len(book_to_index)\n",
    "\n",
    "user_to_index = {user_id: i for i, user_id in enumerate(df_interactions_final_merged['user_id'].unique())}\n",
    "num_users = len(user_to_index)\n",
    "\n",
    "# Map book IDs in interactions to indices\n",
    "df_interactions_final_merged['book_index'] = df_interactions_final_merged['book_id'].map(book_to_index)"
   ]
  },
  {
   "cell_type": "code",
   "execution_count": 5,
   "metadata": {},
   "outputs": [],
   "source": [
    "# Sort interactions by user and timestamp to maintain chronological order\n",
    "user_book_interactions = df_interactions_final_merged.sort_values(by=['user_id', 'date_added'])\n",
    "\n",
    "# Create sequences of interactions for each user\n",
    "user_sequences = user_book_interactions.groupby('user_id')['book_index'].apply(list).tolist()"
   ]
  },
  {
   "cell_type": "code",
   "execution_count": 10,
   "metadata": {},
   "outputs": [
    {
     "name": "stdout",
     "output_type": "stream",
     "text": [
      "111158\n"
     ]
    }
   ],
   "source": [
    "print(num_books)"
   ]
  },
  {
   "cell_type": "code",
   "execution_count": 8,
   "metadata": {},
   "outputs": [
    {
     "name": "stdout",
     "output_type": "stream",
     "text": [
      "Epoch 1/10\n"
     ]
    },
    {
     "ename": "ValueError",
     "evalue": "in user code:\n\n    File \"/Users/seanpbteo/opt/anaconda3/lib/python3.9/site-packages/keras/engine/training.py\", line 1051, in train_function  *\n        return step_function(self, iterator)\n    File \"/Users/seanpbteo/opt/anaconda3/lib/python3.9/site-packages/keras/engine/training.py\", line 1040, in step_function  **\n        outputs = model.distribute_strategy.run(run_step, args=(data,))\n    File \"/Users/seanpbteo/opt/anaconda3/lib/python3.9/site-packages/keras/engine/training.py\", line 1030, in run_step  **\n        outputs = model.train_step(data)\n    File \"/Users/seanpbteo/opt/anaconda3/lib/python3.9/site-packages/keras/engine/training.py\", line 889, in train_step\n        y_pred = self(x, training=True)\n    File \"/Users/seanpbteo/opt/anaconda3/lib/python3.9/site-packages/keras/utils/traceback_utils.py\", line 67, in error_handler\n        raise e.with_traceback(filtered_tb) from None\n    File \"/Users/seanpbteo/opt/anaconda3/lib/python3.9/site-packages/keras/engine/input_spec.py\", line 264, in assert_input_compatibility\n        raise ValueError(f'Input {input_index} of layer \"{layer_name}\" is '\n\n    ValueError: Input 0 of layer \"sequential_2\" is incompatible with the layer: expected shape=(None, 10), found shape=(None, 1634)\n",
     "output_type": "error",
     "traceback": [
      "\u001b[0;31m---------------------------------------------------------------------------\u001b[0m",
      "\u001b[0;31mValueError\u001b[0m                                Traceback (most recent call last)",
      "Input \u001b[0;32mIn [8]\u001b[0m, in \u001b[0;36m<cell line: 20>\u001b[0;34m()\u001b[0m\n\u001b[1;32m     18\u001b[0m labels \u001b[38;5;241m=\u001b[39m np\u001b[38;5;241m.\u001b[39marray(labels)\n\u001b[1;32m     19\u001b[0m model\u001b[38;5;241m.\u001b[39mcompile(optimizer\u001b[38;5;241m=\u001b[39mAdam(learning_rate), loss\u001b[38;5;241m=\u001b[39m\u001b[38;5;124m'\u001b[39m\u001b[38;5;124mbinary_crossentropy\u001b[39m\u001b[38;5;124m'\u001b[39m, metrics\u001b[38;5;241m=\u001b[39m[\u001b[38;5;124m'\u001b[39m\u001b[38;5;124mAUC\u001b[39m\u001b[38;5;124m'\u001b[39m])\n\u001b[0;32m---> 20\u001b[0m \u001b[43mmodel\u001b[49m\u001b[38;5;241;43m.\u001b[39;49m\u001b[43mfit\u001b[49m\u001b[43m(\u001b[49m\u001b[43mpadded_sequences\u001b[49m\u001b[43m,\u001b[49m\u001b[43m \u001b[49m\u001b[43mlabels\u001b[49m\u001b[43m,\u001b[49m\u001b[43m \u001b[49m\u001b[43mepochs\u001b[49m\u001b[38;5;241;43m=\u001b[39;49m\u001b[38;5;241;43m10\u001b[39;49m\u001b[43m,\u001b[49m\u001b[43m \u001b[49m\u001b[43mbatch_size\u001b[49m\u001b[38;5;241;43m=\u001b[39;49m\u001b[38;5;241;43m32\u001b[39;49m\u001b[43m,\u001b[49m\u001b[43m \u001b[49m\u001b[43mvalidation_split\u001b[49m\u001b[38;5;241;43m=\u001b[39;49m\u001b[38;5;241;43m0.2\u001b[39;49m\u001b[43m)\u001b[49m\n\u001b[1;32m     25\u001b[0m \u001b[38;5;66;03m# top_5_recommendations for user\u001b[39;00m\n\u001b[1;32m     26\u001b[0m \u001b[38;5;28;01mdef\u001b[39;00m \u001b[38;5;21mrecommend\u001b[39m(user_history, top_n\u001b[38;5;241m=\u001b[39m\u001b[38;5;241m5\u001b[39m):\n\u001b[1;32m     27\u001b[0m     \u001b[38;5;66;03m# Pad user history to match the sequence length expected by the model\u001b[39;00m\n",
      "File \u001b[0;32m~/opt/anaconda3/lib/python3.9/site-packages/keras/utils/traceback_utils.py:67\u001b[0m, in \u001b[0;36mfilter_traceback.<locals>.error_handler\u001b[0;34m(*args, **kwargs)\u001b[0m\n\u001b[1;32m     65\u001b[0m \u001b[38;5;28;01mexcept\u001b[39;00m \u001b[38;5;167;01mException\u001b[39;00m \u001b[38;5;28;01mas\u001b[39;00m e:  \u001b[38;5;66;03m# pylint: disable=broad-except\u001b[39;00m\n\u001b[1;32m     66\u001b[0m   filtered_tb \u001b[38;5;241m=\u001b[39m _process_traceback_frames(e\u001b[38;5;241m.\u001b[39m__traceback__)\n\u001b[0;32m---> 67\u001b[0m   \u001b[38;5;28;01mraise\u001b[39;00m e\u001b[38;5;241m.\u001b[39mwith_traceback(filtered_tb) \u001b[38;5;28;01mfrom\u001b[39;00m \u001b[38;5;28mNone\u001b[39m\n\u001b[1;32m     68\u001b[0m \u001b[38;5;28;01mfinally\u001b[39;00m:\n\u001b[1;32m     69\u001b[0m   \u001b[38;5;28;01mdel\u001b[39;00m filtered_tb\n",
      "File \u001b[0;32m/var/folders/xy/8rz0nq295qgbl2mbhxxfq05m0000gn/T/__autograph_generated_file60oaqztj.py:15\u001b[0m, in \u001b[0;36mouter_factory.<locals>.inner_factory.<locals>.tf__train_function\u001b[0;34m(iterator)\u001b[0m\n\u001b[1;32m     13\u001b[0m \u001b[38;5;28;01mtry\u001b[39;00m:\n\u001b[1;32m     14\u001b[0m     do_return \u001b[38;5;241m=\u001b[39m \u001b[38;5;28;01mTrue\u001b[39;00m\n\u001b[0;32m---> 15\u001b[0m     retval_ \u001b[38;5;241m=\u001b[39m ag__\u001b[38;5;241m.\u001b[39mconverted_call(ag__\u001b[38;5;241m.\u001b[39mld(step_function), (ag__\u001b[38;5;241m.\u001b[39mld(\u001b[38;5;28mself\u001b[39m), ag__\u001b[38;5;241m.\u001b[39mld(iterator)), \u001b[38;5;28;01mNone\u001b[39;00m, fscope)\n\u001b[1;32m     16\u001b[0m \u001b[38;5;28;01mexcept\u001b[39;00m:\n\u001b[1;32m     17\u001b[0m     do_return \u001b[38;5;241m=\u001b[39m \u001b[38;5;28;01mFalse\u001b[39;00m\n",
      "\u001b[0;31mValueError\u001b[0m: in user code:\n\n    File \"/Users/seanpbteo/opt/anaconda3/lib/python3.9/site-packages/keras/engine/training.py\", line 1051, in train_function  *\n        return step_function(self, iterator)\n    File \"/Users/seanpbteo/opt/anaconda3/lib/python3.9/site-packages/keras/engine/training.py\", line 1040, in step_function  **\n        outputs = model.distribute_strategy.run(run_step, args=(data,))\n    File \"/Users/seanpbteo/opt/anaconda3/lib/python3.9/site-packages/keras/engine/training.py\", line 1030, in run_step  **\n        outputs = model.train_step(data)\n    File \"/Users/seanpbteo/opt/anaconda3/lib/python3.9/site-packages/keras/engine/training.py\", line 889, in train_step\n        y_pred = self(x, training=True)\n    File \"/Users/seanpbteo/opt/anaconda3/lib/python3.9/site-packages/keras/utils/traceback_utils.py\", line 67, in error_handler\n        raise e.with_traceback(filtered_tb) from None\n    File \"/Users/seanpbteo/opt/anaconda3/lib/python3.9/site-packages/keras/engine/input_spec.py\", line 264, in assert_input_compatibility\n        raise ValueError(f'Input {input_index} of layer \"{layer_name}\" is '\n\n    ValueError: Input 0 of layer \"sequential_2\" is incompatible with the layer: expected shape=(None, 10), found shape=(None, 1634)\n"
     ]
    }
   ],
   "source": [
    "# Labels (Assume binary classification for simplicity)\n",
    "# 1 if the user interacts with the item, else 0\n",
    "labels = np.random.randint(2, size=num_users)\n",
    "\n",
    "# Model Definition\n",
    "model = Sequential([\n",
    "    # Embedding layer for item embeddings\n",
    "    Embedding(input_dim=num_books + 1, output_dim=embedding_dim, input_length=sequence_length),\n",
    "    # Recurrent layer (LSTM)\n",
    "    LSTM(hidden_units, return_sequences=False),\n",
    "    # FC layer to output probability of interaction\n",
    "    Dense(1, activation='sigmoid')\n",
    "])\n",
    "\n",
    "padded_sequences = pad_sequences(user_sequences, padding='post', dtype='float32')\n",
    "\n",
    "# Step 2: Convert labels to numpy array if they are in a list\n",
    "labels = np.array(labels)\n",
    "model.compile(optimizer=Adam(learning_rate), loss='binary_crossentropy', metrics=['AUC'])\n",
    "model.fit(padded_sequences, labels, epochs=10, batch_size=32, validation_split=0.2)\n",
    "\n",
    "\n",
    "\n",
    "\n",
    "# top_5_recommendations for user\n",
    "def recommend(user_history, top_n=5):\n",
    "    # Pad user history to match the sequence length expected by the model\n",
    "    user_history_padded = pad_sequences([user_history], maxlen=sequence_length, padding='pre')\n",
    "    # Predict interaction probabilities for each item\n",
    "    scores = model.predict(user_history_padded)[0]\n",
    "    # Rank items by their scores and get top 5 items\n",
    "    recommended_items = np.argsort(scores)[-top_n:][::-1]\n",
    "    return recommended_items\n",
    "\n"
   ]
  },
  {
   "cell_type": "code",
   "execution_count": null,
   "metadata": {},
   "outputs": [],
   "source": [
    "user_history = [np.random.randint(1, num_books) for _ in range(sequence_length)]\n",
    "recommended_items = recommend(user_history)\n",
    "print(\"Recommended items:\", recommended_items)"
   ]
  }
 ],
 "metadata": {
  "kernelspec": {
   "display_name": "base",
   "language": "python",
   "name": "python3"
  },
  "language_info": {
   "codemirror_mode": {
    "name": "ipython",
    "version": 3
   },
   "file_extension": ".py",
   "mimetype": "text/x-python",
   "name": "python",
   "nbconvert_exporter": "python",
   "pygments_lexer": "ipython3",
   "version": "3.9.12"
  }
 },
 "nbformat": 4,
 "nbformat_minor": 2
}
